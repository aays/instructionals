{
 "cells": [
  {
   "cell_type": "markdown",
   "metadata": {},
   "source": [
    "---\n",
    "# Exercise 6: Looping through a `GFF`\n",
    "---\n",
    "The purpose of Exercise 4 was to get you to understand how to translate a single gene from a GFF. But more often  you will be looping through a GFF file translating many genes. In this exercise, you will be looping through multiple genes in a GFF file and extract the sequences. \n",
    "\n",
    "### Instructions:\n",
    " - Loop through the GFF file `Chlamydomonas.gff` and extract the DNA coding sequence for each of the 5 genes and store them in a dictionary called **`coding_sequences`**\n",
    " - The key for each item should be the gene ID from the attributes column (excluding the 'ID=' and any possible the line breaks)\n",
    " - The key should refer to a DNA coding sequence in the positive frame (*i.e.* if the CDS is on the negative strand you have to reverse complement it). The sequence can be stored as a string or SeqObject but not a `SeqRecord`.\n",
    " \n",
    "**Hints:**\n",
    " - You'll have to use the `.split` method from Lab 2 to extract columns from the table.\n",
    " - There are many ways of doing this task.\n",
    " - This is the most involved question you've been asked to do. Write out all the steps that would be necessary and then convert them to Python one by one.  \n",
    " - How can you test if you have an intact ORF?"
   ]
  },
  {
   "cell_type": "markdown",
   "metadata": {},
   "source": [
    "--- \n",
    "Solution:\n",
    "\n",
    "Given that there are multiple levels to this question, let's try to sequentially work through each of the instructions above.\n",
    "\n",
    "1. Loop through the GFF file `Chlamydomonas.gff` and extract the DNA coding sequence for each of the 5 genes and store them in a dictionary called **`coding_sequences`**\n",
    "\n",
    "Given that we're looping through a tab-separated file, we can immediately tell we'll be _looping through each line of the file_ and _using the `line.split` operation_. 'For each line of the file' is a tip off that we should use `file.readlines`, not `file.read`.\n",
    "\n",
    "First, let's make sure that `line.split` is indeed the way to go. We can use a for loop and `break` to just print out the first line of the file, like so:"
   ]
  },
  {
   "cell_type": "code",
   "execution_count": 1,
   "metadata": {},
   "outputs": [
    {
     "name": "stdout",
     "output_type": "stream",
     "text": [
      "chromosome_1\tphytozome8_0\tgene\t333572\t340433\t.\t+\t.\tID=Cre01.g002050\n",
      "\n",
      "['chromosome_1', 'phytozome8_0', 'gene', '333572', '340433', '.', '+', '.', 'ID=Cre01.g002050']\n"
     ]
    }
   ],
   "source": [
    "gff = open('Chlamydomonas.gff').readlines() # tacked on .readlines(), not .read()\n",
    "\n",
    "for line in gff: # looping through lines\n",
    "    print(line)\n",
    "    print(line.split())\n",
    "    break # stops the loop after the first iteration"
   ]
  },
  {
   "cell_type": "markdown",
   "metadata": {},
   "source": [
    "This looks good. Let's look at the next step we have to take.\n",
    "\n",
    "1. Loop through the GFF file `Chlamydomonas.gff` and _extract the DNA coding sequence for each of the 5 genes and store them in a dictionary_ called **`coding_sequences`**\n",
    "\n",
    "We have to get the CDS for each of the 5 genes in the file, and store them in a dictionary. Two things to pick up here - one is that 'for each' implies we'll be looping through this. _Remember that you should never have to manually do tasks such as retrieving the same chunk of information from multiple lines._\n",
    "\n",
    "The second is that we're storing CDSs for different genes in a dictionary. The second instruction clarifies what the keys will be:\n",
    "\n",
    "- The key for each item should be the gene ID from the attributes column (excluding the 'ID=' and any possible the line breaks)\n",
    "\n",
    "What might immediately spring to mind is the `.split` method once again, except this time for a string. Alternatively, we could use string indexing to chop away the first three characters of this string. Let's go with the second since it might be easier. First, to make sure we don't mess up the Python indexing, let's actually do a quick test."
   ]
  },
  {
   "cell_type": "code",
   "execution_count": 2,
   "metadata": {},
   "outputs": [
    {
     "name": "stdout",
     "output_type": "stream",
     "text": [
      "Cre01.g002050\n"
     ]
    }
   ],
   "source": [
    "test = 'ID=Cre01.g002050'\n",
    "\n",
    "print(test[3:])"
   ]
  },
  {
   "cell_type": "markdown",
   "metadata": {},
   "source": [
    "That looks like the gene name! Remember that you can always make a new cell and do quick tests like the one above for virtually anything.\n",
    "\n",
    "Now, let's get started with our dictionary. We want to:\n",
    "\n",
    "    create dictionary\n",
    "    \n",
    "    for each line in the file:\n",
    "        split the line\n",
    "        get the gene name\n",
    "        remove the 'ID=' from the gene name\n",
    "        save the gene name as a key in our dictionary\n",
    "        \n",
    "Let's convert the pseudocode here to code."
   ]
  },
  {
   "cell_type": "code",
   "execution_count": 3,
   "metadata": {},
   "outputs": [
    {
     "name": "stdout",
     "output_type": "stream",
     "text": [
      "{'Cre01.g002050': '', 'Cre01.g002100': '', 'Cre01.g002150': '', 'Cre01.g002200': '', 'g51': ''}\n"
     ]
    }
   ],
   "source": [
    "coding_sequences = {} # creates empty dict\n",
    "\n",
    "for line in gff:\n",
    "    line_list = line.split()\n",
    "    gene_name = line_list[-1] # we saw above that it's the last element of the line\n",
    "    gene_name = gene_name[3:] # this removes 'ID='\n",
    "    coding_sequences[gene_name] = '' # this will be a string - let's put an empty one for now\n",
    "    \n",
    "print(coding_sequences)"
   ]
  },
  {
   "cell_type": "markdown",
   "metadata": {},
   "source": [
    "Our dictionary is all ready to go. Notice how we saved `''` and not `' '` to it - careful not to introduce spaces where you don't want them! Let's make sure `''` is actually empty:"
   ]
  },
  {
   "cell_type": "code",
   "execution_count": 4,
   "metadata": {},
   "outputs": [
    {
     "name": "stdout",
     "output_type": "stream",
     "text": [
      "0 4\n"
     ]
    }
   ],
   "source": [
    "print(len(''), # should be 0\n",
    "      len('' + 'test')) # should be 4"
   ]
  },
  {
   "cell_type": "markdown",
   "metadata": {},
   "source": [
    "Looks good. What's next?\n",
    "\n",
    "3. The key should refer to a DNA coding sequence in the positive frame (*i.e.* if the CDS is on the negative strand you have to reverse complement it). The sequence can be stored as a string or SeqObject but not a `SeqRecord`.\n",
    "\n",
    "So this is tougher - we want to get the CDS of each gene, of which we know there are multiple snippets, looking at the file/example from exercise 5. Second, if the gene is on the reverse complement, we have to account for that as well.\n",
    "\n",
    "First, let's load the sequence data into our workspace with our good friend SeqIO. Since this file only contains one record, we can use `SeqIO.read()`:"
   ]
  },
  {
   "cell_type": "code",
   "execution_count": 5,
   "metadata": {},
   "outputs": [],
   "source": [
    "from Bio import SeqIO\n",
    "\n",
    "chlamy_fasta = SeqIO.read(open('Chlamydomonas.chromosome_1.fasta'), 'fasta')"
   ]
  },
  {
   "cell_type": "markdown",
   "metadata": {},
   "source": [
    "Let's peek at our sequence, just to get a sense of what we're working with."
   ]
  },
  {
   "cell_type": "code",
   "execution_count": 6,
   "metadata": {},
   "outputs": [
    {
     "name": "stdout",
     "output_type": "stream",
     "text": [
      "400000\n"
     ]
    }
   ],
   "source": [
    "print(len(chlamy_fasta.seq))"
   ]
  },
  {
   "cell_type": "code",
   "execution_count": 7,
   "metadata": {},
   "outputs": [
    {
     "data": {
      "text/plain": [
       "Seq('GGGAACCAGCTACTAGATGGTTCGATTAGT', SingleLetterAlphabet())"
      ]
     },
     "execution_count": 7,
     "metadata": {},
     "output_type": "execute_result"
    }
   ],
   "source": [
    "chlamy_fasta.seq[0:30]"
   ]
  },
  {
   "cell_type": "markdown",
   "metadata": {},
   "source": [
    "Looks good. Now that we have that loaded in, let's try to write pseudocode for our next task.\n",
    "\n",
    "Once again, we're looping through the file to get coordinates - that makes it our outermost for loop. For each line, if we match a gene name in our dictionary, we want to grab to corresponding sequence from the fasta file, being mindful, of course, of Python's weird 0-indexing.\n",
    "\n",
    "Although - bear in mind that there are countless approaches to this, and what I have below is far from the only one (it's not even the same as how I solved this the first time).\n",
    "\n",
    "    for each line in the file:\n",
    "        split the line\n",
    "        get the gene name\n",
    "        get the type (CDS, exon, intron, etc) from that line\n",
    "        if this line represents a CDS:\n",
    "            get the coordinates\n",
    "            get the sequence at those coordinates by indexing our SeqRecord\n",
    "            add on that sequence to the corresponding dictionary entry\n",
    "\n",
    "Let's convert this into code. It would be helpful to print out the line again:"
   ]
  },
  {
   "cell_type": "code",
   "execution_count": 8,
   "metadata": {},
   "outputs": [
    {
     "name": "stdout",
     "output_type": "stream",
     "text": [
      "['chromosome_1', 'phytozome8_0', 'gene', '333572', '340433', '.', '+', '.', 'ID=Cre01.g002050']\n"
     ]
    }
   ],
   "source": [
    "for line in gff:\n",
    "    print(line.split())\n",
    "    break"
   ]
  },
  {
   "cell_type": "code",
   "execution_count": 9,
   "metadata": {},
   "outputs": [],
   "source": [
    "for line in gff:\n",
    "    line_list = line.split()\n",
    "    gene_name = line_list[-1][3:] # grabs gene name and chops off 'ID='\n",
    "    line_type = line_list[2] # using coords from above\n",
    "    if line_type == 'CDS':\n",
    "        region_start = int(line_list[3]) - 1 # subtracting 1 for Python indexing\n",
    "        region_end = int(line_list[4]) # remember line indices are strings\n",
    "        sequence_snippet = chlamy_fasta.seq[region_start:region_end] # indexing sequence\n",
    "        coding_sequences[gene_name] = coding_sequences[gene_name] + sequence_snippet # adds on\n",
    "        # this last line is similar to counter += 1, or counter = counter + 1"
   ]
  },
  {
   "cell_type": "markdown",
   "metadata": {},
   "source": [
    "Let's look at our dictionary:"
   ]
  },
  {
   "cell_type": "code",
   "execution_count": 10,
   "metadata": {},
   "outputs": [
    {
     "data": {
      "text/plain": [
       "{'Cre01.g002050': Seq('ATGTCTCGGCTACCGGTGCCGCTGCCTGCCGTGGCCGCAGCGCTCGGCGTGGCC...TAG', SingleLetterAlphabet()),\n",
       " 'Cre01.g002100': Seq('ATGCGTAGAGGTAGAGCTGGAGCCGGAGCTGCGGGTGGCCAGCACAAGAGCGCC...TGA', SingleLetterAlphabet()),\n",
       " 'Cre01.g002150': Seq('CTATCCCGACTCCATGGCCGCCTCACCACCCGCGGCCCCAACCCCTTGCACCAT...CAT', SingleLetterAlphabet()),\n",
       " 'Cre01.g002200': Seq('ATGGCTGACGACTATGATGAGGCTGGCGGGATGGAGGAGGATATTGGCATGGGC...TGA', SingleLetterAlphabet()),\n",
       " 'g51': Seq('TCACAAGCGCCGCAACTGCTGCAGGGGACTGAACGGCGAGGCCACGCCGCCGCC...CAT', SingleLetterAlphabet())}"
      ]
     },
     "execution_count": 10,
     "metadata": {},
     "output_type": "execute_result"
    }
   ],
   "source": [
    "coding_sequences"
   ]
  },
  {
   "cell_type": "markdown",
   "metadata": {},
   "source": [
    "Two things to note about this:\n",
    "\n",
    "1. Those all look like sequences - hooray!\n",
    "2. What do we expect a CDS to look like? Notice how three of them start with ATG!\n",
    "\n",
    "However, we haven't accounted for the reverse complement yet. Even if we'd forgotten about that for a moment, it's evident from what we see above - two of our sequences don't start with ATG.\n",
    "\n",
    "Now for our final task - reverse complementing the sequences on the negative strand. There's multiple ways we could do this as well, not to mention ways it could have been included in the for loop above. I personally like the idea of making a dictionary of our own that contains gene names and the strands they're on - we can easily do that by copy pasting and modifying the above code."
   ]
  },
  {
   "cell_type": "code",
   "execution_count": 11,
   "metadata": {},
   "outputs": [
    {
     "name": "stdout",
     "output_type": "stream",
     "text": [
      "{'Cre01.g002050': '+', 'Cre01.g002100': '+', 'Cre01.g002150': '-', 'Cre01.g002200': '+', 'g51': '-'}\n"
     ]
    }
   ],
   "source": [
    "strands = {}\n",
    "\n",
    "for line in gff:\n",
    "    line_list = line.split()\n",
    "    gene_name = line_list[-1][3:] # grabs gene name and chops off 'ID='\n",
    "    strand = line_list[6] # using coords from above\n",
    "    strands[gene_name] = strand # saves orientation to our new dictionary\n",
    "    \n",
    "print(strands)"
   ]
  },
  {
   "cell_type": "markdown",
   "metadata": {},
   "source": [
    "Now that we have this information, we could just eyeball the output above and reverse complement the corresponding genes in our other dictionary. However, since the keys are the same, we could also exploit that in a for loop."
   ]
  },
  {
   "cell_type": "code",
   "execution_count": 12,
   "metadata": {},
   "outputs": [
    {
     "data": {
      "text/plain": [
       "{'Cre01.g002050': Seq('ATGTCTCGGCTACCGGTGCCGCTGCCTGCCGTGGCCGCAGCGCTCGGCGTGGCC...TAG', SingleLetterAlphabet()),\n",
       " 'Cre01.g002100': Seq('ATGCGTAGAGGTAGAGCTGGAGCCGGAGCTGCGGGTGGCCAGCACAAGAGCGCC...TGA', SingleLetterAlphabet()),\n",
       " 'Cre01.g002150': Seq('ATGGTCTCGTGCCAAAACAGCAAGACATTAACATCACCTCGCTCCGCCTTGAAA...TAG', SingleLetterAlphabet()),\n",
       " 'Cre01.g002200': Seq('ATGGCTGACGACTATGATGAGGCTGGCGGGATGGAGGAGGATATTGGCATGGGC...TGA', SingleLetterAlphabet()),\n",
       " 'g51': Seq('ATGTCCCCGCGGCGACATGCCCTTCCGCTCCTGCTGGCGGCCGTGGCGGGAGGG...TGA', SingleLetterAlphabet())}"
      ]
     },
     "execution_count": 12,
     "metadata": {},
     "output_type": "execute_result"
    }
   ],
   "source": [
    "for gene in coding_sequences.keys():\n",
    "    if strands[gene] == '-':\n",
    "        coding_sequences[gene] = coding_sequences[gene].reverse_complement()\n",
    "        \n",
    "coding_sequences"
   ]
  },
  {
   "cell_type": "markdown",
   "metadata": {},
   "source": [
    "There we go! All of our sequences start with ATG. Of course, we didn't need to go through the process of making a second dictionary - simply looking at the output from two cells above and manually doing it for those two sequences would have been fine too.\n",
    "\n",
    "Lastly, a clever way to check with certainty that these are indeed CDSs:"
   ]
  },
  {
   "cell_type": "code",
   "execution_count": 13,
   "metadata": {},
   "outputs": [
    {
     "name": "stdout",
     "output_type": "stream",
     "text": [
      "M *\n",
      "M *\n",
      "M *\n",
      "M *\n",
      "M *\n"
     ]
    }
   ],
   "source": [
    "for gene in coding_sequences.keys():\n",
    "    translation = coding_sequences[gene].translate() # translate the CDS! (don't overwrite dict, however)\n",
    "    start = translation[0]\n",
    "    end = translation[-1]\n",
    "    print(start, end)"
   ]
  },
  {
   "cell_type": "markdown",
   "metadata": {},
   "source": [
    "Notice how each sequence not only starts with a methionine; it also ends with a stop codon. Neat!\n",
    "\n",
    "For clarity, here's the full solution below without any comments:"
   ]
  },
  {
   "cell_type": "code",
   "execution_count": 14,
   "metadata": {},
   "outputs": [
    {
     "data": {
      "text/plain": [
       "{'Cre01.g002050': Seq('ATGTCTCGGCTACCGGTGCCGCTGCCTGCCGTGGCCGCAGCGCTCGGCGTGGCC...TAG', SingleLetterAlphabet()),\n",
       " 'Cre01.g002100': Seq('ATGCGTAGAGGTAGAGCTGGAGCCGGAGCTGCGGGTGGCCAGCACAAGAGCGCC...TGA', SingleLetterAlphabet()),\n",
       " 'Cre01.g002150': Seq('ATGGTCTCGTGCCAAAACAGCAAGACATTAACATCACCTCGCTCCGCCTTGAAA...TAG', SingleLetterAlphabet()),\n",
       " 'Cre01.g002200': Seq('ATGGCTGACGACTATGATGAGGCTGGCGGGATGGAGGAGGATATTGGCATGGGC...TGA', SingleLetterAlphabet()),\n",
       " 'g51': Seq('ATGTCCCCGCGGCGACATGCCCTTCCGCTCCTGCTGGCGGCCGTGGCGGGAGGG...TGA', SingleLetterAlphabet())}"
      ]
     },
     "execution_count": 14,
     "metadata": {},
     "output_type": "execute_result"
    }
   ],
   "source": [
    "from Bio import SeqIO\n",
    "\n",
    "gff = open('Chlamydomonas.gff').readlines()\n",
    "chlamy_fasta = SeqIO.read(open('Chlamydomonas.chromosome_1.fasta'), 'fasta')\n",
    "coding_sequences = {}\n",
    "\n",
    "for line in gff:\n",
    "    line_list = line.split()\n",
    "    gene_name = line_list[-1]\n",
    "    gene_name = gene_name[3:]\n",
    "    coding_sequences[gene_name] = ''\n",
    "    \n",
    "for line in gff:\n",
    "    line_list = line.split()\n",
    "    gene_name = line_list[-1][3:]\n",
    "    line_type = line_list[2]\n",
    "    if line_type == 'CDS':\n",
    "        region_start = int(line_list[3]) - 1\n",
    "        region_end = int(line_list[4])\n",
    "        sequence_snippet = chlamy_fasta.seq[region_start:region_end]\n",
    "        coding_sequences[gene_name] = coding_sequences[gene_name] + sequence_snippet\n",
    "        \n",
    "strands = {}\n",
    "\n",
    "for line in gff:\n",
    "    line_list = line.split()\n",
    "    gene_name = line_list[-1][3:]\n",
    "    strand = line_list[6]\n",
    "    strands[gene_name] = strand\n",
    "    \n",
    "for gene in coding_sequences.keys():\n",
    "    if strands[gene] == '-':\n",
    "        coding_sequences[gene] = coding_sequences[gene].reverse_complement()\n",
    "        \n",
    "coding_sequences"
   ]
  },
  {
   "cell_type": "markdown",
   "metadata": {},
   "source": [
    "Here's my original solution - less verbose, but possibly also less easy to understand:"
   ]
  },
  {
   "cell_type": "code",
   "execution_count": 15,
   "metadata": {},
   "outputs": [
    {
     "data": {
      "text/plain": [
       "{'Cre01.g002050': Seq('ATGTCTCGGCTACCGGTGCCGCTGCCTGCCGTGGCCGCAGCGCTCGGCGTGGCC...TAG', SingleLetterAlphabet()),\n",
       " 'Cre01.g002100': Seq('ATGCGTAGAGGTAGAGCTGGAGCCGGAGCTGCGGGTGGCCAGCACAAGAGCGCC...TGA', SingleLetterAlphabet()),\n",
       " 'Cre01.g002150': Seq('ATGGTCTCGTGCCAAAACAGCAAGACATTAACATCACCTCGCTCCGCCTTGAAA...TAG', SingleLetterAlphabet()),\n",
       " 'Cre01.g002200': Seq('ATGGCTGACGACTATGATGAGGCTGGCGGGATGGAGGAGGATATTGGCATGGGC...TGA', SingleLetterAlphabet()),\n",
       " 'g51': Seq('ATGTCCCCGCGGCGACATGCCCTTCCGCTCCTGCTGGCGGCCGTGGCGGGAGGG...TGA', SingleLetterAlphabet())}"
      ]
     },
     "execution_count": 15,
     "metadata": {},
     "output_type": "execute_result"
    }
   ],
   "source": [
    "from Bio import SeqIO\n",
    "gff = open('Chlamydomonas.gff').readlines()\n",
    "coding_sequences = {}\n",
    "chromosome_1 = SeqIO.read(open('Chlamydomonas.chromosome_1.fasta'), 'fasta')\n",
    "\n",
    "for line in gff:\n",
    "    if line.split()[2] == 'gene':\n",
    "        key = line.split()[-1][3:]\n",
    "        coding_sequences[key] = ''\n",
    "\n",
    "for key in coding_sequences.keys():\n",
    "    for line in gff:\n",
    "        sp = line.split()\n",
    "        gene_name = sp[-1][3:]\n",
    "        if gene_name == key and sp[2] == 'CDS':\n",
    "            if sp[6] == '+':\n",
    "                start = int(sp[3]) - 1\n",
    "                end = int(sp[4])\n",
    "                current_CDS = chromosome_1.seq[start:end]\n",
    "                coding_sequences[key] = coding_sequences[key] + current_CDS\n",
    "            elif sp[6] == '-':\n",
    "                start = int(sp[3]) - 1\n",
    "                end = int(sp[4])\n",
    "                current_CDS = chromosome_1.seq[start:end].reverse_complement()\n",
    "                coding_sequences[key] = current_CDS + coding_sequences[key] # add in reverse order\n",
    "                \n",
    "coding_sequences"
   ]
  }
 ],
 "metadata": {
  "kernelspec": {
   "display_name": "Python 3",
   "language": "python",
   "name": "python3"
  },
  "language_info": {
   "codemirror_mode": {
    "name": "ipython",
    "version": 3
   },
   "file_extension": ".py",
   "mimetype": "text/x-python",
   "name": "python",
   "nbconvert_exporter": "python",
   "pygments_lexer": "ipython3",
   "version": "3.6.2"
  }
 },
 "nbformat": 4,
 "nbformat_minor": 2
}
