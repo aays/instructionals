{
 "cells": [
  {
   "cell_type": "markdown",
   "metadata": {},
   "source": [
    "## Common Python Errors\n",
    "#### (and, more importantly, how to fix them)\n",
    "---\n",
    "When starting out with programming, errors can be the absolute bane of one's existence. It's an awful feeling to write a bunch of seemingly good code and then get totally stumped by some random incomprehensible error. My code looks correct! Why isn't it working the way it's supposed to??\n",
    "\n",
    "Fortunately for us, as programming languages go, Python is actually very informative when it comes to errors. The error message Python raises has a straightforward and consistent format that is easy to read once you understand how to navigate it. What this actually means is that learning how to interpret error messages can actually help us pinpoint what went wrong and immediately address it in our code.\n",
    "\n",
    "The general format of a Python error message is as follows:\n",
    "\n",
    "    IndexError                                Traceback (most recent call last)\n",
    "    <ipython-input-2-920d7b6164de> in <module>()\n",
    "    ----> 1 print(my_list[3])\n",
    "\n",
    "    IndexError: list index out of range\n",
    "\n",
    "Let's break down what each part of this means.\n",
    "\n",
    "`IndexError                                Traceback (most recent call last)`\n",
    "\n",
    "At the very top, Python tells us that this is an `IndexError`, which we'll explain below. As you become more familiar with the different types of errors, you'll find that just hearing the term `IndexError` will be enough to prime your head for the kind of error there is in your code. However, it's often not the full story, which is why Python also includes what's called a _Traceback_ pointing to the exact line of code that triggered the error.\n",
    "\n",
    "`<ipython-input-2-920d7b6164de> in <module>()`\n",
    "\n",
    "`----> 1 print(my_list[3])`\n",
    "\n",
    "On the second line, we see some Python-isms for the source code behind the error. For our purposes, this isn't something to spend too much time looking at. What's more helpful, however, is the next line, which you'll notice starts with a `---->`. This arrow points to the exact line that caused the error, and starts with its line number to boot (in this case, 1) to help make it easier for you to find in the code. (You can also toggle line numbers for a single cell in Jupyter using View -> Toggle Line numbers, or Control-M followed by L if you're a keyboard shortcut person)\n",
    "\n",
    "`IndexError: list index out of range`\n",
    "\n",
    "Finally, the error message ends off with a more detailed explanation of `IndexError`. In this case, Python's telling us that the provided 'list index [is] out of range', which - in tandem with the line of code being pointed to above - we can use to deduce that we're probably providing an incorrect index to our list there. "
   ]
  },
  {
   "cell_type": "markdown",
   "metadata": {},
   "source": [
    "Error messages are sometimes longer than this, including multiple different tracebacks. This especially happens when your error has to do with a package, like `SeqIO`. Don't be scared off by the larger number of tracebacks - it's often just Python also showing you the source code for whatever caused the error, just in case that extra information might help you figure out what went wrong. For the purposes of this course, that source code probably won't be very informative to us, so it's best to focus on the traceback that features our own code and use that to identify the source of the problem.\n",
    "\n",
    "One last thing to mention is that Jupyter code cells are run _top to bottom_ - so if there are multiple errors in your code, Python will only return an error message and traceback for the very first error. After you correct it, you might see a totally different error message pointing at a line of code further down. Don't panic! This is just Python trying to help you fix errors one at a time, and doesn't necessarily mean that fixing the first error broke something else (although it sometimes might...). In all cases, grab your detective cap and try to be patient, even if that feels like a tall order at times.\n",
    "\n",
    "For the remainder of this notebook, we'll be walking through common errors you might see, what the most common interpretations we can make of them are, and what the culprits often tend to be. These are presented as 'the simplest possible case' of the error, with the aim of presenting the logic behind why Python reports a certain error type for a given circumstance. If you see these errors in your actual code, try to think back to these 'simplest possible case' examples - ultimately, the exact same problem happening in these is happening in some way in your code, which also means they can often be resolved the same way."
   ]
  },
  {
   "cell_type": "markdown",
   "metadata": {},
   "source": [
    "### `NameError`"
   ]
  },
  {
   "cell_type": "markdown",
   "metadata": {},
   "source": [
    "This error is actually one of the easiest to correct. It's raised whenever you try to do something with an object that doesn't exist - which almost always means there is a typo in one of your variable names."
   ]
  },
  {
   "cell_type": "code",
   "execution_count": 1,
   "metadata": {},
   "outputs": [
    {
     "name": "stdout",
     "output_type": "stream",
     "text": [
      "hello\n"
     ]
    }
   ],
   "source": [
    "my_word = 'hello'\n",
    "print(my_word)"
   ]
  },
  {
   "cell_type": "code",
   "execution_count": 2,
   "metadata": {},
   "outputs": [
    {
     "ename": "NameError",
     "evalue": "name 'my_wrod' is not defined",
     "output_type": "error",
     "traceback": [
      "\u001b[0;31m---------------------------------------------------------------------------\u001b[0m",
      "\u001b[0;31mNameError\u001b[0m                                 Traceback (most recent call last)",
      "\u001b[0;32m<ipython-input-2-8e6fc5290462>\u001b[0m in \u001b[0;36m<module>\u001b[0;34m()\u001b[0m\n\u001b[0;32m----> 1\u001b[0;31m \u001b[0mprint\u001b[0m\u001b[0;34m(\u001b[0m\u001b[0mmy_wrod\u001b[0m\u001b[0;34m)\u001b[0m \u001b[0;31m# typo!\u001b[0m\u001b[0;34m\u001b[0m\u001b[0m\n\u001b[0m",
      "\u001b[0;31mNameError\u001b[0m: name 'my_wrod' is not defined"
     ]
    }
   ],
   "source": [
    "print(my_wrod) # typo!"
   ]
  },
  {
   "cell_type": "markdown",
   "metadata": {},
   "source": [
    "### `IndexError`"
   ]
  },
  {
   "cell_type": "markdown",
   "metadata": {},
   "source": [
    "All that `IndexError` boils down to is Python being asked for character/element at a certain index that doesn't actually exist. Predictably, this error only arises for objects with indices, such as strings and lists.  It's often (but not always) traced back to a for loop that is iterating over a `range()` object in order to return elements at various indices of an object."
   ]
  },
  {
   "cell_type": "code",
   "execution_count": 3,
   "metadata": {},
   "outputs": [
    {
     "name": "stdout",
     "output_type": "stream",
     "text": [
      "1 2 3\n"
     ]
    }
   ],
   "source": [
    "my_list = [1,2,3]\n",
    "print(my_list[0], my_list[1], my_list[2]) # all valid"
   ]
  },
  {
   "cell_type": "code",
   "execution_count": 4,
   "metadata": {},
   "outputs": [
    {
     "ename": "IndexError",
     "evalue": "list index out of range",
     "output_type": "error",
     "traceback": [
      "\u001b[0;31m---------------------------------------------------------------------------\u001b[0m",
      "\u001b[0;31mIndexError\u001b[0m                                Traceback (most recent call last)",
      "\u001b[0;32m<ipython-input-4-920d7b6164de>\u001b[0m in \u001b[0;36m<module>\u001b[0;34m()\u001b[0m\n\u001b[0;32m----> 1\u001b[0;31m \u001b[0mprint\u001b[0m\u001b[0;34m(\u001b[0m\u001b[0mmy_list\u001b[0m\u001b[0;34m[\u001b[0m\u001b[0;36m3\u001b[0m\u001b[0;34m]\u001b[0m\u001b[0;34m)\u001b[0m \u001b[0;31m# there is no item in the list with index 3\u001b[0m\u001b[0;34m\u001b[0m\u001b[0m\n\u001b[0m",
      "\u001b[0;31mIndexError\u001b[0m: list index out of range"
     ]
    }
   ],
   "source": [
    "print(my_list[3]) # there is no item in the list with index 3"
   ]
  },
  {
   "cell_type": "code",
   "execution_count": 5,
   "metadata": {},
   "outputs": [
    {
     "name": "stdout",
     "output_type": "stream",
     "text": [
      "lo\n"
     ]
    }
   ],
   "source": [
    "my_word = 'hello'\n",
    "print(my_word[3:5]) # 4th and 5th characters"
   ]
  },
  {
   "cell_type": "code",
   "execution_count": 6,
   "metadata": {},
   "outputs": [
    {
     "ename": "IndexError",
     "evalue": "string index out of range",
     "output_type": "error",
     "traceback": [
      "\u001b[0;31m---------------------------------------------------------------------------\u001b[0m",
      "\u001b[0;31mIndexError\u001b[0m                                Traceback (most recent call last)",
      "\u001b[0;32m<ipython-input-6-8d809bfe7348>\u001b[0m in \u001b[0;36m<module>\u001b[0;34m()\u001b[0m\n\u001b[0;32m----> 1\u001b[0;31m \u001b[0mprint\u001b[0m\u001b[0;34m(\u001b[0m\u001b[0mmy_word\u001b[0m\u001b[0;34m[\u001b[0m\u001b[0;36m12\u001b[0m\u001b[0;34m]\u001b[0m\u001b[0;34m)\u001b[0m \u001b[0;31m# we don't have a 13th character...\u001b[0m\u001b[0;34m\u001b[0m\u001b[0m\n\u001b[0m",
      "\u001b[0;31mIndexError\u001b[0m: string index out of range"
     ]
    }
   ],
   "source": [
    "print(my_word[12]) # we don't have a 13th character..."
   ]
  },
  {
   "cell_type": "markdown",
   "metadata": {},
   "source": [
    "### `AttributeError`"
   ]
  },
  {
   "cell_type": "markdown",
   "metadata": {},
   "source": [
    "This one has more to do with attributes and methods, and so it can arise for virtually any object in Python. In short, Python raises this when an attribute or method that a certain object does _not_ have is applied to that object. Let's look at an example:"
   ]
  },
  {
   "cell_type": "code",
   "execution_count": 7,
   "metadata": {},
   "outputs": [
    {
     "ename": "AttributeError",
     "evalue": "'int' object has no attribute 'append'",
     "output_type": "error",
     "traceback": [
      "\u001b[0;31m---------------------------------------------------------------------------\u001b[0m",
      "\u001b[0;31mAttributeError\u001b[0m                            Traceback (most recent call last)",
      "\u001b[0;32m<ipython-input-7-837a82157f7a>\u001b[0m in \u001b[0;36m<module>\u001b[0;34m()\u001b[0m\n\u001b[1;32m      1\u001b[0m \u001b[0mx\u001b[0m \u001b[0;34m=\u001b[0m \u001b[0;36m3\u001b[0m \u001b[0;31m# an int\u001b[0m\u001b[0;34m\u001b[0m\u001b[0m\n\u001b[0;32m----> 2\u001b[0;31m \u001b[0mx\u001b[0m\u001b[0;34m.\u001b[0m\u001b[0mappend\u001b[0m\u001b[0;34m(\u001b[0m\u001b[0;36m7\u001b[0m\u001b[0;34m)\u001b[0m \u001b[0;31m# append is for lists, not integers!\u001b[0m\u001b[0;34m\u001b[0m\u001b[0m\n\u001b[0m",
      "\u001b[0;31mAttributeError\u001b[0m: 'int' object has no attribute 'append'"
     ]
    }
   ],
   "source": [
    "x = 3 # an int\n",
    "x.append(7) # append is for lists, not integers!"
   ]
  },
  {
   "cell_type": "markdown",
   "metadata": {},
   "source": [
    "Notice how the error message at the bottom is actually quite specific to our line of code here. Instead of just generically saying 'this object doesn't have this attribute', it specifically tells us that `int` objects have no `append` method/attribute (disclaimer: it says 'attribute' for both).\n",
    "\n",
    "In tandem with the snippet of code that the traceback is pointing to, it's actually really straightforward to deduce the error. Our first thought should be 'okay, we applied a list method to an integer', and coupled with the line of code, we immediately know that `x` is an integer, not a list. This is meaningful to us because sometimes - and especially in longer bits of code - we may miss when certain objects are assigned incorrectly, and for instance could have _actually been expecting_ `x` to be a list.\n",
    "\n",
    "In sum - if an error like this happens and your object is not what it's supposed to be, follow your code backwards to where you assigned that object, and check for errors that may have led it to end up being the wrong type."
   ]
  },
  {
   "cell_type": "markdown",
   "metadata": {},
   "source": [
    "`NoneType has no attribute ____`"
   ]
  },
  {
   "cell_type": "markdown",
   "metadata": {},
   "source": [
    "This is a special case of the above error, and one that can be especially confusing to understand - which is a real problem, considering it's probably the most concerning out of the `AttributeError`s.\n",
    "\n",
    "Python has a special object called `None`, which, like the name implies, can be thought of the absence of anything else. We generally don't explicitly assign `None` to objects, but when doing something like reading in a file, an error in our code can actually slip by right by Python and cause `None`s to be saved to objects. If you see this error, take a step back and immediately look for where that object was assigned in order to spot errors. If the object is a later part of a chain of assignments, try printing out those objects in backwards order until you find where the error might be."
   ]
  },
  {
   "cell_type": "code",
   "execution_count": 8,
   "metadata": {
    "scrolled": true
   },
   "outputs": [
    {
     "ename": "AttributeError",
     "evalue": "'NoneType' object has no attribute 'split'",
     "output_type": "error",
     "traceback": [
      "\u001b[0;31m---------------------------------------------------------------------------\u001b[0m",
      "\u001b[0;31mAttributeError\u001b[0m                            Traceback (most recent call last)",
      "\u001b[0;32m<ipython-input-8-5ae640e87834>\u001b[0m in \u001b[0;36m<module>\u001b[0;34m()\u001b[0m\n\u001b[1;32m      1\u001b[0m \u001b[0mempty_object\u001b[0m \u001b[0;34m=\u001b[0m \u001b[0;32mNone\u001b[0m\u001b[0;34m\u001b[0m\u001b[0m\n\u001b[0;32m----> 2\u001b[0;31m \u001b[0mempty_object\u001b[0m\u001b[0;34m.\u001b[0m\u001b[0msplit\u001b[0m\u001b[0;34m(\u001b[0m\u001b[0;34m'\\t'\u001b[0m\u001b[0;34m)\u001b[0m\u001b[0;34m\u001b[0m\u001b[0m\n\u001b[0m",
      "\u001b[0;31mAttributeError\u001b[0m: 'NoneType' object has no attribute 'split'"
     ]
    }
   ],
   "source": [
    "empty_object = None\n",
    "empty_object.split('\\t')"
   ]
  },
  {
   "cell_type": "markdown",
   "metadata": {},
   "source": [
    "### `list`s versus `tuple`s"
   ]
  },
  {
   "cell_type": "markdown",
   "metadata": {},
   "source": [
    "This is actually another instance of an `AttributeError`, but it often throws people off because we don't really talk about `tuple` objects in this class. All this means is that at some point, you accidentally used parentheses `()` instead of square brackets `[]` to define a list."
   ]
  },
  {
   "cell_type": "code",
   "execution_count": 9,
   "metadata": {},
   "outputs": [
    {
     "name": "stdout",
     "output_type": "stream",
     "text": [
      "[1, 2, 3]\n"
     ]
    }
   ],
   "source": [
    "good_list = [1,2]\n",
    "good_list.append(3)\n",
    "print(good_list)"
   ]
  },
  {
   "cell_type": "code",
   "execution_count": 10,
   "metadata": {},
   "outputs": [
    {
     "ename": "AttributeError",
     "evalue": "'tuple' object has no attribute 'append'",
     "output_type": "error",
     "traceback": [
      "\u001b[0;31m---------------------------------------------------------------------------\u001b[0m",
      "\u001b[0;31mAttributeError\u001b[0m                            Traceback (most recent call last)",
      "\u001b[0;32m<ipython-input-10-1b3d13d9c92e>\u001b[0m in \u001b[0;36m<module>\u001b[0;34m()\u001b[0m\n\u001b[1;32m      1\u001b[0m \u001b[0mbad_list\u001b[0m \u001b[0;34m=\u001b[0m \u001b[0;34m(\u001b[0m\u001b[0;36m1\u001b[0m\u001b[0;34m,\u001b[0m\u001b[0;36m2\u001b[0m\u001b[0;34m)\u001b[0m \u001b[0;31m# uh oh - not square brackets\u001b[0m\u001b[0;34m\u001b[0m\u001b[0m\n\u001b[0;32m----> 2\u001b[0;31m \u001b[0mbad_list\u001b[0m\u001b[0;34m.\u001b[0m\u001b[0mappend\u001b[0m\u001b[0;34m(\u001b[0m\u001b[0;36m3\u001b[0m\u001b[0;34m)\u001b[0m\u001b[0;34m\u001b[0m\u001b[0m\n\u001b[0m\u001b[1;32m      3\u001b[0m \u001b[0mprint\u001b[0m\u001b[0;34m(\u001b[0m\u001b[0mbad_list\u001b[0m\u001b[0;34m)\u001b[0m\u001b[0;34m\u001b[0m\u001b[0m\n",
      "\u001b[0;31mAttributeError\u001b[0m: 'tuple' object has no attribute 'append'"
     ]
    }
   ],
   "source": [
    "bad_list = (1,2) # uh oh - not square brackets\n",
    "bad_list.append(3)\n",
    "print(bad_list)"
   ]
  },
  {
   "cell_type": "markdown",
   "metadata": {},
   "source": [
    "### `SyntaxError`\n",
    "\n",
    "Much like the name implies, this means that your syntax is off somehow. More often than not, this means you missed a colon `:` at the end of an if statement or the start of a for loop.\n",
    "\n",
    "The traceback for this is slightly different - it just tells you the line number, prints the exact line that causes the error, and uses a caret (`^`) to point at where the error happened."
   ]
  },
  {
   "cell_type": "code",
   "execution_count": 11,
   "metadata": {},
   "outputs": [
    {
     "name": "stdout",
     "output_type": "stream",
     "text": [
      "1\n",
      "2\n",
      "3\n"
     ]
    }
   ],
   "source": [
    "loop_list = [1,2,3]\n",
    "\n",
    "for number in loop_list: # this is fine\n",
    "    print(number)"
   ]
  },
  {
   "cell_type": "code",
   "execution_count": 12,
   "metadata": {},
   "outputs": [
    {
     "ename": "SyntaxError",
     "evalue": "invalid syntax (<ipython-input-12-b3c78f0aa3f2>, line 3)",
     "output_type": "error",
     "traceback": [
      "\u001b[0;36m  File \u001b[0;32m\"<ipython-input-12-b3c78f0aa3f2>\"\u001b[0;36m, line \u001b[0;32m3\u001b[0m\n\u001b[0;31m    for number in loop_list\u001b[0m\n\u001b[0m                           ^\u001b[0m\n\u001b[0;31mSyntaxError\u001b[0m\u001b[0;31m:\u001b[0m invalid syntax\n"
     ]
    }
   ],
   "source": [
    "loop_list = [1,2,3]\n",
    "\n",
    "for number in loop_list\n",
    "    print(number)"
   ]
  },
  {
   "cell_type": "markdown",
   "metadata": {},
   "source": [
    "Another common `SyntaxError` is `unexpected EOF while parsing`. This sounds scarier than it is - EOF means 'end of frame', and so 'unexpected EOF while parsing' is Python saying 'the line ended before I expected it to'. \n",
    "\n",
    "More often than not, Python's expectation is that every opened bracket/parentheses is matched with a closed one (which is why Jupyter highlights them as green or red, telling you whether they're matched or not). Therefore, this error can almost always be interpreted as your code missing a closing bracket somewhere."
   ]
  },
  {
   "cell_type": "code",
   "execution_count": 13,
   "metadata": {},
   "outputs": [
    {
     "ename": "SyntaxError",
     "evalue": "unexpected EOF while parsing (<ipython-input-13-9f71cce6c899>, line 1)",
     "output_type": "error",
     "traceback": [
      "\u001b[0;36m  File \u001b[0;32m\"<ipython-input-13-9f71cce6c899>\"\u001b[0;36m, line \u001b[0;32m1\u001b[0m\n\u001b[0;31m    my_list = [1,2\u001b[0m\n\u001b[0m                  ^\u001b[0m\n\u001b[0;31mSyntaxError\u001b[0m\u001b[0;31m:\u001b[0m unexpected EOF while parsing\n"
     ]
    }
   ],
   "source": [
    "my_list = [1,2"
   ]
  },
  {
   "cell_type": "markdown",
   "metadata": {},
   "source": [
    "Finally - and this is a different class of error, but I like to think of it as falling under syntax - improper indentation can also cause issues. Python can be surprisingly lenient with this as long as your indentation widths are consistent (although it's wise to always stick with using single tabs to denote levels of indentation)."
   ]
  },
  {
   "cell_type": "code",
   "execution_count": 14,
   "metadata": {},
   "outputs": [
    {
     "name": "stdout",
     "output_type": "stream",
     "text": [
      "1\n",
      "2\n",
      "3\n"
     ]
    }
   ],
   "source": [
    "loop_list = [1,2,3]\n",
    "\n",
    "for number in loop_list:\n",
    "    print(number)"
   ]
  },
  {
   "cell_type": "code",
   "execution_count": 15,
   "metadata": {},
   "outputs": [
    {
     "ename": "IndentationError",
     "evalue": "expected an indented block (<ipython-input-15-71432ea92ee5>, line 4)",
     "output_type": "error",
     "traceback": [
      "\u001b[0;36m  File \u001b[0;32m\"<ipython-input-15-71432ea92ee5>\"\u001b[0;36m, line \u001b[0;32m4\u001b[0m\n\u001b[0;31m    print(number)\u001b[0m\n\u001b[0m        ^\u001b[0m\n\u001b[0;31mIndentationError\u001b[0m\u001b[0;31m:\u001b[0m expected an indented block\n"
     ]
    }
   ],
   "source": [
    "loop_list = [1,2,3]\n",
    "\n",
    "for number in loop_list:\n",
    "print(number)"
   ]
  },
  {
   "cell_type": "markdown",
   "metadata": {},
   "source": [
    "Like the traceback says, Python expected there to be an indented block of code after the for loop. Notice how the caret actually points at the `t` in `print` - this is because it thought the next line would start four characters/one tab deep!"
   ]
  },
  {
   "cell_type": "markdown",
   "metadata": {},
   "source": [
    "### `TypeError`\n",
    "\n",
    "There are multiple `TypeError`s floating in the aether, but the one we usually see concerns conversion of an object from one type to another where it doesn't make sense. For instance:"
   ]
  },
  {
   "cell_type": "code",
   "execution_count": 16,
   "metadata": {},
   "outputs": [
    {
     "data": {
      "text/plain": [
       "5"
      ]
     },
     "execution_count": 16,
     "metadata": {},
     "output_type": "execute_result"
    }
   ],
   "source": [
    "number = '5' # this can be converted to an int\n",
    "int(number)"
   ]
  },
  {
   "cell_type": "code",
   "execution_count": 17,
   "metadata": {},
   "outputs": [
    {
     "ename": "TypeError",
     "evalue": "int() argument must be a string, a bytes-like object or a number, not 'list'",
     "output_type": "error",
     "traceback": [
      "\u001b[0;31m---------------------------------------------------------------------------\u001b[0m",
      "\u001b[0;31mTypeError\u001b[0m                                 Traceback (most recent call last)",
      "\u001b[0;32m<ipython-input-17-52239ad28a3e>\u001b[0m in \u001b[0;36m<module>\u001b[0;34m()\u001b[0m\n\u001b[1;32m      1\u001b[0m \u001b[0mmy_list\u001b[0m \u001b[0;34m=\u001b[0m \u001b[0;34m[\u001b[0m\u001b[0;36m1\u001b[0m\u001b[0;34m,\u001b[0m\u001b[0;36m2\u001b[0m\u001b[0;34m,\u001b[0m\u001b[0;36m3\u001b[0m\u001b[0;34m]\u001b[0m\u001b[0;34m\u001b[0m\u001b[0m\n\u001b[0;32m----> 2\u001b[0;31m \u001b[0mint\u001b[0m\u001b[0;34m(\u001b[0m\u001b[0mmy_list\u001b[0m\u001b[0;34m)\u001b[0m \u001b[0;31m# this doesn't make sense!\u001b[0m\u001b[0;34m\u001b[0m\u001b[0m\n\u001b[0m",
      "\u001b[0;31mTypeError\u001b[0m: int() argument must be a string, a bytes-like object or a number, not 'list'"
     ]
    }
   ],
   "source": [
    "my_list = [1,2,3]\n",
    "int(my_list) # this doesn't make sense!"
   ]
  },
  {
   "cell_type": "markdown",
   "metadata": {},
   "source": [
    "`TypeError` is also raised when we try to 'coerce' Python into interpreting an object as something it's not. The error messages for this are sometimes a little less helpful though, so be warned. For instance:"
   ]
  },
  {
   "cell_type": "code",
   "execution_count": 18,
   "metadata": {},
   "outputs": [
    {
     "ename": "TypeError",
     "evalue": "must be str, not int",
     "output_type": "error",
     "traceback": [
      "\u001b[0;31m---------------------------------------------------------------------------\u001b[0m",
      "\u001b[0;31mTypeError\u001b[0m                                 Traceback (most recent call last)",
      "\u001b[0;32m<ipython-input-18-b668e9c771d6>\u001b[0m in \u001b[0;36m<module>\u001b[0;34m()\u001b[0m\n\u001b[0;32m----> 1\u001b[0;31m \u001b[0;34m'2'\u001b[0m \u001b[0;34m+\u001b[0m \u001b[0;36m3\u001b[0m\u001b[0;34m\u001b[0m\u001b[0m\n\u001b[0m",
      "\u001b[0;31mTypeError\u001b[0m: must be str, not int"
     ]
    }
   ],
   "source": [
    "'2' + 3"
   ]
  },
  {
   "cell_type": "code",
   "execution_count": 19,
   "metadata": {},
   "outputs": [
    {
     "ename": "TypeError",
     "evalue": "unsupported operand type(s) for +: 'int' and 'str'",
     "output_type": "error",
     "traceback": [
      "\u001b[0;31m---------------------------------------------------------------------------\u001b[0m",
      "\u001b[0;31mTypeError\u001b[0m                                 Traceback (most recent call last)",
      "\u001b[0;32m<ipython-input-19-8fd9dcfa4f42>\u001b[0m in \u001b[0;36m<module>\u001b[0;34m()\u001b[0m\n\u001b[0;32m----> 1\u001b[0;31m \u001b[0;36m2\u001b[0m \u001b[0;34m+\u001b[0m \u001b[0;34m'3'\u001b[0m\u001b[0;34m\u001b[0m\u001b[0m\n\u001b[0m",
      "\u001b[0;31mTypeError\u001b[0m: unsupported operand type(s) for +: 'int' and 'str'"
     ]
    }
   ],
   "source": [
    "2 + '3'"
   ]
  },
  {
   "cell_type": "markdown",
   "metadata": {},
   "source": [
    "Notice how the first error says that the `3` _must_ be a string, not an integer. That's a little bizarre at first glance - `'2'` can totally be integer-ized as `2` and result in a valid line of code. It's worthwhile to remember that Python reads left to right, and in this case is making assumptions as such, so don't always take it exactly at face value.\n",
    "\n",
    "In our second code cell, we can see what happens when Python reads the integer first - note how the error message has changed."
   ]
  },
  {
   "cell_type": "markdown",
   "metadata": {},
   "source": [
    "### `ValueError`\n",
    "\n"
   ]
  },
  {
   "cell_type": "markdown",
   "metadata": {},
   "source": [
    "This can be thought of as a `TypeError`, although it has more to do with numeric operations. For our purposes, we most often see it in conversions like the one below."
   ]
  },
  {
   "cell_type": "code",
   "execution_count": 20,
   "metadata": {},
   "outputs": [
    {
     "ename": "ValueError",
     "evalue": "invalid literal for int() with base 10: 'five'",
     "output_type": "error",
     "traceback": [
      "\u001b[0;31m---------------------------------------------------------------------------\u001b[0m",
      "\u001b[0;31mValueError\u001b[0m                                Traceback (most recent call last)",
      "\u001b[0;32m<ipython-input-20-1bbfc683f4c1>\u001b[0m in \u001b[0;36m<module>\u001b[0;34m()\u001b[0m\n\u001b[1;32m      1\u001b[0m \u001b[0mnumber\u001b[0m \u001b[0;34m=\u001b[0m \u001b[0;34m'five'\u001b[0m\u001b[0;34m\u001b[0m\u001b[0m\n\u001b[0;32m----> 2\u001b[0;31m \u001b[0mint\u001b[0m\u001b[0;34m(\u001b[0m\u001b[0mnumber\u001b[0m\u001b[0;34m)\u001b[0m\u001b[0;34m\u001b[0m\u001b[0m\n\u001b[0m",
      "\u001b[0;31mValueError\u001b[0m: invalid literal for int() with base 10: 'five'"
     ]
    }
   ],
   "source": [
    "number = 'five'\n",
    "int(number)"
   ]
  },
  {
   "cell_type": "markdown",
   "metadata": {},
   "source": [
    "### `KeyError`\n",
    "\n",
    "As the name might imply, this error only arises for objects that have keys, like dictionaries or data frames. It just means that your code is asking for a key within, say, a dictionary, when that key doesn't actually exist. For instance:"
   ]
  },
  {
   "cell_type": "code",
   "execution_count": 21,
   "metadata": {},
   "outputs": [
    {
     "data": {
      "text/plain": [
       "2"
      ]
     },
     "execution_count": 21,
     "metadata": {},
     "output_type": "execute_result"
    }
   ],
   "source": [
    "my_dict = {'one': 1, 'two': 2, 'three': 3}\n",
    "my_dict['two'] # this key exists"
   ]
  },
  {
   "cell_type": "code",
   "execution_count": 22,
   "metadata": {},
   "outputs": [
    {
     "ename": "KeyError",
     "evalue": "'three hundred and ninety four'",
     "output_type": "error",
     "traceback": [
      "\u001b[0;31m---------------------------------------------------------------------------\u001b[0m",
      "\u001b[0;31mKeyError\u001b[0m                                  Traceback (most recent call last)",
      "\u001b[0;32m<ipython-input-22-3d54d01ae9d7>\u001b[0m in \u001b[0;36m<module>\u001b[0;34m()\u001b[0m\n\u001b[0;32m----> 1\u001b[0;31m \u001b[0mmy_dict\u001b[0m\u001b[0;34m[\u001b[0m\u001b[0;34m'three hundred and ninety four'\u001b[0m\u001b[0;34m]\u001b[0m \u001b[0;31m# this one doesn't\u001b[0m\u001b[0;34m\u001b[0m\u001b[0m\n\u001b[0m",
      "\u001b[0;31mKeyError\u001b[0m: 'three hundred and ninety four'"
     ]
    }
   ],
   "source": [
    "my_dict['three hundred and ninety four'] # this one doesn't"
   ]
  },
  {
   "cell_type": "markdown",
   "metadata": {},
   "source": [
    "When we see this error for a key that we expect should exist, it means that we probably forgot to define it early on. Work backwards from the offending line to see where that assignment did (or didn't) happen."
   ]
  },
  {
   "cell_type": "markdown",
   "metadata": {},
   "source": [
    "## In summary\n",
    "\n",
    "Python is quite verbose with its error messages, and is ultimately just trying to help us make sure we don't miss anything in our code. When you see an error, don't be afraid of all the red on your screen - instead, try to: \n",
    "\n",
    "1. Look at the error type + message at the bottom. What does this tell you off the bat? Is there a certain object type this error makes you think of?\n",
    "2. Even if you already know what the issue is, look at the highlighted line of code. With the combined set of clues from step 1 and the traceback, is it now possible to figure out what the issue was?\n",
    "3. If it's still hard to tell, look at the object highlighted in the traceback and try to find where else it shows up in the code prior. Is it the right type? Has it been assigned properly? Feel free to sprinkle `print` statements for other variables in your code leading up to the error - this can sometimes show you that a certain object is actually not looking like it's supposed to, thus indirectly causing your error.\n",
    "\n",
    "As a final note - if you don't have a ton of free time to outright memorize what these different error types are, I would recommend against it, period. To be completely honest, I actually had to look up what some of them were myself in putting this together. What's more helpful is always the combination of the message at the bottom coupled with the line being pointed to in the traceback most of the time anyways. \n",
    "\n",
    "Ultimately, it doesn't matter if you know the difference between `TypeError` and `ValueError` - this isn't a comp sci class and we're not testing you on this type of thing - but what does matter is that you're able to _use the error message to your advantage_ and let Python help you fix whatever problem is happening with your code.\n",
    "\n",
    "Best of luck!\n",
    "\n",
    "Ahmed"
   ]
  }
 ],
 "metadata": {
  "kernelspec": {
   "display_name": "Python 3",
   "language": "python",
   "name": "python3"
  },
  "language_info": {
   "codemirror_mode": {
    "name": "ipython",
    "version": 3
   },
   "file_extension": ".py",
   "mimetype": "text/x-python",
   "name": "python",
   "nbconvert_exporter": "python",
   "pygments_lexer": "ipython3",
   "version": "3.6.2"
  }
 },
 "nbformat": 4,
 "nbformat_minor": 2
}
