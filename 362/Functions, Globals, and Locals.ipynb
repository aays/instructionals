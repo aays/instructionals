{
 "cells": [
  {
   "cell_type": "markdown",
   "metadata": {},
   "source": [
    "## Avoiding Common Errors with Functions\n",
    "### _or_ Understanding Local and Global Variables _and_ Therefore Not Getting This Wrong on the Test\n",
    "\n",
    "---\n",
    "\n",
    "Programming functions in Python can be a bit of a double edged sword. On the one hand, it's pretty awesome when you're able to put together an effective and robust function and immediately put it to use, but at the same time, functions can also be a bit of a nightmare to debug since they're so stingy about throwing errors sometimes. Part of the problem is Python's own occasional leniency when it comes to local and global variables: often, these make us _think_ our function is doing just fine when in reality it needs substantially more tweaking before being appropriate for general use (and also appropriate as a test answer).\n",
    "\n",
    "Let's distinguish local and global variables first. As mentioned in Lab 7, _global_ variables are variables that exist in your general Python workspace:"
   ]
  },
  {
   "cell_type": "code",
   "execution_count": 1,
   "metadata": {},
   "outputs": [
    {
     "name": "stdout",
     "output_type": "stream",
     "text": [
      "5\n"
     ]
    }
   ],
   "source": [
    "x = 5\n",
    "print(x)"
   ]
  },
  {
   "cell_type": "markdown",
   "metadata": {},
   "source": [
    "Here, `x` is a global variable, in that we can perform operations on it right in a regular code cell and whatnot. It's not defined in relation to anything else, like a loop or function. \n",
    "\n",
    "A _local_ variable, on the other hand, only exists inside a special Python structure, such as a loop or a function."
   ]
  },
  {
   "cell_type": "code",
   "execution_count": 2,
   "metadata": {},
   "outputs": [
    {
     "name": "stdout",
     "output_type": "stream",
     "text": [
      "1\n",
      "2\n",
      "3\n"
     ]
    }
   ],
   "source": [
    "for number in [1,2,3]:\n",
    "    print(number)"
   ]
  },
  {
   "cell_type": "markdown",
   "metadata": {},
   "source": [
    "`number` is an example of a local variable, in that it shouldn't exist outside of the loop. In this example, we're using it as a placeholder variable while looping through that list. \n",
    "\n",
    "However, globally defined variables can obviously be used within loops:"
   ]
  },
  {
   "cell_type": "code",
   "execution_count": 3,
   "metadata": {},
   "outputs": [
    {
     "name": "stdout",
     "output_type": "stream",
     "text": [
      "5\n",
      "10\n",
      "15\n"
     ]
    }
   ],
   "source": [
    "x = 5 # global\n",
    "\n",
    "for number in [1,2,3]:\n",
    "    print(x * number)"
   ]
  },
  {
   "cell_type": "markdown",
   "metadata": {},
   "source": [
    "Here, `x` is globally defined, and yet we're multiplying it by a local variable every time the loop resets. This is also a similar operation to when we define a list outside of a loop and then use `list.append` - since the list is globally defined, we can then get its newly appended contents outside of the loop.\n",
    "\n",
    "Where things fall apart is Python's relative leniency with this sort of thing. For instance:"
   ]
  },
  {
   "cell_type": "code",
   "execution_count": 4,
   "metadata": {},
   "outputs": [
    {
     "name": "stdout",
     "output_type": "stream",
     "text": [
      "1\n",
      "2\n",
      "3\n",
      "This shouldn't print below - 3\n"
     ]
    }
   ],
   "source": [
    "for number in [1,2,3]:\n",
    "    print(number)\n",
    "    \n",
    "print(\"This shouldn't print below -\", number) # shouldn't exist - it's not global"
   ]
  },
  {
   "cell_type": "markdown",
   "metadata": {},
   "source": [
    "It shouldn't print anything from that last line, and yet it does. This is because the loop changes the value of the local variable `number` every time, and when the loop ends, the last thing assigned to `number` was the number 3. Instead of saying 'hey, that's not right' when our code calls on this local variable as if it was global, Python goes 'oh, I think I know what you mean' and meekly offers you a 3.\n",
    "\n",
    "**This is bad.** We should never, ever try to work with local variables like this - it makes for error-prone, buggy code, especially when things get a little more complicated than looping through a list of three consecutive numbers. You want all your global variables to be very explicitly defined, and all your local variables hidden away in whatever structure (loop/function) they belong to.\n",
    "\n",
    "That being said, if you think this is bad, Python's leniency is slightly different and yet somehow even worse when it comes to functions. First, have a look at this friendly and perfectly correct function:"
   ]
  },
  {
   "cell_type": "code",
   "execution_count": 5,
   "metadata": {},
   "outputs": [
    {
     "data": {
      "text/plain": [
       "4"
      ]
     },
     "execution_count": 5,
     "metadata": {},
     "output_type": "execute_result"
    }
   ],
   "source": [
    "def add_numbers(num1, num2):\n",
    "    '''(int, int) -> int'''\n",
    "    out = num1 + num2\n",
    "    return out\n",
    "\n",
    "add_numbers(2, 2)"
   ]
  },
  {
   "cell_type": "markdown",
   "metadata": {},
   "source": [
    "In this function, we have a total of three local variables - two inputs (`num1, num2`) and an output variable (`out`). _None of these should exist outside of our function_. They are only defined _relative_ to said function. Python is slightly better about catching this than it is with loops:"
   ]
  },
  {
   "cell_type": "code",
   "execution_count": 6,
   "metadata": {},
   "outputs": [
    {
     "ename": "NameError",
     "evalue": "name 'num1' is not defined",
     "output_type": "error",
     "traceback": [
      "\u001b[0;31m---------------------------------------------------------------------------\u001b[0m",
      "\u001b[0;31mNameError\u001b[0m                                 Traceback (most recent call last)",
      "\u001b[0;32m<ipython-input-6-0d9aa63b4916>\u001b[0m in \u001b[0;36m<module>\u001b[0;34m()\u001b[0m\n\u001b[1;32m      1\u001b[0m \u001b[0madd_numbers\u001b[0m\u001b[0;34m(\u001b[0m\u001b[0;36m2\u001b[0m\u001b[0;34m,\u001b[0m \u001b[0;36m2\u001b[0m\u001b[0;34m)\u001b[0m\u001b[0;34m\u001b[0m\u001b[0m\n\u001b[1;32m      2\u001b[0m \u001b[0;34m\u001b[0m\u001b[0m\n\u001b[0;32m----> 3\u001b[0;31m \u001b[0mprint\u001b[0m\u001b[0;34m(\u001b[0m\u001b[0mnum1\u001b[0m\u001b[0;34m)\u001b[0m\u001b[0;34m\u001b[0m\u001b[0m\n\u001b[0m",
      "\u001b[0;31mNameError\u001b[0m: name 'num1' is not defined"
     ]
    }
   ],
   "source": [
    "add_numbers(2, 2)\n",
    "\n",
    "print(num1)"
   ]
  },
  {
   "cell_type": "markdown",
   "metadata": {},
   "source": [
    "Since `num1` is a local variable, we can't print it like we would a global variable such as `x` above. However, we could do that in the body of the function, since the existence of `num1` makes sense to Python there:"
   ]
  },
  {
   "cell_type": "code",
   "execution_count": 7,
   "metadata": {},
   "outputs": [
    {
     "name": "stdout",
     "output_type": "stream",
     "text": [
      "2\n"
     ]
    },
    {
     "data": {
      "text/plain": [
       "4"
      ]
     },
     "execution_count": 7,
     "metadata": {},
     "output_type": "execute_result"
    }
   ],
   "source": [
    "def add_numbers_verbose(num1, num2):\n",
    "    '''(int, int) -> int'''\n",
    "    out = num1 + num2\n",
    "    print(num1) # this is now happening locally\n",
    "    return out\n",
    "\n",
    "add_numbers_verbose(2,2)"
   ]
  },
  {
   "cell_type": "markdown",
   "metadata": {},
   "source": [
    "Notice how `print(num1)` doesn't throw an error this time. This is because we're referring to it, a local variable, within the function in which it exists. \n",
    "\n",
    "So far, it seems like functions are comparatively robust. So what's the issue? Well, let's say we're having a bad day, and in a coffee-deprived haze, write a function like this:"
   ]
  },
  {
   "cell_type": "code",
   "execution_count": 8,
   "metadata": {},
   "outputs": [
    {
     "ename": "NameError",
     "evalue": "name 'a' is not defined",
     "output_type": "error",
     "traceback": [
      "\u001b[0;31m---------------------------------------------------------------------------\u001b[0m",
      "\u001b[0;31mNameError\u001b[0m                                 Traceback (most recent call last)",
      "\u001b[0;32m<ipython-input-8-fb78ea2d6587>\u001b[0m in \u001b[0;36m<module>\u001b[0;34m()\u001b[0m\n\u001b[1;32m      3\u001b[0m     \u001b[0;32mreturn\u001b[0m \u001b[0mout\u001b[0m\u001b[0;34m\u001b[0m\u001b[0m\n\u001b[1;32m      4\u001b[0m \u001b[0;34m\u001b[0m\u001b[0m\n\u001b[0;32m----> 5\u001b[0;31m \u001b[0madd_numbers\u001b[0m\u001b[0;34m(\u001b[0m\u001b[0;36m2\u001b[0m\u001b[0;34m,\u001b[0m\u001b[0;36m2\u001b[0m\u001b[0;34m)\u001b[0m\u001b[0;34m\u001b[0m\u001b[0m\n\u001b[0m",
      "\u001b[0;32m<ipython-input-8-fb78ea2d6587>\u001b[0m in \u001b[0;36madd_numbers\u001b[0;34m(num1, num2)\u001b[0m\n\u001b[1;32m      1\u001b[0m \u001b[0;32mdef\u001b[0m \u001b[0madd_numbers\u001b[0m\u001b[0;34m(\u001b[0m\u001b[0mnum1\u001b[0m\u001b[0;34m,\u001b[0m \u001b[0mnum2\u001b[0m\u001b[0;34m)\u001b[0m\u001b[0;34m:\u001b[0m\u001b[0;34m\u001b[0m\u001b[0m\n\u001b[0;32m----> 2\u001b[0;31m     \u001b[0mout\u001b[0m \u001b[0;34m=\u001b[0m \u001b[0ma\u001b[0m \u001b[0;34m+\u001b[0m \u001b[0mb\u001b[0m\u001b[0;34m\u001b[0m\u001b[0m\n\u001b[0m\u001b[1;32m      3\u001b[0m     \u001b[0;32mreturn\u001b[0m \u001b[0mout\u001b[0m\u001b[0;34m\u001b[0m\u001b[0m\n\u001b[1;32m      4\u001b[0m \u001b[0;34m\u001b[0m\u001b[0m\n\u001b[1;32m      5\u001b[0m \u001b[0madd_numbers\u001b[0m\u001b[0;34m(\u001b[0m\u001b[0;36m2\u001b[0m\u001b[0;34m,\u001b[0m\u001b[0;36m2\u001b[0m\u001b[0;34m)\u001b[0m\u001b[0;34m\u001b[0m\u001b[0m\n",
      "\u001b[0;31mNameError\u001b[0m: name 'a' is not defined"
     ]
    }
   ],
   "source": [
    "def add_numbers(num1, num2):\n",
    "    out = a + b\n",
    "    return out\n",
    "\n",
    "add_numbers(2,2)"
   ]
  },
  {
   "cell_type": "markdown",
   "metadata": {},
   "source": [
    "What's going wrong here? Well, we're referring to two local variables, `a` and `b`, which don't exist. We haven't defined them relative to the function, and so Python is very confused. Still robust though - it caught the error, didn't it? \n",
    "\n",
    "The problem - and this is a big, big problem - arises when our mistyped local variables share names with actual global variables. Have a look:"
   ]
  },
  {
   "cell_type": "code",
   "execution_count": 9,
   "metadata": {},
   "outputs": [
    {
     "data": {
      "text/plain": [
       "8"
      ]
     },
     "execution_count": 9,
     "metadata": {},
     "output_type": "execute_result"
    }
   ],
   "source": [
    "a = 3\n",
    "b = 5\n",
    "\n",
    "def add_numbers(num1, num2):\n",
    "    out = a + b\n",
    "    return out\n",
    "\n",
    "add_numbers(2,2)"
   ]
  },
  {
   "cell_type": "markdown",
   "metadata": {},
   "source": [
    "So either we just broke all of math with 2 + 2 now equal to 8, or something's going wrong with our global/local variables here. This is the big issue with Python - if you call on a local variable that doesn't exist, it tries to be friendly (it just wants to be liked, after all) and looks for _global_ variables that match that name.\n",
    "\n",
    "**This is really, really bad.** If you gave this code cell and its output to a kindergartener who was (bear with me) somehow a Python wiz but struggled a bit with arithmetic, they'd totally think 2 + 2 is indeed 8, and the kicker is _they'd be justified in doing so_ - Python isn't throwing any errors, and computers totally don't lie, remember?\n",
    "\n",
    "Now consider this in light of bioinformatics. Imagine you had a function that looked something like this:\n",
    "\n",
    "    def get_sequence(SeqRecord):\n",
    "        seq = seqrecord.seq\n",
    "        return seq\n",
    "        \n",
    "Notice how our function's input is saved to a local variable called `SeqRecord`, but the actual function works on something called `seqrecord`. This would throw an error... unless in a previous question, we actually globally defined something as `seqrecord`. Then, no matter what input we give to this function, it will _always_ return the same sequence out of whatever was saved in `seqrecord`! All because Python wants to be a little too friendly at the expense of good coding practices.\n",
    "\n",
    "Be extremely careful with phantom bugs like this - they can completely sink a test answer (and perhaps later, your work on a research project) just because they're so silent and can sneak right by. A good way to make absolutely sure that this isn't going on is to look at the local variables you're defining in your input (i.e. `num1` and `num2` in the above code cell) and **make sure your function makes use of _all_ your input local variables**. Otherwise, they shouldn't be there - and given that for the purposes of this course, we give you the local variables for a function as part of the question prompt, they very much should be there as far as the test is concerned. If they aren't in the body of your function, you might be missing something that you should actually be accounting for as well.\n",
    "\n",
    "Of course, it's possible to define new local variables within functions as well, like I did with `out` above. These are also fine, but just make absolutely sure they never clash with your global variables. Ideally, a function should stand on its own in your code, using only local variables as much as humanly possible. This is the best way to make sure your functions approximate the 'general blueprints' of whatever tasks they're supposed to complete, which is largely the idea behind writing functions in the first place.\n",
    "\n",
    "Hope this helps and best of luck on the test!\n",
    "\n",
    "Ahmed"
   ]
  }
 ],
 "metadata": {
  "kernelspec": {
   "display_name": "Python 3",
   "language": "python",
   "name": "python3"
  },
  "language_info": {
   "codemirror_mode": {
    "name": "ipython",
    "version": 3
   },
   "file_extension": ".py",
   "mimetype": "text/x-python",
   "name": "python",
   "nbconvert_exporter": "python",
   "pygments_lexer": "ipython3",
   "version": "3.6.2"
  }
 },
 "nbformat": 4,
 "nbformat_minor": 2
}
