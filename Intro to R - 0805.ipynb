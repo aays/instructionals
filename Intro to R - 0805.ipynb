{
 "cells": [
  {
   "cell_type": "code",
   "execution_count": 1,
   "metadata": {
    "collapsed": false
   },
   "outputs": [
    {
     "name": "stderr",
     "output_type": "stream",
     "text": [
      "Warning message in install.packages(\"tidyverse\"):\n",
      "“installation of package ‘tidyverse’ had non-zero exit status”Updating HTML index of packages in '.Library'\n",
      "Making 'packages.html' ... done\n"
     ]
    }
   ],
   "source": [
    "install.packages('tidyverse') "
   ]
  },
  {
   "cell_type": "code",
   "execution_count": 2,
   "metadata": {
    "collapsed": false
   },
   "outputs": [
    {
     "name": "stderr",
     "output_type": "stream",
     "text": [
      "Loading tidyverse: ggplot2\n",
      "Loading tidyverse: tibble\n",
      "Loading tidyverse: tidyr\n",
      "Loading tidyverse: readr\n",
      "Loading tidyverse: purrr\n",
      "Loading tidyverse: dplyr\n",
      "Conflicts with tidy packages ---------------------------------------------------\n",
      "filter(): dplyr, stats\n",
      "lag():    dplyr, stats\n"
     ]
    }
   ],
   "source": [
    "library(tidyverse) "
   ]
  },
  {
   "cell_type": "code",
   "execution_count": 3,
   "metadata": {
    "collapsed": false
   },
   "outputs": [
    {
     "data": {
      "text/html": [
       "2"
      ],
      "text/latex": [
       "2"
      ],
      "text/markdown": [
       "2"
      ],
      "text/plain": [
       "[1] 2"
      ]
     },
     "metadata": {},
     "output_type": "display_data"
    }
   ],
   "source": [
    "1 + 1"
   ]
  },
  {
   "cell_type": "code",
   "execution_count": 4,
   "metadata": {
    "collapsed": false
   },
   "outputs": [
    {
     "data": {
      "text/html": [
       "4"
      ],
      "text/latex": [
       "4"
      ],
      "text/markdown": [
       "4"
      ],
      "text/plain": [
       "[1] 4"
      ]
     },
     "metadata": {},
     "output_type": "display_data"
    }
   ],
   "source": [
    "2 * 2"
   ]
  },
  {
   "cell_type": "code",
   "execution_count": 6,
   "metadata": {
    "collapsed": false
   },
   "outputs": [
    {
     "data": {
      "text/html": [
       "8"
      ],
      "text/latex": [
       "8"
      ],
      "text/markdown": [
       "8"
      ],
      "text/plain": [
       "[1] 8"
      ]
     },
     "metadata": {},
     "output_type": "display_data"
    }
   ],
   "source": [
    "2**3"
   ]
  },
  {
   "cell_type": "code",
   "execution_count": 7,
   "metadata": {
    "collapsed": false
   },
   "outputs": [
    {
     "data": {
      "text/html": [
       "0.5"
      ],
      "text/latex": [
       "0.5"
      ],
      "text/markdown": [
       "0.5"
      ],
      "text/plain": [
       "[1] 0.5"
      ]
     },
     "metadata": {},
     "output_type": "display_data"
    }
   ],
   "source": [
    "2/4"
   ]
  },
  {
   "cell_type": "code",
   "execution_count": 8,
   "metadata": {
    "collapsed": true
   },
   "outputs": [],
   "source": [
    "mynumber <- 2"
   ]
  },
  {
   "cell_type": "code",
   "execution_count": 9,
   "metadata": {
    "collapsed": false
   },
   "outputs": [
    {
     "data": {
      "text/html": [
       "2"
      ],
      "text/latex": [
       "2"
      ],
      "text/markdown": [
       "2"
      ],
      "text/plain": [
       "[1] 2"
      ]
     },
     "metadata": {},
     "output_type": "display_data"
    }
   ],
   "source": [
    "mynumber"
   ]
  },
  {
   "cell_type": "code",
   "execution_count": 10,
   "metadata": {
    "collapsed": false
   },
   "outputs": [
    {
     "data": {
      "text/html": [
       "4"
      ],
      "text/latex": [
       "4"
      ],
      "text/markdown": [
       "4"
      ],
      "text/plain": [
       "[1] 4"
      ]
     },
     "metadata": {},
     "output_type": "display_data"
    }
   ],
   "source": [
    "mynumber * 2"
   ]
  },
  {
   "cell_type": "code",
   "execution_count": 11,
   "metadata": {
    "collapsed": false
   },
   "outputs": [
    {
     "data": {
      "text/html": [
       "2"
      ],
      "text/latex": [
       "2"
      ],
      "text/markdown": [
       "2"
      ],
      "text/plain": [
       "[1] 2"
      ]
     },
     "metadata": {},
     "output_type": "display_data"
    }
   ],
   "source": [
    "mynumber"
   ]
  },
  {
   "cell_type": "code",
   "execution_count": 12,
   "metadata": {
    "collapsed": true
   },
   "outputs": [],
   "source": [
    "mynumber <- mynumber * 2"
   ]
  },
  {
   "cell_type": "code",
   "execution_count": 13,
   "metadata": {
    "collapsed": false
   },
   "outputs": [
    {
     "data": {
      "text/html": [
       "4"
      ],
      "text/latex": [
       "4"
      ],
      "text/markdown": [
       "4"
      ],
      "text/plain": [
       "[1] 4"
      ]
     },
     "metadata": {},
     "output_type": "display_data"
    }
   ],
   "source": [
    "mynumber"
   ]
  },
  {
   "cell_type": "code",
   "execution_count": 14,
   "metadata": {
    "collapsed": false
   },
   "outputs": [
    {
     "data": {
      "text/html": [
       "'numeric'"
      ],
      "text/latex": [
       "'numeric'"
      ],
      "text/markdown": [
       "'numeric'"
      ],
      "text/plain": [
       "[1] \"numeric\""
      ]
     },
     "metadata": {},
     "output_type": "display_data"
    }
   ],
   "source": [
    "class(mynumber) "
   ]
  },
  {
   "cell_type": "code",
   "execution_count": 15,
   "metadata": {
    "collapsed": false
   },
   "outputs": [
    {
     "data": {
      "text/html": [
       "'character'"
      ],
      "text/latex": [
       "'character'"
      ],
      "text/markdown": [
       "'character'"
      ],
      "text/plain": [
       "[1] \"character\""
      ]
     },
     "metadata": {},
     "output_type": "display_data"
    }
   ],
   "source": [
    "word <- 'hello'\n",
    "class(word) "
   ]
  },
  {
   "cell_type": "code",
   "execution_count": 16,
   "metadata": {
    "collapsed": false
   },
   "outputs": [
    {
     "data": {
      "text/html": [
       "'integer'"
      ],
      "text/latex": [
       "'integer'"
      ],
      "text/markdown": [
       "'integer'"
      ],
      "text/plain": [
       "[1] \"integer\""
      ]
     },
     "metadata": {},
     "output_type": "display_data"
    }
   ],
   "source": [
    "class(as.integer(mynumber))"
   ]
  },
  {
   "cell_type": "code",
   "execution_count": 17,
   "metadata": {
    "collapsed": false
   },
   "outputs": [
    {
     "data": {
      "text/html": [
       "FALSE"
      ],
      "text/latex": [
       "FALSE"
      ],
      "text/markdown": [
       "FALSE"
      ],
      "text/plain": [
       "[1] FALSE"
      ]
     },
     "metadata": {},
     "output_type": "display_data"
    }
   ],
   "source": [
    "is.integer(word) "
   ]
  },
  {
   "cell_type": "code",
   "execution_count": 18,
   "metadata": {
    "collapsed": false
   },
   "outputs": [
    {
     "data": {
      "text/html": [
       "'logical'"
      ],
      "text/latex": [
       "'logical'"
      ],
      "text/markdown": [
       "'logical'"
      ],
      "text/plain": [
       "[1] \"logical\""
      ]
     },
     "metadata": {},
     "output_type": "display_data"
    }
   ],
   "source": [
    "class(FALSE) "
   ]
  },
  {
   "cell_type": "code",
   "execution_count": 19,
   "metadata": {
    "collapsed": false
   },
   "outputs": [
    {
     "data": {
      "text/html": [
       "<ol class=list-inline>\n",
       "\t<li>1</li>\n",
       "\t<li>2</li>\n",
       "\t<li>3</li>\n",
       "</ol>\n"
      ],
      "text/latex": [
       "\\begin{enumerate*}\n",
       "\\item 1\n",
       "\\item 2\n",
       "\\item 3\n",
       "\\end{enumerate*}\n"
      ],
      "text/markdown": [
       "1. 1\n",
       "2. 2\n",
       "3. 3\n",
       "\n",
       "\n"
      ],
      "text/plain": [
       "[1] 1 2 3"
      ]
     },
     "metadata": {},
     "output_type": "display_data"
    }
   ],
   "source": [
    "c(1,2,3) "
   ]
  },
  {
   "cell_type": "code",
   "execution_count": 20,
   "metadata": {
    "collapsed": false
   },
   "outputs": [
    {
     "data": {
      "text/html": [
       "'numeric'"
      ],
      "text/latex": [
       "'numeric'"
      ],
      "text/markdown": [
       "'numeric'"
      ],
      "text/plain": [
       "[1] \"numeric\""
      ]
     },
     "metadata": {},
     "output_type": "display_data"
    }
   ],
   "source": [
    "my.numbers <- c(1,2,3)\n",
    "class(my.numbers) "
   ]
  },
  {
   "cell_type": "code",
   "execution_count": 21,
   "metadata": {
    "collapsed": false
   },
   "outputs": [
    {
     "data": {
      "text/html": [
       "<table>\n",
       "<thead><tr><th scope=col>col1</th><th scope=col>col2</th></tr></thead>\n",
       "<tbody>\n",
       "\t<tr><td>1</td><td>1</td></tr>\n",
       "\t<tr><td>2</td><td>2</td></tr>\n",
       "\t<tr><td>3</td><td>5</td></tr>\n",
       "</tbody>\n",
       "</table>\n"
      ],
      "text/latex": [
       "\\begin{tabular}{r|ll}\n",
       " col1 & col2\\\\\n",
       "\\hline\n",
       "\t 1 & 1\\\\\n",
       "\t 2 & 2\\\\\n",
       "\t 3 & 5\\\\\n",
       "\\end{tabular}\n"
      ],
      "text/markdown": [
       "\n",
       "col1 | col2 | \n",
       "|---|---|---|\n",
       "| 1 | 1 | \n",
       "| 2 | 2 | \n",
       "| 3 | 5 | \n",
       "\n",
       "\n"
      ],
      "text/plain": [
       "  col1 col2\n",
       "1 1    1   \n",
       "2 2    2   \n",
       "3 3    5   "
      ]
     },
     "metadata": {},
     "output_type": "display_data"
    }
   ],
   "source": [
    "mydf <- data.frame(col1 = c(1,2,3), col2 = c(1,2,5)) \n",
    "mydf"
   ]
  },
  {
   "cell_type": "code",
   "execution_count": 22,
   "metadata": {
    "collapsed": false
   },
   "outputs": [
    {
     "data": {
      "text/html": [
       "'data.frame'"
      ],
      "text/latex": [
       "'data.frame'"
      ],
      "text/markdown": [
       "'data.frame'"
      ],
      "text/plain": [
       "[1] \"data.frame\""
      ]
     },
     "metadata": {},
     "output_type": "display_data"
    }
   ],
   "source": [
    "class(mydf) "
   ]
  },
  {
   "cell_type": "code",
   "execution_count": 23,
   "metadata": {
    "collapsed": false
   },
   "outputs": [
    {
     "data": {
      "text/html": [
       "2"
      ],
      "text/latex": [
       "2"
      ],
      "text/markdown": [
       "2"
      ],
      "text/plain": [
       "[1] 2"
      ]
     },
     "metadata": {},
     "output_type": "display_data"
    }
   ],
   "source": [
    "mydf[2,2] "
   ]
  },
  {
   "cell_type": "code",
   "execution_count": 24,
   "metadata": {
    "collapsed": false
   },
   "outputs": [
    {
     "data": {
      "text/html": [
       "<table>\n",
       "<thead><tr><th></th><th scope=col>col1</th><th scope=col>col2</th></tr></thead>\n",
       "<tbody>\n",
       "\t<tr><th scope=row>2</th><td>2</td><td>2</td></tr>\n",
       "</tbody>\n",
       "</table>\n"
      ],
      "text/latex": [
       "\\begin{tabular}{r|ll}\n",
       "  & col1 & col2\\\\\n",
       "\\hline\n",
       "\t2 & 2 & 2\\\\\n",
       "\\end{tabular}\n"
      ],
      "text/markdown": [
       "\n",
       "| <!--/--> | col1 | col2 | \n",
       "|---|\n",
       "| 2 | 2 | 2 | \n",
       "\n",
       "\n"
      ],
      "text/plain": [
       "  col1 col2\n",
       "2 2    2   "
      ]
     },
     "metadata": {},
     "output_type": "display_data"
    }
   ],
   "source": [
    "mydf[2,]"
   ]
  },
  {
   "cell_type": "code",
   "execution_count": 25,
   "metadata": {
    "collapsed": false
   },
   "outputs": [
    {
     "data": {
      "text/html": [
       "'data.frame'"
      ],
      "text/latex": [
       "'data.frame'"
      ],
      "text/markdown": [
       "'data.frame'"
      ],
      "text/plain": [
       "[1] \"data.frame\""
      ]
     },
     "metadata": {},
     "output_type": "display_data"
    }
   ],
   "source": [
    "class(mydf[2,]) "
   ]
  },
  {
   "cell_type": "code",
   "execution_count": 26,
   "metadata": {
    "collapsed": false
   },
   "outputs": [
    {
     "data": {
      "text/html": [
       "<table>\n",
       "<thead><tr><th scope=col>col1</th><th scope=col>col2</th></tr></thead>\n",
       "<tbody>\n",
       "\t<tr><td>1</td><td>1</td></tr>\n",
       "\t<tr><td>2</td><td>2</td></tr>\n",
       "</tbody>\n",
       "</table>\n"
      ],
      "text/latex": [
       "\\begin{tabular}{r|ll}\n",
       " col1 & col2\\\\\n",
       "\\hline\n",
       "\t 1 & 1\\\\\n",
       "\t 2 & 2\\\\\n",
       "\\end{tabular}\n"
      ],
      "text/markdown": [
       "\n",
       "col1 | col2 | \n",
       "|---|---|\n",
       "| 1 | 1 | \n",
       "| 2 | 2 | \n",
       "\n",
       "\n"
      ],
      "text/plain": [
       "  col1 col2\n",
       "1 1    1   \n",
       "2 2    2   "
      ]
     },
     "metadata": {},
     "output_type": "display_data"
    }
   ],
   "source": [
    "mydf[c(1,2),] "
   ]
  },
  {
   "cell_type": "code",
   "execution_count": 27,
   "metadata": {
    "collapsed": false
   },
   "outputs": [
    {
     "data": {
      "text/html": [
       "<ol class=list-inline>\n",
       "\t<li>1</li>\n",
       "\t<li>2</li>\n",
       "\t<li>5</li>\n",
       "</ol>\n"
      ],
      "text/latex": [
       "\\begin{enumerate*}\n",
       "\\item 1\n",
       "\\item 2\n",
       "\\item 5\n",
       "\\end{enumerate*}\n"
      ],
      "text/markdown": [
       "1. 1\n",
       "2. 2\n",
       "3. 5\n",
       "\n",
       "\n"
      ],
      "text/plain": [
       "[1] 1 2 5"
      ]
     },
     "metadata": {},
     "output_type": "display_data"
    }
   ],
   "source": [
    "mydf[,2]"
   ]
  },
  {
   "cell_type": "code",
   "execution_count": 28,
   "metadata": {
    "collapsed": false
   },
   "outputs": [
    {
     "data": {
      "text/html": [
       "<ol class=list-inline>\n",
       "\t<li>1</li>\n",
       "\t<li>2</li>\n",
       "\t<li>5</li>\n",
       "</ol>\n"
      ],
      "text/latex": [
       "\\begin{enumerate*}\n",
       "\\item 1\n",
       "\\item 2\n",
       "\\item 5\n",
       "\\end{enumerate*}\n"
      ],
      "text/markdown": [
       "1. 1\n",
       "2. 2\n",
       "3. 5\n",
       "\n",
       "\n"
      ],
      "text/plain": [
       "[1] 1 2 5"
      ]
     },
     "metadata": {},
     "output_type": "display_data"
    }
   ],
   "source": [
    "mydf$col2"
   ]
  },
  {
   "cell_type": "code",
   "execution_count": 29,
   "metadata": {
    "collapsed": false
   },
   "outputs": [
    {
     "data": {
      "text/html": [
       "<table>\n",
       "<thead><tr><th></th><th scope=col>col1</th><th scope=col>col2</th></tr></thead>\n",
       "<tbody>\n",
       "\t<tr><th scope=row>3</th><td>3</td><td>5</td></tr>\n",
       "</tbody>\n",
       "</table>\n"
      ],
      "text/latex": [
       "\\begin{tabular}{r|ll}\n",
       "  & col1 & col2\\\\\n",
       "\\hline\n",
       "\t3 & 3 & 5\\\\\n",
       "\\end{tabular}\n"
      ],
      "text/markdown": [
       "\n",
       "| <!--/--> | col1 | col2 | \n",
       "|---|\n",
       "| 3 | 3 | 5 | \n",
       "\n",
       "\n"
      ],
      "text/plain": [
       "  col1 col2\n",
       "3 3    5   "
      ]
     },
     "metadata": {},
     "output_type": "display_data"
    }
   ],
   "source": [
    "mydf[1+2,]"
   ]
  },
  {
   "cell_type": "code",
   "execution_count": 30,
   "metadata": {
    "collapsed": false
   },
   "outputs": [
    {
     "data": {
      "text/html": [
       "<table>\n",
       "<thead><tr><th scope=col>col1</th><th scope=col>col2</th></tr></thead>\n",
       "<tbody>\n",
       "\t<tr><td>1</td><td>1</td></tr>\n",
       "\t<tr><td>2</td><td>2</td></tr>\n",
       "</tbody>\n",
       "</table>\n"
      ],
      "text/latex": [
       "\\begin{tabular}{r|ll}\n",
       " col1 & col2\\\\\n",
       "\\hline\n",
       "\t 1 & 1\\\\\n",
       "\t 2 & 2\\\\\n",
       "\\end{tabular}\n"
      ],
      "text/markdown": [
       "\n",
       "col1 | col2 | \n",
       "|---|---|\n",
       "| 1 | 1 | \n",
       "| 2 | 2 | \n",
       "\n",
       "\n"
      ],
      "text/plain": [
       "  col1 col2\n",
       "1 1    1   \n",
       "2 2    2   "
      ]
     },
     "metadata": {},
     "output_type": "display_data"
    }
   ],
   "source": [
    "mydf[which(mydf$col1 == mydf$col2),] "
   ]
  },
  {
   "cell_type": "code",
   "execution_count": 35,
   "metadata": {
    "collapsed": false
   },
   "outputs": [
    {
     "data": {
      "text/html": [
       "FALSE"
      ],
      "text/latex": [
       "FALSE"
      ],
      "text/markdown": [
       "FALSE"
      ],
      "text/plain": [
       "[1] FALSE"
      ]
     },
     "metadata": {},
     "output_type": "display_data"
    }
   ],
   "source": [
    "1 >= 3"
   ]
  },
  {
   "cell_type": "code",
   "execution_count": 37,
   "metadata": {
    "collapsed": true
   },
   "outputs": [],
   "source": [
    "my.nums <- c(1,2,3) "
   ]
  },
  {
   "cell_type": "code",
   "execution_count": 38,
   "metadata": {
    "collapsed": false
   },
   "outputs": [
    {
     "data": {
      "text/html": [
       "2"
      ],
      "text/latex": [
       "2"
      ],
      "text/markdown": [
       "2"
      ],
      "text/plain": [
       "[1] 2"
      ]
     },
     "metadata": {},
     "output_type": "display_data"
    }
   ],
   "source": [
    "mean(my.nums) "
   ]
  },
  {
   "cell_type": "code",
   "execution_count": 39,
   "metadata": {
    "collapsed": true
   },
   "outputs": [],
   "source": [
    "?seq"
   ]
  },
  {
   "cell_type": "code",
   "execution_count": 40,
   "metadata": {
    "collapsed": false
   },
   "outputs": [
    {
     "data": {
      "text/html": [
       "<ol class=list-inline>\n",
       "\t<li>1</li>\n",
       "\t<li>3</li>\n",
       "\t<li>5</li>\n",
       "\t<li>7</li>\n",
       "\t<li>9</li>\n",
       "</ol>\n"
      ],
      "text/latex": [
       "\\begin{enumerate*}\n",
       "\\item 1\n",
       "\\item 3\n",
       "\\item 5\n",
       "\\item 7\n",
       "\\item 9\n",
       "\\end{enumerate*}\n"
      ],
      "text/markdown": [
       "1. 1\n",
       "2. 3\n",
       "3. 5\n",
       "4. 7\n",
       "5. 9\n",
       "\n",
       "\n"
      ],
      "text/plain": [
       "[1] 1 3 5 7 9"
      ]
     },
     "metadata": {},
     "output_type": "display_data"
    }
   ],
   "source": [
    "seq(from = 1, to = 10, by = 2) "
   ]
  },
  {
   "cell_type": "code",
   "execution_count": 41,
   "metadata": {
    "collapsed": false
   },
   "outputs": [
    {
     "data": {
      "text/html": [
       "<ol class=list-inline>\n",
       "\t<li>1</li>\n",
       "\t<li>3</li>\n",
       "\t<li>5</li>\n",
       "\t<li>7</li>\n",
       "\t<li>9</li>\n",
       "</ol>\n"
      ],
      "text/latex": [
       "\\begin{enumerate*}\n",
       "\\item 1\n",
       "\\item 3\n",
       "\\item 5\n",
       "\\item 7\n",
       "\\item 9\n",
       "\\end{enumerate*}\n"
      ],
      "text/markdown": [
       "1. 1\n",
       "2. 3\n",
       "3. 5\n",
       "4. 7\n",
       "5. 9\n",
       "\n",
       "\n"
      ],
      "text/plain": [
       "[1] 1 3 5 7 9"
      ]
     },
     "metadata": {},
     "output_type": "display_data"
    }
   ],
   "source": [
    "seq(1, 10, 2)"
   ]
  },
  {
   "cell_type": "code",
   "execution_count": 42,
   "metadata": {
    "collapsed": true
   },
   "outputs": [],
   "source": [
    "?seq"
   ]
  },
  {
   "cell_type": "code",
   "execution_count": 43,
   "metadata": {
    "collapsed": true
   },
   "outputs": [],
   "source": [
    "sumsquares <- function(num1, num2){\n",
    "    out <- num1**2 + num2**2\n",
    "    return(out)\n",
    "} "
   ]
  },
  {
   "cell_type": "code",
   "execution_count": 44,
   "metadata": {
    "collapsed": false
   },
   "outputs": [
    {
     "data": {
      "text/html": [
       "13"
      ],
      "text/latex": [
       "13"
      ],
      "text/markdown": [
       "13"
      ],
      "text/plain": [
       "[1] 13"
      ]
     },
     "metadata": {},
     "output_type": "display_data"
    }
   ],
   "source": [
    "sumsquares(2,3) "
   ]
  },
  {
   "cell_type": "code",
   "execution_count": 45,
   "metadata": {
    "collapsed": false
   },
   "outputs": [
    {
     "data": {
      "text/html": [
       "<ol class=list-inline>\n",
       "\t<li>1</li>\n",
       "\t<li>2</li>\n",
       "\t<li>3</li>\n",
       "</ol>\n"
      ],
      "text/latex": [
       "\\begin{enumerate*}\n",
       "\\item 1\n",
       "\\item 2\n",
       "\\item 3\n",
       "\\end{enumerate*}\n"
      ],
      "text/markdown": [
       "1. 1\n",
       "2. 2\n",
       "3. 3\n",
       "\n",
       "\n"
      ],
      "text/plain": [
       "[1] 1 2 3"
      ]
     },
     "metadata": {},
     "output_type": "display_data"
    }
   ],
   "source": [
    "my.nums"
   ]
  },
  {
   "cell_type": "code",
   "execution_count": 46,
   "metadata": {
    "collapsed": false
   },
   "outputs": [
    {
     "data": {
      "text/html": [
       "1"
      ],
      "text/latex": [
       "1"
      ],
      "text/markdown": [
       "1"
      ],
      "text/plain": [
       "[1] 1"
      ]
     },
     "metadata": {},
     "output_type": "display_data"
    }
   ],
   "source": [
    "my.nums[1] "
   ]
  },
  {
   "cell_type": "code",
   "execution_count": 47,
   "metadata": {
    "collapsed": false
   },
   "outputs": [
    {
     "name": "stdout",
     "output_type": "stream",
     "text": [
      "[1] 1\n",
      "[1] 2\n",
      "[1] 3\n"
     ]
    }
   ],
   "source": [
    "for (num in my.nums){\n",
    "    print(num)\n",
    "} "
   ]
  },
  {
   "cell_type": "code",
   "execution_count": 48,
   "metadata": {
    "collapsed": false
   },
   "outputs": [
    {
     "name": "stdout",
     "output_type": "stream",
     "text": [
      "[1] 2\n",
      "[1] 4\n",
      "[1] 6\n"
     ]
    }
   ],
   "source": [
    "for (num in my.nums){\n",
    "    print(num * 2)\n",
    "}"
   ]
  },
  {
   "cell_type": "code",
   "execution_count": 49,
   "metadata": {
    "collapsed": false
   },
   "outputs": [
    {
     "name": "stdout",
     "output_type": "stream",
     "text": [
      "[1] 1\n",
      "[1] 2\n",
      "[1] \"out of range\"\n"
     ]
    }
   ],
   "source": [
    "for (num in my.nums){\n",
    "    if (num <= 2){\n",
    "        print(num)\n",
    "    } \n",
    "    else {\n",
    "        print('out of range')\n",
    "    }\n",
    "}"
   ]
  },
  {
   "cell_type": "code",
   "execution_count": 50,
   "metadata": {
    "collapsed": false
   },
   "outputs": [
    {
     "data": {
      "text/html": [
       "'/Users/Ahmed/Desktop/Coding/R'"
      ],
      "text/latex": [
       "'/Users/Ahmed/Desktop/Coding/R'"
      ],
      "text/markdown": [
       "'/Users/Ahmed/Desktop/Coding/R'"
      ],
      "text/plain": [
       "[1] \"/Users/Ahmed/Desktop/Coding/R\""
      ]
     },
     "metadata": {},
     "output_type": "display_data"
    }
   ],
   "source": [
    "getwd() "
   ]
  },
  {
   "cell_type": "code",
   "execution_count": 51,
   "metadata": {
    "collapsed": true
   },
   "outputs": [],
   "source": [
    "mydata <- read.csv('weather072003-122006.csv') "
   ]
  },
  {
   "cell_type": "code",
   "execution_count": 52,
   "metadata": {
    "collapsed": false
   },
   "outputs": [
    {
     "data": {
      "text/html": [
       "<table>\n",
       "<thead><tr><th scope=col>Station.Name</th><th scope=col>TORONTO.CITY</th></tr></thead>\n",
       "<tbody>\n",
       "\t<tr><td>Province          </td><td>ONTARIO           </td></tr>\n",
       "\t<tr><td>Latitude          </td><td>43.67             </td></tr>\n",
       "\t<tr><td>Longitude         </td><td>-79.40            </td></tr>\n",
       "\t<tr><td>Elevation         </td><td>112.50            </td></tr>\n",
       "\t<tr><td>Climate Identifier</td><td>6158355           </td></tr>\n",
       "\t<tr><td>WMO Identifier    </td><td>71508             </td></tr>\n",
       "</tbody>\n",
       "</table>\n"
      ],
      "text/latex": [
       "\\begin{tabular}{r|ll}\n",
       " Station.Name & TORONTO.CITY\\\\\n",
       "\\hline\n",
       "\t Province           & ONTARIO           \\\\\n",
       "\t Latitude           & 43.67             \\\\\n",
       "\t Longitude          & -79.40            \\\\\n",
       "\t Elevation          & 112.50            \\\\\n",
       "\t Climate Identifier & 6158355           \\\\\n",
       "\t WMO Identifier     & 71508             \\\\\n",
       "\\end{tabular}\n"
      ],
      "text/markdown": [
       "\n",
       "Station.Name | TORONTO.CITY | \n",
       "|---|---|---|---|---|---|\n",
       "| Province           | ONTARIO            | \n",
       "| Latitude           | 43.67              | \n",
       "| Longitude          | -79.40             | \n",
       "| Elevation          | 112.50             | \n",
       "| Climate Identifier | 6158355            | \n",
       "| WMO Identifier     | 71508              | \n",
       "\n",
       "\n"
      ],
      "text/plain": [
       "  Station.Name       TORONTO.CITY\n",
       "1 Province           ONTARIO     \n",
       "2 Latitude           43.67       \n",
       "3 Longitude          -79.40      \n",
       "4 Elevation          112.50      \n",
       "5 Climate Identifier 6158355     \n",
       "6 WMO Identifier     71508       "
      ]
     },
     "metadata": {},
     "output_type": "display_data"
    }
   ],
   "source": [
    "head(mydata) "
   ]
  },
  {
   "cell_type": "code",
   "execution_count": 53,
   "metadata": {
    "collapsed": false
   },
   "outputs": [
    {
     "data": {
      "text/html": [
       "<ol class=list-inline>\n",
       "\t<li>532</li>\n",
       "\t<li>2</li>\n",
       "</ol>\n"
      ],
      "text/latex": [
       "\\begin{enumerate*}\n",
       "\\item 532\n",
       "\\item 2\n",
       "\\end{enumerate*}\n"
      ],
      "text/markdown": [
       "1. 532\n",
       "2. 2\n",
       "\n",
       "\n"
      ],
      "text/plain": [
       "[1] 532   2"
      ]
     },
     "metadata": {},
     "output_type": "display_data"
    }
   ],
   "source": [
    "dim(mydata) "
   ]
  },
  {
   "cell_type": "code",
   "execution_count": 54,
   "metadata": {
    "collapsed": true
   },
   "outputs": [],
   "source": [
    "mydata <- read.csv('weather072003-122006.csv', skip = 18, header = TRUE)"
   ]
  },
  {
   "cell_type": "code",
   "execution_count": 55,
   "metadata": {
    "collapsed": false
   },
   "outputs": [
    {
     "data": {
      "text/html": [
       "<table>\n",
       "<thead><tr><th scope=col>Date.Time</th><th scope=col>Year</th><th scope=col>Month</th><th scope=col>Mean.Max.Temp..Â.C.</th><th scope=col>Mean.Max.Temp.Flag</th><th scope=col>Mean.Min.Temp..Â.C.</th><th scope=col>Mean.Min.Temp.Flag</th><th scope=col>Mean.Temp..Â.C.</th><th scope=col>Mean.Temp.Flag</th><th scope=col>Extr.Max.Temp..Â.C.</th><th scope=col>⋯</th><th scope=col>Total.Snow..cm.</th><th scope=col>Total.Snow.Flag</th><th scope=col>Total.Precip..mm.</th><th scope=col>Total.Precip.Flag</th><th scope=col>Snow.Grnd.Last.Day..cm.</th><th scope=col>Snow.Grnd.Last.Day.Flag</th><th scope=col>Dir.of.Max.Gust..10.s.deg.</th><th scope=col>Dir.of.Max.Gust.Flag</th><th scope=col>Spd.of.Max.Gust..km.h.</th><th scope=col>Spd.of.Max.Gust.Flag</th></tr></thead>\n",
       "<tbody>\n",
       "\t<tr><td>2003-07</td><td>2003   </td><td> 7     </td><td>26.4   </td><td>       </td><td>17.0   </td><td>       </td><td>21.7   </td><td>       </td><td>31.6   </td><td>⋯      </td><td>NA     </td><td>NA     </td><td> 49.7  </td><td>       </td><td>0      </td><td>       </td><td>NA     </td><td>NA     </td><td>NA     </td><td>NA     </td></tr>\n",
       "\t<tr><td>2003-08</td><td>2003   </td><td> 8     </td><td>27.2   </td><td>       </td><td>18.2   </td><td>       </td><td>22.7   </td><td>       </td><td>32.5   </td><td>⋯      </td><td>NA     </td><td>NA     </td><td> 38.5  </td><td>       </td><td>0      </td><td>       </td><td>NA     </td><td>NA     </td><td>NA     </td><td>NA     </td></tr>\n",
       "\t<tr><td>2003-09</td><td>2003   </td><td> 9     </td><td>21.9   </td><td>       </td><td>13.8   </td><td>       </td><td>17.8   </td><td>       </td><td>27.6   </td><td>⋯      </td><td>NA     </td><td>NA     </td><td> 75.4  </td><td>       </td><td>0      </td><td>       </td><td>NA     </td><td>NA     </td><td>NA     </td><td>NA     </td></tr>\n",
       "\t<tr><td>2003-10</td><td>2003   </td><td>10     </td><td>13.5   </td><td>E      </td><td> 6.5   </td><td>E      </td><td>10.0   </td><td>E      </td><td>23.6   </td><td>⋯      </td><td>NA     </td><td>NA     </td><td> 48.4  </td><td>       </td><td>0      </td><td>       </td><td>NA     </td><td>NA     </td><td>NA     </td><td>NA     </td></tr>\n",
       "\t<tr><td>2003-11</td><td>2003   </td><td>11     </td><td> 8.8   </td><td>       </td><td> 2.6   </td><td>       </td><td> 5.7   </td><td>       </td><td>17.8   </td><td>⋯      </td><td>NA     </td><td>NA     </td><td>125.3  </td><td>       </td><td>0      </td><td>       </td><td>NA     </td><td>NA     </td><td>NA     </td><td>NA     </td></tr>\n",
       "\t<tr><td>2003-12</td><td>2003   </td><td>12     </td><td> 3.8   </td><td>       </td><td>-1.8   </td><td>       </td><td> 1.0   </td><td>       </td><td> 8.7   </td><td>⋯      </td><td>NA     </td><td>NA     </td><td> 62.0  </td><td>       </td><td>1      </td><td>       </td><td>NA     </td><td>NA     </td><td>NA     </td><td>NA     </td></tr>\n",
       "</tbody>\n",
       "</table>\n"
      ],
      "text/latex": [
       "\\begin{tabular}{r|lllllllllllllllllllllllll}\n",
       " Date.Time & Year & Month & Mean.Max.Temp..Â.C. & Mean.Max.Temp.Flag & Mean.Min.Temp..Â.C. & Mean.Min.Temp.Flag & Mean.Temp..Â.C. & Mean.Temp.Flag & Extr.Max.Temp..Â.C. & ⋯ & Total.Snow..cm. & Total.Snow.Flag & Total.Precip..mm. & Total.Precip.Flag & Snow.Grnd.Last.Day..cm. & Snow.Grnd.Last.Day.Flag & Dir.of.Max.Gust..10.s.deg. & Dir.of.Max.Gust.Flag & Spd.of.Max.Gust..km.h. & Spd.of.Max.Gust.Flag\\\\\n",
       "\\hline\n",
       "\t 2003-07 & 2003    &  7      & 26.4    &         & 17.0    &         & 21.7    &         & 31.6    & ⋯       & NA      & NA      &  49.7   &         & 0       &         & NA      & NA      & NA      & NA     \\\\\n",
       "\t 2003-08 & 2003    &  8      & 27.2    &         & 18.2    &         & 22.7    &         & 32.5    & ⋯       & NA      & NA      &  38.5   &         & 0       &         & NA      & NA      & NA      & NA     \\\\\n",
       "\t 2003-09 & 2003    &  9      & 21.9    &         & 13.8    &         & 17.8    &         & 27.6    & ⋯       & NA      & NA      &  75.4   &         & 0       &         & NA      & NA      & NA      & NA     \\\\\n",
       "\t 2003-10 & 2003    & 10      & 13.5    & E       &  6.5    & E       & 10.0    & E       & 23.6    & ⋯       & NA      & NA      &  48.4   &         & 0       &         & NA      & NA      & NA      & NA     \\\\\n",
       "\t 2003-11 & 2003    & 11      &  8.8    &         &  2.6    &         &  5.7    &         & 17.8    & ⋯       & NA      & NA      & 125.3   &         & 0       &         & NA      & NA      & NA      & NA     \\\\\n",
       "\t 2003-12 & 2003    & 12      &  3.8    &         & -1.8    &         &  1.0    &         &  8.7    & ⋯       & NA      & NA      &  62.0   &         & 1       &         & NA      & NA      & NA      & NA     \\\\\n",
       "\\end{tabular}\n"
      ],
      "text/markdown": [
       "\n",
       "Date.Time | Year | Month | Mean.Max.Temp..Â.C. | Mean.Max.Temp.Flag | Mean.Min.Temp..Â.C. | Mean.Min.Temp.Flag | Mean.Temp..Â.C. | Mean.Temp.Flag | Extr.Max.Temp..Â.C. | ⋯ | Total.Snow..cm. | Total.Snow.Flag | Total.Precip..mm. | Total.Precip.Flag | Snow.Grnd.Last.Day..cm. | Snow.Grnd.Last.Day.Flag | Dir.of.Max.Gust..10.s.deg. | Dir.of.Max.Gust.Flag | Spd.of.Max.Gust..km.h. | Spd.of.Max.Gust.Flag | \n",
       "|---|---|---|---|---|---|\n",
       "| 2003-07 | 2003    |  7      | 26.4    |         | 17.0    |         | 21.7    |         | 31.6    | ⋯       | NA      | NA      |  49.7   |         | 0       |         | NA      | NA      | NA      | NA      | \n",
       "| 2003-08 | 2003    |  8      | 27.2    |         | 18.2    |         | 22.7    |         | 32.5    | ⋯       | NA      | NA      |  38.5   |         | 0       |         | NA      | NA      | NA      | NA      | \n",
       "| 2003-09 | 2003    |  9      | 21.9    |         | 13.8    |         | 17.8    |         | 27.6    | ⋯       | NA      | NA      |  75.4   |         | 0       |         | NA      | NA      | NA      | NA      | \n",
       "| 2003-10 | 2003    | 10      | 13.5    | E       |  6.5    | E       | 10.0    | E       | 23.6    | ⋯       | NA      | NA      |  48.4   |         | 0       |         | NA      | NA      | NA      | NA      | \n",
       "| 2003-11 | 2003    | 11      |  8.8    |         |  2.6    |         |  5.7    |         | 17.8    | ⋯       | NA      | NA      | 125.3   |         | 0       |         | NA      | NA      | NA      | NA      | \n",
       "| 2003-12 | 2003    | 12      |  3.8    |         | -1.8    |         |  1.0    |         |  8.7    | ⋯       | NA      | NA      |  62.0   |         | 1       |         | NA      | NA      | NA      | NA      | \n",
       "\n",
       "\n"
      ],
      "text/plain": [
       "  Date.Time Year Month Mean.Max.Temp..Â.C. Mean.Max.Temp.Flag\n",
       "1 2003-07   2003  7    26.4                                  \n",
       "2 2003-08   2003  8    27.2                                  \n",
       "3 2003-09   2003  9    21.9                                  \n",
       "4 2003-10   2003 10    13.5                E                 \n",
       "5 2003-11   2003 11     8.8                                  \n",
       "6 2003-12   2003 12     3.8                                  \n",
       "  Mean.Min.Temp..Â.C. Mean.Min.Temp.Flag Mean.Temp..Â.C. Mean.Temp.Flag\n",
       "1 17.0                                   21.7                          \n",
       "2 18.2                                   22.7                          \n",
       "3 13.8                                   17.8                          \n",
       "4  6.5                E                  10.0            E             \n",
       "5  2.6                                    5.7                          \n",
       "6 -1.8                                    1.0                          \n",
       "  Extr.Max.Temp..Â.C. ⋯ Total.Snow..cm. Total.Snow.Flag Total.Precip..mm.\n",
       "1 31.6                ⋯ NA              NA               49.7            \n",
       "2 32.5                ⋯ NA              NA               38.5            \n",
       "3 27.6                ⋯ NA              NA               75.4            \n",
       "4 23.6                ⋯ NA              NA               48.4            \n",
       "5 17.8                ⋯ NA              NA              125.3            \n",
       "6  8.7                ⋯ NA              NA               62.0            \n",
       "  Total.Precip.Flag Snow.Grnd.Last.Day..cm. Snow.Grnd.Last.Day.Flag\n",
       "1                   0                                              \n",
       "2                   0                                              \n",
       "3                   0                                              \n",
       "4                   0                                              \n",
       "5                   0                                              \n",
       "6                   1                                              \n",
       "  Dir.of.Max.Gust..10.s.deg. Dir.of.Max.Gust.Flag Spd.of.Max.Gust..km.h.\n",
       "1 NA                         NA                   NA                    \n",
       "2 NA                         NA                   NA                    \n",
       "3 NA                         NA                   NA                    \n",
       "4 NA                         NA                   NA                    \n",
       "5 NA                         NA                   NA                    \n",
       "6 NA                         NA                   NA                    \n",
       "  Spd.of.Max.Gust.Flag\n",
       "1 NA                  \n",
       "2 NA                  \n",
       "3 NA                  \n",
       "4 NA                  \n",
       "5 NA                  \n",
       "6 NA                  "
      ]
     },
     "metadata": {},
     "output_type": "display_data"
    }
   ],
   "source": [
    "head(mydata) "
   ]
  },
  {
   "cell_type": "code",
   "execution_count": 57,
   "metadata": {
    "collapsed": false
   },
   "outputs": [
    {
     "data": {
      "text/html": [
       "<ol class=list-inline>\n",
       "\t<li>'Date.Time'</li>\n",
       "\t<li>'Year'</li>\n",
       "\t<li>'Month'</li>\n",
       "\t<li>'Mean.Max.Temp..Â.C.'</li>\n",
       "\t<li>'Mean.Max.Temp.Flag'</li>\n",
       "\t<li>'Mean.Min.Temp..Â.C.'</li>\n",
       "\t<li>'Mean.Min.Temp.Flag'</li>\n",
       "\t<li>'Mean.Temp..Â.C.'</li>\n",
       "\t<li>'Mean.Temp.Flag'</li>\n",
       "\t<li>'Extr.Max.Temp..Â.C.'</li>\n",
       "\t<li>'Extr.Max.Temp.Flag'</li>\n",
       "\t<li>'Extr.Min.Temp..Â.C.'</li>\n",
       "\t<li>'Extr.Min.Temp.Flag'</li>\n",
       "\t<li>'Total.Rain..mm.'</li>\n",
       "\t<li>'Total.Rain.Flag'</li>\n",
       "\t<li>'Total.Snow..cm.'</li>\n",
       "\t<li>'Total.Snow.Flag'</li>\n",
       "\t<li>'Total.Precip..mm.'</li>\n",
       "\t<li>'Total.Precip.Flag'</li>\n",
       "\t<li>'Snow.Grnd.Last.Day..cm.'</li>\n",
       "\t<li>'Snow.Grnd.Last.Day.Flag'</li>\n",
       "\t<li>'Dir.of.Max.Gust..10.s.deg.'</li>\n",
       "\t<li>'Dir.of.Max.Gust.Flag'</li>\n",
       "\t<li>'Spd.of.Max.Gust..km.h.'</li>\n",
       "\t<li>'Spd.of.Max.Gust.Flag'</li>\n",
       "</ol>\n"
      ],
      "text/latex": [
       "\\begin{enumerate*}\n",
       "\\item 'Date.Time'\n",
       "\\item 'Year'\n",
       "\\item 'Month'\n",
       "\\item 'Mean.Max.Temp..Â.C.'\n",
       "\\item 'Mean.Max.Temp.Flag'\n",
       "\\item 'Mean.Min.Temp..Â.C.'\n",
       "\\item 'Mean.Min.Temp.Flag'\n",
       "\\item 'Mean.Temp..Â.C.'\n",
       "\\item 'Mean.Temp.Flag'\n",
       "\\item 'Extr.Max.Temp..Â.C.'\n",
       "\\item 'Extr.Max.Temp.Flag'\n",
       "\\item 'Extr.Min.Temp..Â.C.'\n",
       "\\item 'Extr.Min.Temp.Flag'\n",
       "\\item 'Total.Rain..mm.'\n",
       "\\item 'Total.Rain.Flag'\n",
       "\\item 'Total.Snow..cm.'\n",
       "\\item 'Total.Snow.Flag'\n",
       "\\item 'Total.Precip..mm.'\n",
       "\\item 'Total.Precip.Flag'\n",
       "\\item 'Snow.Grnd.Last.Day..cm.'\n",
       "\\item 'Snow.Grnd.Last.Day.Flag'\n",
       "\\item 'Dir.of.Max.Gust..10.s.deg.'\n",
       "\\item 'Dir.of.Max.Gust.Flag'\n",
       "\\item 'Spd.of.Max.Gust..km.h.'\n",
       "\\item 'Spd.of.Max.Gust.Flag'\n",
       "\\end{enumerate*}\n"
      ],
      "text/markdown": [
       "1. 'Date.Time'\n",
       "2. 'Year'\n",
       "3. 'Month'\n",
       "4. 'Mean.Max.Temp..Â.C.'\n",
       "5. 'Mean.Max.Temp.Flag'\n",
       "6. 'Mean.Min.Temp..Â.C.'\n",
       "7. 'Mean.Min.Temp.Flag'\n",
       "8. 'Mean.Temp..Â.C.'\n",
       "9. 'Mean.Temp.Flag'\n",
       "10. 'Extr.Max.Temp..Â.C.'\n",
       "11. 'Extr.Max.Temp.Flag'\n",
       "12. 'Extr.Min.Temp..Â.C.'\n",
       "13. 'Extr.Min.Temp.Flag'\n",
       "14. 'Total.Rain..mm.'\n",
       "15. 'Total.Rain.Flag'\n",
       "16. 'Total.Snow..cm.'\n",
       "17. 'Total.Snow.Flag'\n",
       "18. 'Total.Precip..mm.'\n",
       "19. 'Total.Precip.Flag'\n",
       "20. 'Snow.Grnd.Last.Day..cm.'\n",
       "21. 'Snow.Grnd.Last.Day.Flag'\n",
       "22. 'Dir.of.Max.Gust..10.s.deg.'\n",
       "23. 'Dir.of.Max.Gust.Flag'\n",
       "24. 'Spd.of.Max.Gust..km.h.'\n",
       "25. 'Spd.of.Max.Gust.Flag'\n",
       "\n",
       "\n"
      ],
      "text/plain": [
       " [1] \"Date.Time\"                  \"Year\"                      \n",
       " [3] \"Month\"                      \"Mean.Max.Temp..Â.C.\"       \n",
       " [5] \"Mean.Max.Temp.Flag\"         \"Mean.Min.Temp..Â.C.\"       \n",
       " [7] \"Mean.Min.Temp.Flag\"         \"Mean.Temp..Â.C.\"           \n",
       " [9] \"Mean.Temp.Flag\"             \"Extr.Max.Temp..Â.C.\"       \n",
       "[11] \"Extr.Max.Temp.Flag\"         \"Extr.Min.Temp..Â.C.\"       \n",
       "[13] \"Extr.Min.Temp.Flag\"         \"Total.Rain..mm.\"           \n",
       "[15] \"Total.Rain.Flag\"            \"Total.Snow..cm.\"           \n",
       "[17] \"Total.Snow.Flag\"            \"Total.Precip..mm.\"         \n",
       "[19] \"Total.Precip.Flag\"          \"Snow.Grnd.Last.Day..cm.\"   \n",
       "[21] \"Snow.Grnd.Last.Day.Flag\"    \"Dir.of.Max.Gust..10.s.deg.\"\n",
       "[23] \"Dir.of.Max.Gust.Flag\"       \"Spd.of.Max.Gust..km.h.\"    \n",
       "[25] \"Spd.of.Max.Gust.Flag\"      "
      ]
     },
     "metadata": {},
     "output_type": "display_data"
    }
   ],
   "source": [
    "colnames(mydata) "
   ]
  },
  {
   "cell_type": "code",
   "execution_count": 58,
   "metadata": {
    "collapsed": true
   },
   "outputs": [],
   "source": [
    "mydata <- select(mydata, -ends_with('Flag'))"
   ]
  },
  {
   "cell_type": "code",
   "execution_count": 59,
   "metadata": {
    "collapsed": false
   },
   "outputs": [
    {
     "data": {
      "text/html": [
       "<table>\n",
       "<thead><tr><th scope=col>Date.Time</th><th scope=col>Year</th><th scope=col>Month</th><th scope=col>Mean.Max.Temp..Â.C.</th><th scope=col>Mean.Min.Temp..Â.C.</th><th scope=col>Mean.Temp..Â.C.</th><th scope=col>Extr.Max.Temp..Â.C.</th><th scope=col>Extr.Min.Temp..Â.C.</th><th scope=col>Total.Rain..mm.</th><th scope=col>Total.Snow..cm.</th><th scope=col>Total.Precip..mm.</th><th scope=col>Snow.Grnd.Last.Day..cm.</th><th scope=col>Dir.of.Max.Gust..10.s.deg.</th><th scope=col>Spd.of.Max.Gust..km.h.</th></tr></thead>\n",
       "<tbody>\n",
       "\t<tr><td>2003-07</td><td>2003   </td><td> 7     </td><td>26.4   </td><td>17.0   </td><td>21.7   </td><td>31.6   </td><td>13.4   </td><td>NA     </td><td>NA     </td><td> 49.7  </td><td>0      </td><td>NA     </td><td>NA     </td></tr>\n",
       "\t<tr><td>2003-08</td><td>2003   </td><td> 8     </td><td>27.2   </td><td>18.2   </td><td>22.7   </td><td>32.5   </td><td>12.7   </td><td>NA     </td><td>NA     </td><td> 38.5  </td><td>0      </td><td>NA     </td><td>NA     </td></tr>\n",
       "\t<tr><td>2003-09</td><td>2003   </td><td> 9     </td><td>21.9   </td><td>13.8   </td><td>17.8   </td><td>27.6   </td><td> 5.5   </td><td>NA     </td><td>NA     </td><td> 75.4  </td><td>0      </td><td>NA     </td><td>NA     </td></tr>\n",
       "\t<tr><td>2003-10</td><td>2003   </td><td>10     </td><td>13.5   </td><td> 6.5   </td><td>10.0   </td><td>23.6   </td><td> 1.2   </td><td>NA     </td><td>NA     </td><td> 48.4  </td><td>0      </td><td>NA     </td><td>NA     </td></tr>\n",
       "\t<tr><td>2003-11</td><td>2003   </td><td>11     </td><td> 8.8   </td><td> 2.6   </td><td> 5.7   </td><td>17.8   </td><td>-3.8   </td><td>NA     </td><td>NA     </td><td>125.3  </td><td>0      </td><td>NA     </td><td>NA     </td></tr>\n",
       "\t<tr><td>2003-12</td><td>2003   </td><td>12     </td><td> 3.8   </td><td>-1.8   </td><td> 1.0   </td><td> 8.7   </td><td>-8.4   </td><td>NA     </td><td>NA     </td><td> 62.0  </td><td>1      </td><td>NA     </td><td>NA     </td></tr>\n",
       "</tbody>\n",
       "</table>\n"
      ],
      "text/latex": [
       "\\begin{tabular}{r|llllllllllllll}\n",
       " Date.Time & Year & Month & Mean.Max.Temp..Â.C. & Mean.Min.Temp..Â.C. & Mean.Temp..Â.C. & Extr.Max.Temp..Â.C. & Extr.Min.Temp..Â.C. & Total.Rain..mm. & Total.Snow..cm. & Total.Precip..mm. & Snow.Grnd.Last.Day..cm. & Dir.of.Max.Gust..10.s.deg. & Spd.of.Max.Gust..km.h.\\\\\n",
       "\\hline\n",
       "\t 2003-07 & 2003    &  7      & 26.4    & 17.0    & 21.7    & 31.6    & 13.4    & NA      & NA      &  49.7   & 0       & NA      & NA     \\\\\n",
       "\t 2003-08 & 2003    &  8      & 27.2    & 18.2    & 22.7    & 32.5    & 12.7    & NA      & NA      &  38.5   & 0       & NA      & NA     \\\\\n",
       "\t 2003-09 & 2003    &  9      & 21.9    & 13.8    & 17.8    & 27.6    &  5.5    & NA      & NA      &  75.4   & 0       & NA      & NA     \\\\\n",
       "\t 2003-10 & 2003    & 10      & 13.5    &  6.5    & 10.0    & 23.6    &  1.2    & NA      & NA      &  48.4   & 0       & NA      & NA     \\\\\n",
       "\t 2003-11 & 2003    & 11      &  8.8    &  2.6    &  5.7    & 17.8    & -3.8    & NA      & NA      & 125.3   & 0       & NA      & NA     \\\\\n",
       "\t 2003-12 & 2003    & 12      &  3.8    & -1.8    &  1.0    &  8.7    & -8.4    & NA      & NA      &  62.0   & 1       & NA      & NA     \\\\\n",
       "\\end{tabular}\n"
      ],
      "text/markdown": [
       "\n",
       "Date.Time | Year | Month | Mean.Max.Temp..Â.C. | Mean.Min.Temp..Â.C. | Mean.Temp..Â.C. | Extr.Max.Temp..Â.C. | Extr.Min.Temp..Â.C. | Total.Rain..mm. | Total.Snow..cm. | Total.Precip..mm. | Snow.Grnd.Last.Day..cm. | Dir.of.Max.Gust..10.s.deg. | Spd.of.Max.Gust..km.h. | \n",
       "|---|---|---|---|---|---|\n",
       "| 2003-07 | 2003    |  7      | 26.4    | 17.0    | 21.7    | 31.6    | 13.4    | NA      | NA      |  49.7   | 0       | NA      | NA      | \n",
       "| 2003-08 | 2003    |  8      | 27.2    | 18.2    | 22.7    | 32.5    | 12.7    | NA      | NA      |  38.5   | 0       | NA      | NA      | \n",
       "| 2003-09 | 2003    |  9      | 21.9    | 13.8    | 17.8    | 27.6    |  5.5    | NA      | NA      |  75.4   | 0       | NA      | NA      | \n",
       "| 2003-10 | 2003    | 10      | 13.5    |  6.5    | 10.0    | 23.6    |  1.2    | NA      | NA      |  48.4   | 0       | NA      | NA      | \n",
       "| 2003-11 | 2003    | 11      |  8.8    |  2.6    |  5.7    | 17.8    | -3.8    | NA      | NA      | 125.3   | 0       | NA      | NA      | \n",
       "| 2003-12 | 2003    | 12      |  3.8    | -1.8    |  1.0    |  8.7    | -8.4    | NA      | NA      |  62.0   | 1       | NA      | NA      | \n",
       "\n",
       "\n"
      ],
      "text/plain": [
       "  Date.Time Year Month Mean.Max.Temp..Â.C. Mean.Min.Temp..Â.C. Mean.Temp..Â.C.\n",
       "1 2003-07   2003  7    26.4                17.0                21.7           \n",
       "2 2003-08   2003  8    27.2                18.2                22.7           \n",
       "3 2003-09   2003  9    21.9                13.8                17.8           \n",
       "4 2003-10   2003 10    13.5                 6.5                10.0           \n",
       "5 2003-11   2003 11     8.8                 2.6                 5.7           \n",
       "6 2003-12   2003 12     3.8                -1.8                 1.0           \n",
       "  Extr.Max.Temp..Â.C. Extr.Min.Temp..Â.C. Total.Rain..mm. Total.Snow..cm.\n",
       "1 31.6                13.4                NA              NA             \n",
       "2 32.5                12.7                NA              NA             \n",
       "3 27.6                 5.5                NA              NA             \n",
       "4 23.6                 1.2                NA              NA             \n",
       "5 17.8                -3.8                NA              NA             \n",
       "6  8.7                -8.4                NA              NA             \n",
       "  Total.Precip..mm. Snow.Grnd.Last.Day..cm. Dir.of.Max.Gust..10.s.deg.\n",
       "1  49.7             0                       NA                        \n",
       "2  38.5             0                       NA                        \n",
       "3  75.4             0                       NA                        \n",
       "4  48.4             0                       NA                        \n",
       "5 125.3             0                       NA                        \n",
       "6  62.0             1                       NA                        \n",
       "  Spd.of.Max.Gust..km.h.\n",
       "1 NA                    \n",
       "2 NA                    \n",
       "3 NA                    \n",
       "4 NA                    \n",
       "5 NA                    \n",
       "6 NA                    "
      ]
     },
     "metadata": {},
     "output_type": "display_data"
    }
   ],
   "source": [
    "head(mydata) "
   ]
  },
  {
   "cell_type": "code",
   "execution_count": 60,
   "metadata": {
    "collapsed": true
   },
   "outputs": [],
   "source": [
    "colnames(mydata)[1:6] <- c('date', 'year', 'month', 'maxtemp', 'mintemp', 'meantemp')"
   ]
  },
  {
   "cell_type": "code",
   "execution_count": 61,
   "metadata": {
    "collapsed": false
   },
   "outputs": [
    {
     "data": {
      "text/html": [
       "<table>\n",
       "<thead><tr><th scope=col>date</th><th scope=col>year</th><th scope=col>month</th><th scope=col>maxtemp</th><th scope=col>mintemp</th><th scope=col>meantemp</th><th scope=col>Extr.Max.Temp..Â.C.</th><th scope=col>Extr.Min.Temp..Â.C.</th><th scope=col>Total.Rain..mm.</th><th scope=col>Total.Snow..cm.</th><th scope=col>Total.Precip..mm.</th><th scope=col>Snow.Grnd.Last.Day..cm.</th><th scope=col>Dir.of.Max.Gust..10.s.deg.</th><th scope=col>Spd.of.Max.Gust..km.h.</th></tr></thead>\n",
       "<tbody>\n",
       "\t<tr><td>2003-07</td><td>2003   </td><td> 7     </td><td>26.4   </td><td>17.0   </td><td>21.7   </td><td>31.6   </td><td>13.4   </td><td>NA     </td><td>NA     </td><td> 49.7  </td><td>0      </td><td>NA     </td><td>NA     </td></tr>\n",
       "\t<tr><td>2003-08</td><td>2003   </td><td> 8     </td><td>27.2   </td><td>18.2   </td><td>22.7   </td><td>32.5   </td><td>12.7   </td><td>NA     </td><td>NA     </td><td> 38.5  </td><td>0      </td><td>NA     </td><td>NA     </td></tr>\n",
       "\t<tr><td>2003-09</td><td>2003   </td><td> 9     </td><td>21.9   </td><td>13.8   </td><td>17.8   </td><td>27.6   </td><td> 5.5   </td><td>NA     </td><td>NA     </td><td> 75.4  </td><td>0      </td><td>NA     </td><td>NA     </td></tr>\n",
       "\t<tr><td>2003-10</td><td>2003   </td><td>10     </td><td>13.5   </td><td> 6.5   </td><td>10.0   </td><td>23.6   </td><td> 1.2   </td><td>NA     </td><td>NA     </td><td> 48.4  </td><td>0      </td><td>NA     </td><td>NA     </td></tr>\n",
       "\t<tr><td>2003-11</td><td>2003   </td><td>11     </td><td> 8.8   </td><td> 2.6   </td><td> 5.7   </td><td>17.8   </td><td>-3.8   </td><td>NA     </td><td>NA     </td><td>125.3  </td><td>0      </td><td>NA     </td><td>NA     </td></tr>\n",
       "\t<tr><td>2003-12</td><td>2003   </td><td>12     </td><td> 3.8   </td><td>-1.8   </td><td> 1.0   </td><td> 8.7   </td><td>-8.4   </td><td>NA     </td><td>NA     </td><td> 62.0  </td><td>1      </td><td>NA     </td><td>NA     </td></tr>\n",
       "</tbody>\n",
       "</table>\n"
      ],
      "text/latex": [
       "\\begin{tabular}{r|llllllllllllll}\n",
       " date & year & month & maxtemp & mintemp & meantemp & Extr.Max.Temp..Â.C. & Extr.Min.Temp..Â.C. & Total.Rain..mm. & Total.Snow..cm. & Total.Precip..mm. & Snow.Grnd.Last.Day..cm. & Dir.of.Max.Gust..10.s.deg. & Spd.of.Max.Gust..km.h.\\\\\n",
       "\\hline\n",
       "\t 2003-07 & 2003    &  7      & 26.4    & 17.0    & 21.7    & 31.6    & 13.4    & NA      & NA      &  49.7   & 0       & NA      & NA     \\\\\n",
       "\t 2003-08 & 2003    &  8      & 27.2    & 18.2    & 22.7    & 32.5    & 12.7    & NA      & NA      &  38.5   & 0       & NA      & NA     \\\\\n",
       "\t 2003-09 & 2003    &  9      & 21.9    & 13.8    & 17.8    & 27.6    &  5.5    & NA      & NA      &  75.4   & 0       & NA      & NA     \\\\\n",
       "\t 2003-10 & 2003    & 10      & 13.5    &  6.5    & 10.0    & 23.6    &  1.2    & NA      & NA      &  48.4   & 0       & NA      & NA     \\\\\n",
       "\t 2003-11 & 2003    & 11      &  8.8    &  2.6    &  5.7    & 17.8    & -3.8    & NA      & NA      & 125.3   & 0       & NA      & NA     \\\\\n",
       "\t 2003-12 & 2003    & 12      &  3.8    & -1.8    &  1.0    &  8.7    & -8.4    & NA      & NA      &  62.0   & 1       & NA      & NA     \\\\\n",
       "\\end{tabular}\n"
      ],
      "text/markdown": [
       "\n",
       "date | year | month | maxtemp | mintemp | meantemp | Extr.Max.Temp..Â.C. | Extr.Min.Temp..Â.C. | Total.Rain..mm. | Total.Snow..cm. | Total.Precip..mm. | Snow.Grnd.Last.Day..cm. | Dir.of.Max.Gust..10.s.deg. | Spd.of.Max.Gust..km.h. | \n",
       "|---|---|---|---|---|---|\n",
       "| 2003-07 | 2003    |  7      | 26.4    | 17.0    | 21.7    | 31.6    | 13.4    | NA      | NA      |  49.7   | 0       | NA      | NA      | \n",
       "| 2003-08 | 2003    |  8      | 27.2    | 18.2    | 22.7    | 32.5    | 12.7    | NA      | NA      |  38.5   | 0       | NA      | NA      | \n",
       "| 2003-09 | 2003    |  9      | 21.9    | 13.8    | 17.8    | 27.6    |  5.5    | NA      | NA      |  75.4   | 0       | NA      | NA      | \n",
       "| 2003-10 | 2003    | 10      | 13.5    |  6.5    | 10.0    | 23.6    |  1.2    | NA      | NA      |  48.4   | 0       | NA      | NA      | \n",
       "| 2003-11 | 2003    | 11      |  8.8    |  2.6    |  5.7    | 17.8    | -3.8    | NA      | NA      | 125.3   | 0       | NA      | NA      | \n",
       "| 2003-12 | 2003    | 12      |  3.8    | -1.8    |  1.0    |  8.7    | -8.4    | NA      | NA      |  62.0   | 1       | NA      | NA      | \n",
       "\n",
       "\n"
      ],
      "text/plain": [
       "  date    year month maxtemp mintemp meantemp Extr.Max.Temp..Â.C.\n",
       "1 2003-07 2003  7    26.4    17.0    21.7     31.6               \n",
       "2 2003-08 2003  8    27.2    18.2    22.7     32.5               \n",
       "3 2003-09 2003  9    21.9    13.8    17.8     27.6               \n",
       "4 2003-10 2003 10    13.5     6.5    10.0     23.6               \n",
       "5 2003-11 2003 11     8.8     2.6     5.7     17.8               \n",
       "6 2003-12 2003 12     3.8    -1.8     1.0      8.7               \n",
       "  Extr.Min.Temp..Â.C. Total.Rain..mm. Total.Snow..cm. Total.Precip..mm.\n",
       "1 13.4                NA              NA               49.7            \n",
       "2 12.7                NA              NA               38.5            \n",
       "3  5.5                NA              NA               75.4            \n",
       "4  1.2                NA              NA               48.4            \n",
       "5 -3.8                NA              NA              125.3            \n",
       "6 -8.4                NA              NA               62.0            \n",
       "  Snow.Grnd.Last.Day..cm. Dir.of.Max.Gust..10.s.deg. Spd.of.Max.Gust..km.h.\n",
       "1 0                       NA                         NA                    \n",
       "2 0                       NA                         NA                    \n",
       "3 0                       NA                         NA                    \n",
       "4 0                       NA                         NA                    \n",
       "5 0                       NA                         NA                    \n",
       "6 1                       NA                         NA                    "
      ]
     },
     "metadata": {},
     "output_type": "display_data"
    }
   ],
   "source": [
    "head(mydata) "
   ]
  },
  {
   "cell_type": "code",
   "execution_count": 64,
   "metadata": {
    "collapsed": false
   },
   "outputs": [],
   "source": [
    "ourplot <- ggplot(mydata, aes(x = date, y = meantemp)) "
   ]
  },
  {
   "cell_type": "code",
   "execution_count": 66,
   "metadata": {
    "collapsed": false
   },
   "outputs": [
    {
     "data": {},
     "metadata": {},
     "output_type": "display_data"
    },
    {
     "data": {
      "image/png": "[encoded data removed]",
      "text/plain": [
       "plot without title"
      ]
     },
     "metadata": {},
     "output_type": "display_data"
    }
   ],
   "source": [
    "ourplot + geom_point() "
   ]
  },
  {
   "cell_type": "code",
   "execution_count": 67,
   "metadata": {
    "collapsed": false
   },
   "outputs": [
    {
     "data": {
      "text/html": [
       "<ol class=list-inline>\n",
       "\t<li>2003</li>\n",
       "\t<li>2004</li>\n",
       "\t<li>2005</li>\n",
       "\t<li>2006</li>\n",
       "</ol>\n"
      ],
      "text/latex": [
       "\\begin{enumerate*}\n",
       "\\item 2003\n",
       "\\item 2004\n",
       "\\item 2005\n",
       "\\item 2006\n",
       "\\end{enumerate*}\n"
      ],
      "text/markdown": [
       "1. 2003\n",
       "2. 2004\n",
       "3. 2005\n",
       "4. 2006\n",
       "\n",
       "\n"
      ],
      "text/plain": [
       "[1] 2003 2004 2005 2006"
      ]
     },
     "metadata": {},
     "output_type": "display_data"
    }
   ],
   "source": [
    "unique(mydata$year)"
   ]
  },
  {
   "cell_type": "code",
   "execution_count": 68,
   "metadata": {
    "collapsed": false
   },
   "outputs": [
    {
     "data": {
      "text/html": [
       "<ol class=list-inline>\n",
       "\t<li>42</li>\n",
       "\t<li>14</li>\n",
       "</ol>\n"
      ],
      "text/latex": [
       "\\begin{enumerate*}\n",
       "\\item 42\n",
       "\\item 14\n",
       "\\end{enumerate*}\n"
      ],
      "text/markdown": [
       "1. 42\n",
       "2. 14\n",
       "\n",
       "\n"
      ],
      "text/plain": [
       "[1] 42 14"
      ]
     },
     "metadata": {},
     "output_type": "display_data"
    }
   ],
   "source": [
    "dim(mydata) "
   ]
  },
  {
   "cell_type": "code",
   "execution_count": 69,
   "metadata": {
    "collapsed": true
   },
   "outputs": [],
   "source": [
    "data2003 <- filter(mydata, year == 2003)"
   ]
  },
  {
   "cell_type": "code",
   "execution_count": 71,
   "metadata": {
    "collapsed": false
   },
   "outputs": [
    {
     "data": {
      "text/html": [
       "2003"
      ],
      "text/latex": [
       "2003"
      ],
      "text/markdown": [
       "2003"
      ],
      "text/plain": [
       "[1] 2003"
      ]
     },
     "metadata": {},
     "output_type": "display_data"
    }
   ],
   "source": [
    "unique(data2003$year)"
   ]
  },
  {
   "cell_type": "code",
   "execution_count": 72,
   "metadata": {
    "collapsed": false
   },
   "outputs": [
    {
     "data": {},
     "metadata": {},
     "output_type": "display_data"
    },
    {
     "data": {
      "image/png": "[encoded data removed]",
      "text/plain": [
       "plot without title"
      ]
     },
     "metadata": {},
     "output_type": "display_data"
    }
   ],
   "source": [
    "plot2003 <- ggplot(data2003, aes(x = date, y = meantemp))\n",
    "\n",
    "plot2003 + geom_col() "
   ]
  },
  {
   "cell_type": "code",
   "execution_count": 73,
   "metadata": {
    "collapsed": false
   },
   "outputs": [
    {
     "name": "stdout",
     "output_type": "stream",
     "text": [
      "'data.frame':\t6 obs. of  14 variables:\n",
      " $ date                      : Factor w/ 42 levels \"2003-07\",\"2003-08\",..: 1 2 3 4 5 6\n",
      " $ year                      : int  2003 2003 2003 2003 2003 2003\n",
      " $ month                     : int  7 8 9 10 11 12\n",
      " $ maxtemp                   : num  26.4 27.2 21.9 13.5 8.8 3.8\n",
      " $ mintemp                   : num  17 18.2 13.8 6.5 2.6 -1.8\n",
      " $ meantemp                  : num  21.7 22.7 17.8 10 5.7 1\n",
      " $ Extr.Max.Temp..Â.C.       : num  31.6 32.5 27.6 23.6 17.8 8.7\n",
      " $ Extr.Min.Temp..Â.C.       : num  13.4 12.7 5.5 1.2 -3.8 -8.4\n",
      " $ Total.Rain..mm.           : logi  NA NA NA NA NA NA\n",
      " $ Total.Snow..cm.           : logi  NA NA NA NA NA NA\n",
      " $ Total.Precip..mm.         : num  49.7 38.5 75.4 48.4 125.3 ...\n",
      " $ Snow.Grnd.Last.Day..cm.   : int  0 0 0 0 0 1\n",
      " $ Dir.of.Max.Gust..10.s.deg.: logi  NA NA NA NA NA NA\n",
      " $ Spd.of.Max.Gust..km.h.    : logi  NA NA NA NA NA NA\n"
     ]
    }
   ],
   "source": [
    "str(data2003) "
   ]
  },
  {
   "cell_type": "code",
   "execution_count": 76,
   "metadata": {
    "collapsed": false
   },
   "outputs": [
    {
     "data": {},
     "metadata": {},
     "output_type": "display_data"
    },
    {
     "data": {
      "image/png": "[encoded data removed]",
      "text/plain": [
       "plot without title"
      ]
     },
     "metadata": {},
     "output_type": "display_data"
    }
   ],
   "source": [
    "ggplot(mydata, aes(x = date, y = meantemp, group = 1)) +\n",
    "geom_line() +\n",
    "geom_line(aes(x = date, y = mintemp), col = 'red') +\n",
    "geom_line(aes(x = date, y = maxtemp), col = 'green') "
   ]
  },
  {
   "cell_type": "code",
   "execution_count": 77,
   "metadata": {
    "collapsed": true
   },
   "outputs": [],
   "source": [
    "outbreaks <- read.csv('outbreaks20112017.csv', header = TRUE) "
   ]
  },
  {
   "cell_type": "code",
   "execution_count": 78,
   "metadata": {
    "collapsed": false
   },
   "outputs": [
    {
     "data": {
      "text/html": [
       "<table>\n",
       "<thead><tr><th scope=col>Year.Week</th><th scope=col>start.date</th><th scope=col>end.date</th><th scope=col>influenza.A.outbreaks</th><th scope=col>influenza.B.outbreaks</th><th scope=col>respiratory.syncytial.virus.outbreaks</th><th scope=col>parainfluenza..all.types..outbreaks</th><th scope=col>influenza.A.B.outbreaks</th><th scope=col>entero.rhinovirus.outbreaks</th><th scope=col>outbreaks.with.other.organisms</th><th scope=col>combined.outbreaks</th></tr></thead>\n",
       "<tbody>\n",
       "\t<tr><td>2011-36           </td><td>September 4, 2011 </td><td>September 10, 2011</td><td>-                 </td><td>-                 </td><td>-                 </td><td>-                 </td><td>-                 </td><td>5                 </td><td>-                 </td><td>-                 </td></tr>\n",
       "\t<tr><td>2011-37           </td><td>September 11, 2011</td><td>September 17, 2011</td><td>-                 </td><td>-                 </td><td>-                 </td><td>1                 </td><td>-                 </td><td>7                 </td><td>-                 </td><td>-                 </td></tr>\n",
       "\t<tr><td>2011-38           </td><td>September 18, 2011</td><td>September 24, 2011</td><td>-                 </td><td>-                 </td><td>-                 </td><td>-                 </td><td>-                 </td><td>16                </td><td>-                 </td><td>-                 </td></tr>\n",
       "\t<tr><td>2011-39           </td><td>September 25, 2011</td><td>October 1, 2011   </td><td>-                 </td><td>-                 </td><td>-                 </td><td>-                 </td><td>-                 </td><td>14                </td><td>-                 </td><td>-                 </td></tr>\n",
       "\t<tr><td>2011-40           </td><td>October 2, 2011   </td><td>October 8, 2011   </td><td>-                 </td><td>-                 </td><td>1                 </td><td>-                 </td><td>-                 </td><td>10                </td><td>-                 </td><td>2                 </td></tr>\n",
       "\t<tr><td>2011-41           </td><td>October 9, 2011   </td><td>October 15, 2011  </td><td>-                 </td><td>-                 </td><td>-                 </td><td>1                 </td><td>-                 </td><td>9                 </td><td>-                 </td><td>1                 </td></tr>\n",
       "</tbody>\n",
       "</table>\n"
      ],
      "text/latex": [
       "\\begin{tabular}{r|lllllllllll}\n",
       " Year.Week & start.date & end.date & influenza.A.outbreaks & influenza.B.outbreaks & respiratory.syncytial.virus.outbreaks & parainfluenza..all.types..outbreaks & influenza.A.B.outbreaks & entero.rhinovirus.outbreaks & outbreaks.with.other.organisms & combined.outbreaks\\\\\n",
       "\\hline\n",
       "\t 2011-36            & September 4, 2011  & September 10, 2011 & -                  & -                  & -                  & -                  & -                  & 5                  & -                  & -                 \\\\\n",
       "\t 2011-37            & September 11, 2011 & September 17, 2011 & -                  & -                  & -                  & 1                  & -                  & 7                  & -                  & -                 \\\\\n",
       "\t 2011-38            & September 18, 2011 & September 24, 2011 & -                  & -                  & -                  & -                  & -                  & 16                 & -                  & -                 \\\\\n",
       "\t 2011-39            & September 25, 2011 & October 1, 2011    & -                  & -                  & -                  & -                  & -                  & 14                 & -                  & -                 \\\\\n",
       "\t 2011-40            & October 2, 2011    & October 8, 2011    & -                  & -                  & 1                  & -                  & -                  & 10                 & -                  & 2                 \\\\\n",
       "\t 2011-41            & October 9, 2011    & October 15, 2011   & -                  & -                  & -                  & 1                  & -                  & 9                  & -                  & 1                 \\\\\n",
       "\\end{tabular}\n"
      ],
      "text/markdown": [
       "\n",
       "Year.Week | start.date | end.date | influenza.A.outbreaks | influenza.B.outbreaks | respiratory.syncytial.virus.outbreaks | parainfluenza..all.types..outbreaks | influenza.A.B.outbreaks | entero.rhinovirus.outbreaks | outbreaks.with.other.organisms | combined.outbreaks | \n",
       "|---|---|---|---|---|---|\n",
       "| 2011-36            | September 4, 2011  | September 10, 2011 | -                  | -                  | -                  | -                  | -                  | 5                  | -                  | -                  | \n",
       "| 2011-37            | September 11, 2011 | September 17, 2011 | -                  | -                  | -                  | 1                  | -                  | 7                  | -                  | -                  | \n",
       "| 2011-38            | September 18, 2011 | September 24, 2011 | -                  | -                  | -                  | -                  | -                  | 16                 | -                  | -                  | \n",
       "| 2011-39            | September 25, 2011 | October 1, 2011    | -                  | -                  | -                  | -                  | -                  | 14                 | -                  | -                  | \n",
       "| 2011-40            | October 2, 2011    | October 8, 2011    | -                  | -                  | 1                  | -                  | -                  | 10                 | -                  | 2                  | \n",
       "| 2011-41            | October 9, 2011    | October 15, 2011   | -                  | -                  | -                  | 1                  | -                  | 9                  | -                  | 1                  | \n",
       "\n",
       "\n"
      ],
      "text/plain": [
       "  Year.Week start.date         end.date           influenza.A.outbreaks\n",
       "1 2011-36   September 4, 2011  September 10, 2011 -                    \n",
       "2 2011-37   September 11, 2011 September 17, 2011 -                    \n",
       "3 2011-38   September 18, 2011 September 24, 2011 -                    \n",
       "4 2011-39   September 25, 2011 October 1, 2011    -                    \n",
       "5 2011-40   October 2, 2011    October 8, 2011    -                    \n",
       "6 2011-41   October 9, 2011    October 15, 2011   -                    \n",
       "  influenza.B.outbreaks respiratory.syncytial.virus.outbreaks\n",
       "1 -                     -                                    \n",
       "2 -                     -                                    \n",
       "3 -                     -                                    \n",
       "4 -                     -                                    \n",
       "5 -                     1                                    \n",
       "6 -                     -                                    \n",
       "  parainfluenza..all.types..outbreaks influenza.A.B.outbreaks\n",
       "1 -                                   -                      \n",
       "2 1                                   -                      \n",
       "3 -                                   -                      \n",
       "4 -                                   -                      \n",
       "5 -                                   -                      \n",
       "6 1                                   -                      \n",
       "  entero.rhinovirus.outbreaks outbreaks.with.other.organisms combined.outbreaks\n",
       "1 5                           -                              -                 \n",
       "2 7                           -                              -                 \n",
       "3 16                          -                              -                 \n",
       "4 14                          -                              -                 \n",
       "5 10                          -                              2                 \n",
       "6 9                           -                              1                 "
      ]
     },
     "metadata": {},
     "output_type": "display_data"
    }
   ],
   "source": [
    "head(outbreaks) "
   ]
  },
  {
   "cell_type": "code",
   "execution_count": 79,
   "metadata": {
    "collapsed": false
   },
   "outputs": [
    {
     "name": "stdout",
     "output_type": "stream",
     "text": [
      "'data.frame':\t295 obs. of  11 variables:\n",
      " $ Year.Week                            : Factor w/ 295 levels \"2011-36\",\"2011-37\",..: 1 2 3 4 5 6 7 8 9 10 ...\n",
      " $ start.date                           : Factor w/ 295 levels \"April 1, 2012\",..: 290 271 277 284 252 268 248 256 262 240 ...\n",
      " $ end.date                             : Factor w/ 295 levels \"April 1, 2017\",..: 273 279 285 245 270 251 257 263 240 221 ...\n",
      " $ influenza.A.outbreaks                : Factor w/ 46 levels \"-\",\"0\",\"1\",\"10\",..: 1 1 1 1 1 1 1 1 1 1 ...\n",
      " $ influenza.B.outbreaks                : Factor w/ 20 levels \"-\",\"0\",\"1\",\"10\",..: 1 1 1 1 1 1 1 1 1 1 ...\n",
      " $ respiratory.syncytial.virus.outbreaks: Factor w/ 11 levels \"-\",\"0\",\"1\",\"10\",..: 1 1 1 1 3 1 1 1 1 1 ...\n",
      " $ parainfluenza..all.types..outbreaks  : Factor w/ 8 levels \"-\",\"0\",\"1\",\"2\",..: 1 3 1 1 1 3 3 3 3 1 ...\n",
      " $ influenza.A.B.outbreaks              : Factor w/ 4 levels \"-\",\"0\",\"1\",\"2\": 1 1 1 1 1 1 1 1 1 1 ...\n",
      " $ entero.rhinovirus.outbreaks          : Factor w/ 27 levels \"-\",\"0\",\"1\",\"10\",..: 23 25 10 8 4 27 22 24 14 22 ...\n",
      " $ outbreaks.with.other.organisms       : Factor w/ 19 levels \"-\",\"0\",\"1\",\"10\",..: 1 1 1 1 1 1 1 1 1 1 ...\n",
      " $ combined.outbreaks                   : Factor w/ 14 levels \"-\",\"0\",\"1\",\"10\",..: 1 1 1 1 8 3 1 3 1 1 ...\n"
     ]
    }
   ],
   "source": [
    "str(outbreaks) "
   ]
  },
  {
   "cell_type": "code",
   "execution_count": 80,
   "metadata": {
    "collapsed": false
   },
   "outputs": [
    {
     "data": {
      "text/html": [
       "<table>\n",
       "<thead><tr><th scope=col>Year.Week</th><th scope=col>start.date</th><th scope=col>end.date</th><th scope=col>influenza.A.outbreaks</th><th scope=col>influenza.B.outbreaks</th><th scope=col>respiratory.syncytial.virus.outbreaks</th><th scope=col>parainfluenza..all.types..outbreaks</th><th scope=col>influenza.A.B.outbreaks</th><th scope=col>entero.rhinovirus.outbreaks</th><th scope=col>outbreaks.with.other.organisms</th><th scope=col>combined.outbreaks</th></tr></thead>\n",
       "<tbody>\n",
       "\t<tr><td>2011-36           </td><td>September 4, 2011 </td><td>September 10, 2011</td><td>-                 </td><td>-                 </td><td>-                 </td><td>-                 </td><td>-                 </td><td>5                 </td><td>-                 </td><td>-                 </td></tr>\n",
       "\t<tr><td>2011-37           </td><td>September 11, 2011</td><td>September 17, 2011</td><td>-                 </td><td>-                 </td><td>-                 </td><td>1                 </td><td>-                 </td><td>7                 </td><td>-                 </td><td>-                 </td></tr>\n",
       "\t<tr><td>2011-38           </td><td>September 18, 2011</td><td>September 24, 2011</td><td>-                 </td><td>-                 </td><td>-                 </td><td>-                 </td><td>-                 </td><td>16                </td><td>-                 </td><td>-                 </td></tr>\n",
       "\t<tr><td>2011-39           </td><td>September 25, 2011</td><td>October 1, 2011   </td><td>-                 </td><td>-                 </td><td>-                 </td><td>-                 </td><td>-                 </td><td>14                </td><td>-                 </td><td>-                 </td></tr>\n",
       "\t<tr><td>2011-40           </td><td>October 2, 2011   </td><td>October 8, 2011   </td><td>-                 </td><td>-                 </td><td>1                 </td><td>-                 </td><td>-                 </td><td>10                </td><td>-                 </td><td>2                 </td></tr>\n",
       "\t<tr><td>2011-41           </td><td>October 9, 2011   </td><td>October 15, 2011  </td><td>-                 </td><td>-                 </td><td>-                 </td><td>1                 </td><td>-                 </td><td>9                 </td><td>-                 </td><td>1                 </td></tr>\n",
       "</tbody>\n",
       "</table>\n"
      ],
      "text/latex": [
       "\\begin{tabular}{r|lllllllllll}\n",
       " Year.Week & start.date & end.date & influenza.A.outbreaks & influenza.B.outbreaks & respiratory.syncytial.virus.outbreaks & parainfluenza..all.types..outbreaks & influenza.A.B.outbreaks & entero.rhinovirus.outbreaks & outbreaks.with.other.organisms & combined.outbreaks\\\\\n",
       "\\hline\n",
       "\t 2011-36            & September 4, 2011  & September 10, 2011 & -                  & -                  & -                  & -                  & -                  & 5                  & -                  & -                 \\\\\n",
       "\t 2011-37            & September 11, 2011 & September 17, 2011 & -                  & -                  & -                  & 1                  & -                  & 7                  & -                  & -                 \\\\\n",
       "\t 2011-38            & September 18, 2011 & September 24, 2011 & -                  & -                  & -                  & -                  & -                  & 16                 & -                  & -                 \\\\\n",
       "\t 2011-39            & September 25, 2011 & October 1, 2011    & -                  & -                  & -                  & -                  & -                  & 14                 & -                  & -                 \\\\\n",
       "\t 2011-40            & October 2, 2011    & October 8, 2011    & -                  & -                  & 1                  & -                  & -                  & 10                 & -                  & 2                 \\\\\n",
       "\t 2011-41            & October 9, 2011    & October 15, 2011   & -                  & -                  & -                  & 1                  & -                  & 9                  & -                  & 1                 \\\\\n",
       "\\end{tabular}\n"
      ],
      "text/markdown": [
       "\n",
       "Year.Week | start.date | end.date | influenza.A.outbreaks | influenza.B.outbreaks | respiratory.syncytial.virus.outbreaks | parainfluenza..all.types..outbreaks | influenza.A.B.outbreaks | entero.rhinovirus.outbreaks | outbreaks.with.other.organisms | combined.outbreaks | \n",
       "|---|---|---|---|---|---|\n",
       "| 2011-36            | September 4, 2011  | September 10, 2011 | -                  | -                  | -                  | -                  | -                  | 5                  | -                  | -                  | \n",
       "| 2011-37            | September 11, 2011 | September 17, 2011 | -                  | -                  | -                  | 1                  | -                  | 7                  | -                  | -                  | \n",
       "| 2011-38            | September 18, 2011 | September 24, 2011 | -                  | -                  | -                  | -                  | -                  | 16                 | -                  | -                  | \n",
       "| 2011-39            | September 25, 2011 | October 1, 2011    | -                  | -                  | -                  | -                  | -                  | 14                 | -                  | -                  | \n",
       "| 2011-40            | October 2, 2011    | October 8, 2011    | -                  | -                  | 1                  | -                  | -                  | 10                 | -                  | 2                  | \n",
       "| 2011-41            | October 9, 2011    | October 15, 2011   | -                  | -                  | -                  | 1                  | -                  | 9                  | -                  | 1                  | \n",
       "\n",
       "\n"
      ],
      "text/plain": [
       "  Year.Week start.date         end.date           influenza.A.outbreaks\n",
       "1 2011-36   September 4, 2011  September 10, 2011 -                    \n",
       "2 2011-37   September 11, 2011 September 17, 2011 -                    \n",
       "3 2011-38   September 18, 2011 September 24, 2011 -                    \n",
       "4 2011-39   September 25, 2011 October 1, 2011    -                    \n",
       "5 2011-40   October 2, 2011    October 8, 2011    -                    \n",
       "6 2011-41   October 9, 2011    October 15, 2011   -                    \n",
       "  influenza.B.outbreaks respiratory.syncytial.virus.outbreaks\n",
       "1 -                     -                                    \n",
       "2 -                     -                                    \n",
       "3 -                     -                                    \n",
       "4 -                     -                                    \n",
       "5 -                     1                                    \n",
       "6 -                     -                                    \n",
       "  parainfluenza..all.types..outbreaks influenza.A.B.outbreaks\n",
       "1 -                                   -                      \n",
       "2 1                                   -                      \n",
       "3 -                                   -                      \n",
       "4 -                                   -                      \n",
       "5 -                                   -                      \n",
       "6 1                                   -                      \n",
       "  entero.rhinovirus.outbreaks outbreaks.with.other.organisms combined.outbreaks\n",
       "1 5                           -                              -                 \n",
       "2 7                           -                              -                 \n",
       "3 16                          -                              -                 \n",
       "4 14                          -                              -                 \n",
       "5 10                          -                              2                 \n",
       "6 9                           -                              1                 "
      ]
     },
     "metadata": {},
     "output_type": "display_data"
    }
   ],
   "source": [
    "head(outbreaks) "
   ]
  },
  {
   "cell_type": "code",
   "execution_count": 81,
   "metadata": {
    "collapsed": true
   },
   "outputs": [],
   "source": [
    "outbreaks <- separate(outbreaks, Year.Week, c('year', 'week'))"
   ]
  },
  {
   "cell_type": "code",
   "execution_count": 82,
   "metadata": {
    "collapsed": false
   },
   "outputs": [
    {
     "data": {
      "text/html": [
       "<table>\n",
       "<thead><tr><th scope=col>year</th><th scope=col>week</th><th scope=col>start.date</th><th scope=col>end.date</th><th scope=col>influenza.A.outbreaks</th><th scope=col>influenza.B.outbreaks</th><th scope=col>respiratory.syncytial.virus.outbreaks</th><th scope=col>parainfluenza..all.types..outbreaks</th><th scope=col>influenza.A.B.outbreaks</th><th scope=col>entero.rhinovirus.outbreaks</th><th scope=col>outbreaks.with.other.organisms</th><th scope=col>combined.outbreaks</th></tr></thead>\n",
       "<tbody>\n",
       "\t<tr><td>2011              </td><td>36                </td><td>September 4, 2011 </td><td>September 10, 2011</td><td>-                 </td><td>-                 </td><td>-                 </td><td>-                 </td><td>-                 </td><td>5                 </td><td>-                 </td><td>-                 </td></tr>\n",
       "\t<tr><td>2011              </td><td>37                </td><td>September 11, 2011</td><td>September 17, 2011</td><td>-                 </td><td>-                 </td><td>-                 </td><td>1                 </td><td>-                 </td><td>7                 </td><td>-                 </td><td>-                 </td></tr>\n",
       "\t<tr><td>2011              </td><td>38                </td><td>September 18, 2011</td><td>September 24, 2011</td><td>-                 </td><td>-                 </td><td>-                 </td><td>-                 </td><td>-                 </td><td>16                </td><td>-                 </td><td>-                 </td></tr>\n",
       "\t<tr><td>2011              </td><td>39                </td><td>September 25, 2011</td><td>October 1, 2011   </td><td>-                 </td><td>-                 </td><td>-                 </td><td>-                 </td><td>-                 </td><td>14                </td><td>-                 </td><td>-                 </td></tr>\n",
       "\t<tr><td>2011              </td><td>40                </td><td>October 2, 2011   </td><td>October 8, 2011   </td><td>-                 </td><td>-                 </td><td>1                 </td><td>-                 </td><td>-                 </td><td>10                </td><td>-                 </td><td>2                 </td></tr>\n",
       "\t<tr><td>2011              </td><td>41                </td><td>October 9, 2011   </td><td>October 15, 2011  </td><td>-                 </td><td>-                 </td><td>-                 </td><td>1                 </td><td>-                 </td><td>9                 </td><td>-                 </td><td>1                 </td></tr>\n",
       "</tbody>\n",
       "</table>\n"
      ],
      "text/latex": [
       "\\begin{tabular}{r|llllllllllll}\n",
       " year & week & start.date & end.date & influenza.A.outbreaks & influenza.B.outbreaks & respiratory.syncytial.virus.outbreaks & parainfluenza..all.types..outbreaks & influenza.A.B.outbreaks & entero.rhinovirus.outbreaks & outbreaks.with.other.organisms & combined.outbreaks\\\\\n",
       "\\hline\n",
       "\t 2011               & 36                 & September 4, 2011  & September 10, 2011 & -                  & -                  & -                  & -                  & -                  & 5                  & -                  & -                 \\\\\n",
       "\t 2011               & 37                 & September 11, 2011 & September 17, 2011 & -                  & -                  & -                  & 1                  & -                  & 7                  & -                  & -                 \\\\\n",
       "\t 2011               & 38                 & September 18, 2011 & September 24, 2011 & -                  & -                  & -                  & -                  & -                  & 16                 & -                  & -                 \\\\\n",
       "\t 2011               & 39                 & September 25, 2011 & October 1, 2011    & -                  & -                  & -                  & -                  & -                  & 14                 & -                  & -                 \\\\\n",
       "\t 2011               & 40                 & October 2, 2011    & October 8, 2011    & -                  & -                  & 1                  & -                  & -                  & 10                 & -                  & 2                 \\\\\n",
       "\t 2011               & 41                 & October 9, 2011    & October 15, 2011   & -                  & -                  & -                  & 1                  & -                  & 9                  & -                  & 1                 \\\\\n",
       "\\end{tabular}\n"
      ],
      "text/markdown": [
       "\n",
       "year | week | start.date | end.date | influenza.A.outbreaks | influenza.B.outbreaks | respiratory.syncytial.virus.outbreaks | parainfluenza..all.types..outbreaks | influenza.A.B.outbreaks | entero.rhinovirus.outbreaks | outbreaks.with.other.organisms | combined.outbreaks | \n",
       "|---|---|---|---|---|---|\n",
       "| 2011               | 36                 | September 4, 2011  | September 10, 2011 | -                  | -                  | -                  | -                  | -                  | 5                  | -                  | -                  | \n",
       "| 2011               | 37                 | September 11, 2011 | September 17, 2011 | -                  | -                  | -                  | 1                  | -                  | 7                  | -                  | -                  | \n",
       "| 2011               | 38                 | September 18, 2011 | September 24, 2011 | -                  | -                  | -                  | -                  | -                  | 16                 | -                  | -                  | \n",
       "| 2011               | 39                 | September 25, 2011 | October 1, 2011    | -                  | -                  | -                  | -                  | -                  | 14                 | -                  | -                  | \n",
       "| 2011               | 40                 | October 2, 2011    | October 8, 2011    | -                  | -                  | 1                  | -                  | -                  | 10                 | -                  | 2                  | \n",
       "| 2011               | 41                 | October 9, 2011    | October 15, 2011   | -                  | -                  | -                  | 1                  | -                  | 9                  | -                  | 1                  | \n",
       "\n",
       "\n"
      ],
      "text/plain": [
       "  year week start.date         end.date           influenza.A.outbreaks\n",
       "1 2011 36   September 4, 2011  September 10, 2011 -                    \n",
       "2 2011 37   September 11, 2011 September 17, 2011 -                    \n",
       "3 2011 38   September 18, 2011 September 24, 2011 -                    \n",
       "4 2011 39   September 25, 2011 October 1, 2011    -                    \n",
       "5 2011 40   October 2, 2011    October 8, 2011    -                    \n",
       "6 2011 41   October 9, 2011    October 15, 2011   -                    \n",
       "  influenza.B.outbreaks respiratory.syncytial.virus.outbreaks\n",
       "1 -                     -                                    \n",
       "2 -                     -                                    \n",
       "3 -                     -                                    \n",
       "4 -                     -                                    \n",
       "5 -                     1                                    \n",
       "6 -                     -                                    \n",
       "  parainfluenza..all.types..outbreaks influenza.A.B.outbreaks\n",
       "1 -                                   -                      \n",
       "2 1                                   -                      \n",
       "3 -                                   -                      \n",
       "4 -                                   -                      \n",
       "5 -                                   -                      \n",
       "6 1                                   -                      \n",
       "  entero.rhinovirus.outbreaks outbreaks.with.other.organisms combined.outbreaks\n",
       "1 5                           -                              -                 \n",
       "2 7                           -                              -                 \n",
       "3 16                          -                              -                 \n",
       "4 14                          -                              -                 \n",
       "5 10                          -                              2                 \n",
       "6 9                           -                              1                 "
      ]
     },
     "metadata": {},
     "output_type": "display_data"
    }
   ],
   "source": [
    "head(outbreaks) "
   ]
  },
  {
   "cell_type": "code",
   "execution_count": 83,
   "metadata": {
    "collapsed": false
   },
   "outputs": [
    {
     "data": {
      "text/html": [
       "<ol class=list-inline>\n",
       "\t<li>1</li>\n",
       "\t<li>3</li>\n",
       "\t<li>5</li>\n",
       "\t<li>7</li>\n",
       "\t<li>9</li>\n",
       "</ol>\n"
      ],
      "text/latex": [
       "\\begin{enumerate*}\n",
       "\\item 1\n",
       "\\item 3\n",
       "\\item 5\n",
       "\\item 7\n",
       "\\item 9\n",
       "\\end{enumerate*}\n"
      ],
      "text/markdown": [
       "1. 1\n",
       "2. 3\n",
       "3. 5\n",
       "4. 7\n",
       "5. 9\n",
       "\n",
       "\n"
      ],
      "text/plain": [
       "[1] 1 3 5 7 9"
      ]
     },
     "metadata": {},
     "output_type": "display_data"
    }
   ],
   "source": [
    "seq(1, 10, 2)"
   ]
  },
  {
   "cell_type": "code",
   "execution_count": 84,
   "metadata": {
    "collapsed": false
   },
   "outputs": [
    {
     "data": {
      "text/html": [
       "<ol class=list-inline>\n",
       "\t<li>1</li>\n",
       "\t<li>3</li>\n",
       "\t<li>5</li>\n",
       "\t<li>7</li>\n",
       "\t<li>9</li>\n",
       "</ol>\n"
      ],
      "text/latex": [
       "\\begin{enumerate*}\n",
       "\\item 1\n",
       "\\item 3\n",
       "\\item 5\n",
       "\\item 7\n",
       "\\item 9\n",
       "\\end{enumerate*}\n"
      ],
      "text/markdown": [
       "1. 1\n",
       "2. 3\n",
       "3. 5\n",
       "4. 7\n",
       "5. 9\n",
       "\n",
       "\n"
      ],
      "text/plain": [
       "[1] 1 3 5 7 9"
      ]
     },
     "metadata": {},
     "output_type": "display_data"
    }
   ],
   "source": [
    "1 %>% seq(10, 2) "
   ]
  },
  {
   "cell_type": "code",
   "execution_count": 87,
   "metadata": {
    "collapsed": true
   },
   "outputs": [],
   "source": [
    "out2013 <- outbreaks %>%\n",
    "    select(year:end.date, entero.rhinovirus.outbreaks) %>%\n",
    "    filter(year == 2013) "
   ]
  },
  {
   "cell_type": "code",
   "execution_count": 88,
   "metadata": {
    "collapsed": false
   },
   "outputs": [
    {
     "data": {
      "text/html": [
       "<table>\n",
       "<thead><tr><th scope=col>year</th><th scope=col>week</th><th scope=col>start.date</th><th scope=col>end.date</th><th scope=col>entero.rhinovirus.outbreaks</th></tr></thead>\n",
       "<tbody>\n",
       "\t<tr><td>2013             </td><td>1                </td><td>December 30, 2012</td><td>January 5, 2013  </td><td>1                </td></tr>\n",
       "\t<tr><td>2013             </td><td>2                </td><td>January 6, 2013  </td><td>January 12, 2013 </td><td>4                </td></tr>\n",
       "\t<tr><td>2013             </td><td>3                </td><td>January 13, 2013 </td><td>January 19, 2013 </td><td>2                </td></tr>\n",
       "\t<tr><td>2013             </td><td>4                </td><td>January 20, 2013 </td><td>January 26, 2013 </td><td>-                </td></tr>\n",
       "\t<tr><td>2013             </td><td>5                </td><td>January 27, 2013 </td><td>February 2, 2013 </td><td>-                </td></tr>\n",
       "\t<tr><td>2013             </td><td>6                </td><td>February 3, 2013 </td><td>February 9, 2013 </td><td>2                </td></tr>\n",
       "</tbody>\n",
       "</table>\n"
      ],
      "text/latex": [
       "\\begin{tabular}{r|lllll}\n",
       " year & week & start.date & end.date & entero.rhinovirus.outbreaks\\\\\n",
       "\\hline\n",
       "\t 2013              & 1                 & December 30, 2012 & January 5, 2013   & 1                \\\\\n",
       "\t 2013              & 2                 & January 6, 2013   & January 12, 2013  & 4                \\\\\n",
       "\t 2013              & 3                 & January 13, 2013  & January 19, 2013  & 2                \\\\\n",
       "\t 2013              & 4                 & January 20, 2013  & January 26, 2013  & -                \\\\\n",
       "\t 2013              & 5                 & January 27, 2013  & February 2, 2013  & -                \\\\\n",
       "\t 2013              & 6                 & February 3, 2013  & February 9, 2013  & 2                \\\\\n",
       "\\end{tabular}\n"
      ],
      "text/markdown": [
       "\n",
       "year | week | start.date | end.date | entero.rhinovirus.outbreaks | \n",
       "|---|---|---|---|---|---|\n",
       "| 2013              | 1                 | December 30, 2012 | January 5, 2013   | 1                 | \n",
       "| 2013              | 2                 | January 6, 2013   | January 12, 2013  | 4                 | \n",
       "| 2013              | 3                 | January 13, 2013  | January 19, 2013  | 2                 | \n",
       "| 2013              | 4                 | January 20, 2013  | January 26, 2013  | -                 | \n",
       "| 2013              | 5                 | January 27, 2013  | February 2, 2013  | -                 | \n",
       "| 2013              | 6                 | February 3, 2013  | February 9, 2013  | 2                 | \n",
       "\n",
       "\n"
      ],
      "text/plain": [
       "  year week start.date        end.date         entero.rhinovirus.outbreaks\n",
       "1 2013 1    December 30, 2012 January 5, 2013  1                          \n",
       "2 2013 2    January 6, 2013   January 12, 2013 4                          \n",
       "3 2013 3    January 13, 2013  January 19, 2013 2                          \n",
       "4 2013 4    January 20, 2013  January 26, 2013 -                          \n",
       "5 2013 5    January 27, 2013  February 2, 2013 -                          \n",
       "6 2013 6    February 3, 2013  February 9, 2013 2                          "
      ]
     },
     "metadata": {},
     "output_type": "display_data"
    }
   ],
   "source": [
    "head(out2013)"
   ]
  },
  {
   "cell_type": "code",
   "execution_count": 89,
   "metadata": {
    "collapsed": false
   },
   "outputs": [
    {
     "data": {
      "text/html": [
       "<table>\n",
       "<thead><tr><th scope=col>year</th><th scope=col>count</th></tr></thead>\n",
       "<tbody>\n",
       "\t<tr><td>2011</td><td>276 </td></tr>\n",
       "\t<tr><td>2012</td><td>769 </td></tr>\n",
       "\t<tr><td>2013</td><td>758 </td></tr>\n",
       "\t<tr><td>2014</td><td>733 </td></tr>\n",
       "\t<tr><td>2015</td><td>779 </td></tr>\n",
       "\t<tr><td>2016</td><td>776 </td></tr>\n",
       "\t<tr><td>2017</td><td>115 </td></tr>\n",
       "</tbody>\n",
       "</table>\n"
      ],
      "text/latex": [
       "\\begin{tabular}{r|ll}\n",
       " year & count\\\\\n",
       "\\hline\n",
       "\t 2011 & 276 \\\\\n",
       "\t 2012 & 769 \\\\\n",
       "\t 2013 & 758 \\\\\n",
       "\t 2014 & 733 \\\\\n",
       "\t 2015 & 779 \\\\\n",
       "\t 2016 & 776 \\\\\n",
       "\t 2017 & 115 \\\\\n",
       "\\end{tabular}\n"
      ],
      "text/markdown": [
       "\n",
       "year | count | \n",
       "|---|---|---|---|---|---|---|\n",
       "| 2011 | 276  | \n",
       "| 2012 | 769  | \n",
       "| 2013 | 758  | \n",
       "| 2014 | 733  | \n",
       "| 2015 | 779  | \n",
       "| 2016 | 776  | \n",
       "| 2017 | 115  | \n",
       "\n",
       "\n"
      ],
      "text/plain": [
       "  year count\n",
       "1 2011 276  \n",
       "2 2012 769  \n",
       "3 2013 758  \n",
       "4 2014 733  \n",
       "5 2015 779  \n",
       "6 2016 776  \n",
       "7 2017 115  "
      ]
     },
     "metadata": {},
     "output_type": "display_data"
    }
   ],
   "source": [
    "yearouts <- outbreaks %>%\n",
    "    select(year:end.date, entero.rhinovirus.outbreaks) %>%\n",
    "    group_by(year) %>%\n",
    "    summarise(count = sum(as.numeric(entero.rhinovirus.outbreaks)))\n",
    "\n",
    "yearouts"
   ]
  },
  {
   "cell_type": "code",
   "execution_count": 90,
   "metadata": {
    "collapsed": false
   },
   "outputs": [
    {
     "data": {
      "text/html": [
       "<ol class=list-inline>\n",
       "\t<li>295</li>\n",
       "\t<li>12</li>\n",
       "</ol>\n"
      ],
      "text/latex": [
       "\\begin{enumerate*}\n",
       "\\item 295\n",
       "\\item 12\n",
       "\\end{enumerate*}\n"
      ],
      "text/markdown": [
       "1. 295\n",
       "2. 12\n",
       "\n",
       "\n"
      ],
      "text/plain": [
       "[1] 295  12"
      ]
     },
     "metadata": {},
     "output_type": "display_data"
    }
   ],
   "source": [
    "dim(outbreaks) "
   ]
  },
  {
   "cell_type": "code",
   "execution_count": 101,
   "metadata": {
    "collapsed": false
   },
   "outputs": [
    {
     "data": {},
     "metadata": {},
     "output_type": "display_data"
    },
    {
     "data": {
      "image/png": "[encoded data removed]",
      "text/plain": [
       "plot without title"
      ]
     },
     "metadata": {},
     "output_type": "display_data"
    }
   ],
   "source": [
    "ggplot(yearouts, aes(x = year, y = count)) + geom_col() "
   ]
  },
  {
   "cell_type": "code",
   "execution_count": 92,
   "metadata": {
    "collapsed": false,
    "scrolled": true
   },
   "outputs": [
    {
     "data": {
      "text/html": [
       "<table>\n",
       "<thead><tr><th scope=col>year</th><th scope=col>week</th><th scope=col>start.date</th><th scope=col>end.date</th><th scope=col>influenza.A.outbreaks</th><th scope=col>influenza.B.outbreaks</th><th scope=col>respiratory.syncytial.virus.outbreaks</th><th scope=col>parainfluenza..all.types..outbreaks</th><th scope=col>influenza.A.B.outbreaks</th><th scope=col>entero.rhinovirus.outbreaks</th><th scope=col>outbreaks.with.other.organisms</th><th scope=col>combined.outbreaks</th></tr></thead>\n",
       "<tbody>\n",
       "\t<tr><td>2011              </td><td>36                </td><td>September 4, 2011 </td><td>September 10, 2011</td><td>-                 </td><td>-                 </td><td>-                 </td><td>-                 </td><td>-                 </td><td>5                 </td><td>-                 </td><td>-                 </td></tr>\n",
       "\t<tr><td>2011              </td><td>37                </td><td>September 11, 2011</td><td>September 17, 2011</td><td>-                 </td><td>-                 </td><td>-                 </td><td>1                 </td><td>-                 </td><td>7                 </td><td>-                 </td><td>-                 </td></tr>\n",
       "\t<tr><td>2011              </td><td>38                </td><td>September 18, 2011</td><td>September 24, 2011</td><td>-                 </td><td>-                 </td><td>-                 </td><td>-                 </td><td>-                 </td><td>16                </td><td>-                 </td><td>-                 </td></tr>\n",
       "\t<tr><td>2011              </td><td>39                </td><td>September 25, 2011</td><td>October 1, 2011   </td><td>-                 </td><td>-                 </td><td>-                 </td><td>-                 </td><td>-                 </td><td>14                </td><td>-                 </td><td>-                 </td></tr>\n",
       "\t<tr><td>2011              </td><td>40                </td><td>October 2, 2011   </td><td>October 8, 2011   </td><td>-                 </td><td>-                 </td><td>1                 </td><td>-                 </td><td>-                 </td><td>10                </td><td>-                 </td><td>2                 </td></tr>\n",
       "\t<tr><td>2011              </td><td>41                </td><td>October 9, 2011   </td><td>October 15, 2011  </td><td>-                 </td><td>-                 </td><td>-                 </td><td>1                 </td><td>-                 </td><td>9                 </td><td>-                 </td><td>1                 </td></tr>\n",
       "</tbody>\n",
       "</table>\n"
      ],
      "text/latex": [
       "\\begin{tabular}{r|llllllllllll}\n",
       " year & week & start.date & end.date & influenza.A.outbreaks & influenza.B.outbreaks & respiratory.syncytial.virus.outbreaks & parainfluenza..all.types..outbreaks & influenza.A.B.outbreaks & entero.rhinovirus.outbreaks & outbreaks.with.other.organisms & combined.outbreaks\\\\\n",
       "\\hline\n",
       "\t 2011               & 36                 & September 4, 2011  & September 10, 2011 & -                  & -                  & -                  & -                  & -                  & 5                  & -                  & -                 \\\\\n",
       "\t 2011               & 37                 & September 11, 2011 & September 17, 2011 & -                  & -                  & -                  & 1                  & -                  & 7                  & -                  & -                 \\\\\n",
       "\t 2011               & 38                 & September 18, 2011 & September 24, 2011 & -                  & -                  & -                  & -                  & -                  & 16                 & -                  & -                 \\\\\n",
       "\t 2011               & 39                 & September 25, 2011 & October 1, 2011    & -                  & -                  & -                  & -                  & -                  & 14                 & -                  & -                 \\\\\n",
       "\t 2011               & 40                 & October 2, 2011    & October 8, 2011    & -                  & -                  & 1                  & -                  & -                  & 10                 & -                  & 2                 \\\\\n",
       "\t 2011               & 41                 & October 9, 2011    & October 15, 2011   & -                  & -                  & -                  & 1                  & -                  & 9                  & -                  & 1                 \\\\\n",
       "\\end{tabular}\n"
      ],
      "text/markdown": [
       "\n",
       "year | week | start.date | end.date | influenza.A.outbreaks | influenza.B.outbreaks | respiratory.syncytial.virus.outbreaks | parainfluenza..all.types..outbreaks | influenza.A.B.outbreaks | entero.rhinovirus.outbreaks | outbreaks.with.other.organisms | combined.outbreaks | \n",
       "|---|---|---|---|---|---|\n",
       "| 2011               | 36                 | September 4, 2011  | September 10, 2011 | -                  | -                  | -                  | -                  | -                  | 5                  | -                  | -                  | \n",
       "| 2011               | 37                 | September 11, 2011 | September 17, 2011 | -                  | -                  | -                  | 1                  | -                  | 7                  | -                  | -                  | \n",
       "| 2011               | 38                 | September 18, 2011 | September 24, 2011 | -                  | -                  | -                  | -                  | -                  | 16                 | -                  | -                  | \n",
       "| 2011               | 39                 | September 25, 2011 | October 1, 2011    | -                  | -                  | -                  | -                  | -                  | 14                 | -                  | -                  | \n",
       "| 2011               | 40                 | October 2, 2011    | October 8, 2011    | -                  | -                  | 1                  | -                  | -                  | 10                 | -                  | 2                  | \n",
       "| 2011               | 41                 | October 9, 2011    | October 15, 2011   | -                  | -                  | -                  | 1                  | -                  | 9                  | -                  | 1                  | \n",
       "\n",
       "\n"
      ],
      "text/plain": [
       "  year week start.date         end.date           influenza.A.outbreaks\n",
       "1 2011 36   September 4, 2011  September 10, 2011 -                    \n",
       "2 2011 37   September 11, 2011 September 17, 2011 -                    \n",
       "3 2011 38   September 18, 2011 September 24, 2011 -                    \n",
       "4 2011 39   September 25, 2011 October 1, 2011    -                    \n",
       "5 2011 40   October 2, 2011    October 8, 2011    -                    \n",
       "6 2011 41   October 9, 2011    October 15, 2011   -                    \n",
       "  influenza.B.outbreaks respiratory.syncytial.virus.outbreaks\n",
       "1 -                     -                                    \n",
       "2 -                     -                                    \n",
       "3 -                     -                                    \n",
       "4 -                     -                                    \n",
       "5 -                     1                                    \n",
       "6 -                     -                                    \n",
       "  parainfluenza..all.types..outbreaks influenza.A.B.outbreaks\n",
       "1 -                                   -                      \n",
       "2 1                                   -                      \n",
       "3 -                                   -                      \n",
       "4 -                                   -                      \n",
       "5 -                                   -                      \n",
       "6 1                                   -                      \n",
       "  entero.rhinovirus.outbreaks outbreaks.with.other.organisms combined.outbreaks\n",
       "1 5                           -                              -                 \n",
       "2 7                           -                              -                 \n",
       "3 16                          -                              -                 \n",
       "4 14                          -                              -                 \n",
       "5 10                          -                              2                 \n",
       "6 9                           -                              1                 "
      ]
     },
     "metadata": {},
     "output_type": "display_data"
    }
   ],
   "source": [
    "head(outbreaks) "
   ]
  },
  {
   "cell_type": "code",
   "execution_count": 97,
   "metadata": {
    "collapsed": false
   },
   "outputs": [],
   "source": [
    "flutotal <- outbreaks %>%\n",
    "    filter(year == 2014) %>%\n",
    "    mutate(allflu = as.numeric(influenza.A.outbreaks) + \n",
    "                        as.numeric(influenza.B.outbreaks)) "
   ]
  },
  {
   "cell_type": "code",
   "execution_count": 98,
   "metadata": {
    "collapsed": false
   },
   "outputs": [
    {
     "data": {
      "text/html": [
       "<table>\n",
       "<thead><tr><th scope=col>year</th><th scope=col>week</th><th scope=col>start.date</th><th scope=col>end.date</th><th scope=col>influenza.A.outbreaks</th><th scope=col>influenza.B.outbreaks</th><th scope=col>respiratory.syncytial.virus.outbreaks</th><th scope=col>parainfluenza..all.types..outbreaks</th><th scope=col>influenza.A.B.outbreaks</th><th scope=col>entero.rhinovirus.outbreaks</th><th scope=col>outbreaks.with.other.organisms</th><th scope=col>combined.outbreaks</th><th scope=col>allflu</th></tr></thead>\n",
       "<tbody>\n",
       "\t<tr><td>2014             </td><td>1                </td><td>December 29, 2013</td><td>January 4, 2014  </td><td>17               </td><td>1                </td><td>3                </td><td>3                </td><td>0                </td><td>2                </td><td>9                </td><td>2                </td><td>17               </td></tr>\n",
       "\t<tr><td>2014             </td><td>2                </td><td>January 5, 2014  </td><td>January 11, 2014 </td><td>12               </td><td>0                </td><td>7                </td><td>4                </td><td>0                </td><td>0                </td><td>7                </td><td>3                </td><td>10               </td></tr>\n",
       "\t<tr><td>2014             </td><td>3                </td><td>January 12, 2014 </td><td>January 18, 2014 </td><td>10               </td><td>0                </td><td>6                </td><td>0                </td><td>0                </td><td>0                </td><td>7                </td><td>2                </td><td> 6               </td></tr>\n",
       "\t<tr><td>2014             </td><td>4                </td><td>January 19, 2014 </td><td>January 25, 2014 </td><td>5                </td><td>2                </td><td>3                </td><td>2                </td><td>0                </td><td>0                </td><td>5                </td><td>4                </td><td>41               </td></tr>\n",
       "\t<tr><td>2014             </td><td>5                </td><td>January 26, 2014 </td><td>February 1, 2014 </td><td>8                </td><td>2                </td><td>4                </td><td>0                </td><td>0                </td><td>0                </td><td>4                </td><td>0                </td><td>52               </td></tr>\n",
       "\t<tr><td>2014             </td><td>6                </td><td>February 2, 2014 </td><td>February 8, 2014 </td><td>4                </td><td>6                </td><td>4                </td><td>0                </td><td>0                </td><td>0                </td><td>8                </td><td>3                </td><td>45               </td></tr>\n",
       "</tbody>\n",
       "</table>\n"
      ],
      "text/latex": [
       "\\begin{tabular}{r|lllllllllllll}\n",
       " year & week & start.date & end.date & influenza.A.outbreaks & influenza.B.outbreaks & respiratory.syncytial.virus.outbreaks & parainfluenza..all.types..outbreaks & influenza.A.B.outbreaks & entero.rhinovirus.outbreaks & outbreaks.with.other.organisms & combined.outbreaks & allflu\\\\\n",
       "\\hline\n",
       "\t 2014              & 1                 & December 29, 2013 & January 4, 2014   & 17                & 1                 & 3                 & 3                 & 0                 & 2                 & 9                 & 2                 & 17               \\\\\n",
       "\t 2014              & 2                 & January 5, 2014   & January 11, 2014  & 12                & 0                 & 7                 & 4                 & 0                 & 0                 & 7                 & 3                 & 10               \\\\\n",
       "\t 2014              & 3                 & January 12, 2014  & January 18, 2014  & 10                & 0                 & 6                 & 0                 & 0                 & 0                 & 7                 & 2                 &  6               \\\\\n",
       "\t 2014              & 4                 & January 19, 2014  & January 25, 2014  & 5                 & 2                 & 3                 & 2                 & 0                 & 0                 & 5                 & 4                 & 41               \\\\\n",
       "\t 2014              & 5                 & January 26, 2014  & February 1, 2014  & 8                 & 2                 & 4                 & 0                 & 0                 & 0                 & 4                 & 0                 & 52               \\\\\n",
       "\t 2014              & 6                 & February 2, 2014  & February 8, 2014  & 4                 & 6                 & 4                 & 0                 & 0                 & 0                 & 8                 & 3                 & 45               \\\\\n",
       "\\end{tabular}\n"
      ],
      "text/markdown": [
       "\n",
       "year | week | start.date | end.date | influenza.A.outbreaks | influenza.B.outbreaks | respiratory.syncytial.virus.outbreaks | parainfluenza..all.types..outbreaks | influenza.A.B.outbreaks | entero.rhinovirus.outbreaks | outbreaks.with.other.organisms | combined.outbreaks | allflu | \n",
       "|---|---|---|---|---|---|\n",
       "| 2014              | 1                 | December 29, 2013 | January 4, 2014   | 17                | 1                 | 3                 | 3                 | 0                 | 2                 | 9                 | 2                 | 17                | \n",
       "| 2014              | 2                 | January 5, 2014   | January 11, 2014  | 12                | 0                 | 7                 | 4                 | 0                 | 0                 | 7                 | 3                 | 10                | \n",
       "| 2014              | 3                 | January 12, 2014  | January 18, 2014  | 10                | 0                 | 6                 | 0                 | 0                 | 0                 | 7                 | 2                 |  6                | \n",
       "| 2014              | 4                 | January 19, 2014  | January 25, 2014  | 5                 | 2                 | 3                 | 2                 | 0                 | 0                 | 5                 | 4                 | 41                | \n",
       "| 2014              | 5                 | January 26, 2014  | February 1, 2014  | 8                 | 2                 | 4                 | 0                 | 0                 | 0                 | 4                 | 0                 | 52                | \n",
       "| 2014              | 6                 | February 2, 2014  | February 8, 2014  | 4                 | 6                 | 4                 | 0                 | 0                 | 0                 | 8                 | 3                 | 45                | \n",
       "\n",
       "\n"
      ],
      "text/plain": [
       "  year week start.date        end.date         influenza.A.outbreaks\n",
       "1 2014 1    December 29, 2013 January 4, 2014  17                   \n",
       "2 2014 2    January 5, 2014   January 11, 2014 12                   \n",
       "3 2014 3    January 12, 2014  January 18, 2014 10                   \n",
       "4 2014 4    January 19, 2014  January 25, 2014 5                    \n",
       "5 2014 5    January 26, 2014  February 1, 2014 8                    \n",
       "6 2014 6    February 2, 2014  February 8, 2014 4                    \n",
       "  influenza.B.outbreaks respiratory.syncytial.virus.outbreaks\n",
       "1 1                     3                                    \n",
       "2 0                     7                                    \n",
       "3 0                     6                                    \n",
       "4 2                     3                                    \n",
       "5 2                     4                                    \n",
       "6 6                     4                                    \n",
       "  parainfluenza..all.types..outbreaks influenza.A.B.outbreaks\n",
       "1 3                                   0                      \n",
       "2 4                                   0                      \n",
       "3 0                                   0                      \n",
       "4 2                                   0                      \n",
       "5 0                                   0                      \n",
       "6 0                                   0                      \n",
       "  entero.rhinovirus.outbreaks outbreaks.with.other.organisms combined.outbreaks\n",
       "1 2                           9                              2                 \n",
       "2 0                           7                              3                 \n",
       "3 0                           7                              2                 \n",
       "4 0                           5                              4                 \n",
       "5 0                           4                              0                 \n",
       "6 0                           8                              3                 \n",
       "  allflu\n",
       "1 17    \n",
       "2 10    \n",
       "3  6    \n",
       "4 41    \n",
       "5 52    \n",
       "6 45    "
      ]
     },
     "metadata": {},
     "output_type": "display_data"
    }
   ],
   "source": [
    "head(flutotal) "
   ]
  },
  {
   "cell_type": "code",
   "execution_count": null,
   "metadata": {
    "collapsed": true
   },
   "outputs": [],
   "source": []
  }
 ],
 "metadata": {
  "anaconda-cloud": {},
  "kernelspec": {
   "display_name": "R",
   "language": "R",
   "name": "ir"
  },
  "language_info": {
   "codemirror_mode": "r",
   "file_extension": ".r",
   "mimetype": "text/x-r-source",
   "name": "R",
   "pygments_lexer": "r",
   "version": "3.3.2"
  }
 },
 "nbformat": 4,
 "nbformat_minor": 2
}
