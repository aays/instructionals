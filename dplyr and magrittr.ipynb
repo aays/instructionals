{
 "cells": [
  {
   "cell_type": "markdown",
   "metadata": {},
   "source": [
    "## `dplyr` and `magrittr`\n",
    "\n",
    "**Author: Ahmed Hasan**\n",
    "\n",
    "Made for UofT Coders - to be delivered 19/07/2017\n",
    "\n",
    "<hr>\n",
    "\n",
    "Using the R packages `dplyr` and pipes a la bash via `magrittr`, we have a very powerful toolset for data wrangling and manipulation.\n",
    "\n",
    "`dplyr` is built around 5 verbs. These verbs make up the majority of the data manipulation you tend to do. You might need to:\n",
    "\n",
    "- `select` certain columns of data.\n",
    "- `filter` your data to select specific rows.\n",
    "- `arrange` the rows of your data into an order.\n",
    "- `mutate` your data frame to contain new columns/variables.\n",
    "- `summarise` chunks of your data in some way.\n",
    "\n",
    "Lesson adapted from [Stat545](http://stat545.com/block009_dplyr-intro.html) and Hadley Wickham's own [`dplyr` workshop](http://datascience.la/hadley-wickhams-dplyr-tutorial-at-user-2014-part-1/)."
   ]
  },
  {
   "cell_type": "code",
   "execution_count": 1,
   "metadata": {
    "collapsed": false
   },
   "outputs": [],
   "source": [
    "library(dplyr, warn.conflicts = FALSE)"
   ]
  },
  {
   "cell_type": "code",
   "execution_count": 2,
   "metadata": {
    "collapsed": false
   },
   "outputs": [
    {
     "name": "stdout",
     "output_type": "stream",
     "text": [
      "'data.frame':\t150 obs. of  5 variables:\n",
      " $ Sepal.Length: num  5.1 4.9 4.7 4.6 5 5.4 4.6 5 4.4 4.9 ...\n",
      " $ Sepal.Width : num  3.5 3 3.2 3.1 3.6 3.9 3.4 3.4 2.9 3.1 ...\n",
      " $ Petal.Length: num  1.4 1.4 1.3 1.5 1.4 1.7 1.4 1.5 1.4 1.5 ...\n",
      " $ Petal.Width : num  0.2 0.2 0.2 0.2 0.2 0.4 0.3 0.2 0.2 0.1 ...\n",
      " $ Species     : Factor w/ 3 levels \"setosa\",\"versicolor\",..: 1 1 1 1 1 1 1 1 1 1 ...\n"
     ]
    }
   ],
   "source": [
    "str(iris)"
   ]
  },
  {
   "cell_type": "code",
   "execution_count": 3,
   "metadata": {
    "collapsed": false
   },
   "outputs": [
    {
     "data": {
      "text/html": [
       "<table>\n",
       "<thead><tr><th scope=col>Sepal.Length</th><th scope=col>Sepal.Width</th><th scope=col>Petal.Length</th><th scope=col>Petal.Width</th><th scope=col>Species</th></tr></thead>\n",
       "<tbody>\n",
       "\t<tr><td>5.1   </td><td>3.5   </td><td>1.4   </td><td>0.2   </td><td>setosa</td></tr>\n",
       "\t<tr><td>4.9   </td><td>3.0   </td><td>1.4   </td><td>0.2   </td><td>setosa</td></tr>\n",
       "\t<tr><td>4.7   </td><td>3.2   </td><td>1.3   </td><td>0.2   </td><td>setosa</td></tr>\n",
       "\t<tr><td>4.6   </td><td>3.1   </td><td>1.5   </td><td>0.2   </td><td>setosa</td></tr>\n",
       "\t<tr><td>5.0   </td><td>3.6   </td><td>1.4   </td><td>0.2   </td><td>setosa</td></tr>\n",
       "\t<tr><td>5.4   </td><td>3.9   </td><td>1.7   </td><td>0.4   </td><td>setosa</td></tr>\n",
       "</tbody>\n",
       "</table>\n"
      ],
      "text/latex": [
       "\\begin{tabular}{r|lllll}\n",
       " Sepal.Length & Sepal.Width & Petal.Length & Petal.Width & Species\\\\\n",
       "\\hline\n",
       "\t 5.1    & 3.5    & 1.4    & 0.2    & setosa\\\\\n",
       "\t 4.9    & 3.0    & 1.4    & 0.2    & setosa\\\\\n",
       "\t 4.7    & 3.2    & 1.3    & 0.2    & setosa\\\\\n",
       "\t 4.6    & 3.1    & 1.5    & 0.2    & setosa\\\\\n",
       "\t 5.0    & 3.6    & 1.4    & 0.2    & setosa\\\\\n",
       "\t 5.4    & 3.9    & 1.7    & 0.4    & setosa\\\\\n",
       "\\end{tabular}\n"
      ],
      "text/markdown": [
       "\n",
       "Sepal.Length | Sepal.Width | Petal.Length | Petal.Width | Species | \n",
       "|---|---|---|---|---|---|\n",
       "| 5.1    | 3.5    | 1.4    | 0.2    | setosa | \n",
       "| 4.9    | 3.0    | 1.4    | 0.2    | setosa | \n",
       "| 4.7    | 3.2    | 1.3    | 0.2    | setosa | \n",
       "| 4.6    | 3.1    | 1.5    | 0.2    | setosa | \n",
       "| 5.0    | 3.6    | 1.4    | 0.2    | setosa | \n",
       "| 5.4    | 3.9    | 1.7    | 0.4    | setosa | \n",
       "\n",
       "\n"
      ],
      "text/plain": [
       "  Sepal.Length Sepal.Width Petal.Length Petal.Width Species\n",
       "1 5.1          3.5         1.4          0.2         setosa \n",
       "2 4.9          3.0         1.4          0.2         setosa \n",
       "3 4.7          3.2         1.3          0.2         setosa \n",
       "4 4.6          3.1         1.5          0.2         setosa \n",
       "5 5.0          3.6         1.4          0.2         setosa \n",
       "6 5.4          3.9         1.7          0.4         setosa "
      ]
     },
     "metadata": {},
     "output_type": "display_data"
    }
   ],
   "source": [
    "head(iris)"
   ]
  },
  {
   "cell_type": "markdown",
   "metadata": {},
   "source": [
    "<center><h1> `filter` - subsetting rows </h1></center>\n",
    "\n",
    "<img src=\"img/filter.png\", width = 500>"
   ]
  },
  {
   "cell_type": "code",
   "execution_count": 4,
   "metadata": {
    "collapsed": false,
    "scrolled": true
   },
   "outputs": [
    {
     "data": {
      "text/html": [
       "<table>\n",
       "<thead><tr><th scope=col>Sepal.Length</th><th scope=col>Sepal.Width</th><th scope=col>Petal.Length</th><th scope=col>Petal.Width</th><th scope=col>Species</th></tr></thead>\n",
       "<tbody>\n",
       "\t<tr><td>7.0       </td><td>3.2       </td><td>4.7       </td><td>1.4       </td><td>versicolor</td></tr>\n",
       "\t<tr><td>6.9       </td><td>3.1       </td><td>4.9       </td><td>1.5       </td><td>versicolor</td></tr>\n",
       "\t<tr><td>6.5       </td><td>2.8       </td><td>4.6       </td><td>1.5       </td><td>versicolor</td></tr>\n",
       "\t<tr><td>6.6       </td><td>2.9       </td><td>4.6       </td><td>1.3       </td><td>versicolor</td></tr>\n",
       "\t<tr><td>6.7       </td><td>3.1       </td><td>4.4       </td><td>1.4       </td><td>versicolor</td></tr>\n",
       "\t<tr><td>6.6       </td><td>3.0       </td><td>4.4       </td><td>1.4       </td><td>versicolor</td></tr>\n",
       "\t<tr><td>6.8       </td><td>2.8       </td><td>4.8       </td><td>1.4       </td><td>versicolor</td></tr>\n",
       "\t<tr><td>6.7       </td><td>3.0       </td><td>5.0       </td><td>1.7       </td><td>versicolor</td></tr>\n",
       "\t<tr><td>6.7       </td><td>3.1       </td><td>4.7       </td><td>1.5       </td><td>versicolor</td></tr>\n",
       "\t<tr><td>7.1       </td><td>3.0       </td><td>5.9       </td><td>2.1       </td><td>virginica </td></tr>\n",
       "\t<tr><td>6.5       </td><td>3.0       </td><td>5.8       </td><td>2.2       </td><td>virginica </td></tr>\n",
       "\t<tr><td>7.6       </td><td>3.0       </td><td>6.6       </td><td>2.1       </td><td>virginica </td></tr>\n",
       "\t<tr><td>7.3       </td><td>2.9       </td><td>6.3       </td><td>1.8       </td><td>virginica </td></tr>\n",
       "\t<tr><td>6.7       </td><td>2.5       </td><td>5.8       </td><td>1.8       </td><td>virginica </td></tr>\n",
       "\t<tr><td>7.2       </td><td>3.6       </td><td>6.1       </td><td>2.5       </td><td>virginica </td></tr>\n",
       "\t<tr><td>6.5       </td><td>3.2       </td><td>5.1       </td><td>2.0       </td><td>virginica </td></tr>\n",
       "\t<tr><td>6.8       </td><td>3.0       </td><td>5.5       </td><td>2.1       </td><td>virginica </td></tr>\n",
       "\t<tr><td>6.5       </td><td>3.0       </td><td>5.5       </td><td>1.8       </td><td>virginica </td></tr>\n",
       "\t<tr><td>7.7       </td><td>3.8       </td><td>6.7       </td><td>2.2       </td><td>virginica </td></tr>\n",
       "\t<tr><td>7.7       </td><td>2.6       </td><td>6.9       </td><td>2.3       </td><td>virginica </td></tr>\n",
       "\t<tr><td>6.9       </td><td>3.2       </td><td>5.7       </td><td>2.3       </td><td>virginica </td></tr>\n",
       "\t<tr><td>7.7       </td><td>2.8       </td><td>6.7       </td><td>2.0       </td><td>virginica </td></tr>\n",
       "\t<tr><td>6.7       </td><td>3.3       </td><td>5.7       </td><td>2.1       </td><td>virginica </td></tr>\n",
       "\t<tr><td>7.2       </td><td>3.2       </td><td>6.0       </td><td>1.8       </td><td>virginica </td></tr>\n",
       "\t<tr><td>7.2       </td><td>3.0       </td><td>5.8       </td><td>1.6       </td><td>virginica </td></tr>\n",
       "\t<tr><td>7.4       </td><td>2.8       </td><td>6.1       </td><td>1.9       </td><td>virginica </td></tr>\n",
       "\t<tr><td>7.9       </td><td>3.8       </td><td>6.4       </td><td>2.0       </td><td>virginica </td></tr>\n",
       "\t<tr><td>7.7       </td><td>3.0       </td><td>6.1       </td><td>2.3       </td><td>virginica </td></tr>\n",
       "\t<tr><td>6.9       </td><td>3.1       </td><td>5.4       </td><td>2.1       </td><td>virginica </td></tr>\n",
       "\t<tr><td>6.7       </td><td>3.1       </td><td>5.6       </td><td>2.4       </td><td>virginica </td></tr>\n",
       "\t<tr><td>6.9       </td><td>3.1       </td><td>5.1       </td><td>2.3       </td><td>virginica </td></tr>\n",
       "\t<tr><td>6.8       </td><td>3.2       </td><td>5.9       </td><td>2.3       </td><td>virginica </td></tr>\n",
       "\t<tr><td>6.7       </td><td>3.3       </td><td>5.7       </td><td>2.5       </td><td>virginica </td></tr>\n",
       "\t<tr><td>6.7       </td><td>3.0       </td><td>5.2       </td><td>2.3       </td><td>virginica </td></tr>\n",
       "\t<tr><td>6.5       </td><td>3.0       </td><td>5.2       </td><td>2.0       </td><td>virginica </td></tr>\n",
       "</tbody>\n",
       "</table>\n"
      ],
      "text/latex": [
       "\\begin{tabular}{r|lllll}\n",
       " Sepal.Length & Sepal.Width & Petal.Length & Petal.Width & Species\\\\\n",
       "\\hline\n",
       "\t 7.0        & 3.2        & 4.7        & 1.4        & versicolor\\\\\n",
       "\t 6.9        & 3.1        & 4.9        & 1.5        & versicolor\\\\\n",
       "\t 6.5        & 2.8        & 4.6        & 1.5        & versicolor\\\\\n",
       "\t 6.6        & 2.9        & 4.6        & 1.3        & versicolor\\\\\n",
       "\t 6.7        & 3.1        & 4.4        & 1.4        & versicolor\\\\\n",
       "\t 6.6        & 3.0        & 4.4        & 1.4        & versicolor\\\\\n",
       "\t 6.8        & 2.8        & 4.8        & 1.4        & versicolor\\\\\n",
       "\t 6.7        & 3.0        & 5.0        & 1.7        & versicolor\\\\\n",
       "\t 6.7        & 3.1        & 4.7        & 1.5        & versicolor\\\\\n",
       "\t 7.1        & 3.0        & 5.9        & 2.1        & virginica \\\\\n",
       "\t 6.5        & 3.0        & 5.8        & 2.2        & virginica \\\\\n",
       "\t 7.6        & 3.0        & 6.6        & 2.1        & virginica \\\\\n",
       "\t 7.3        & 2.9        & 6.3        & 1.8        & virginica \\\\\n",
       "\t 6.7        & 2.5        & 5.8        & 1.8        & virginica \\\\\n",
       "\t 7.2        & 3.6        & 6.1        & 2.5        & virginica \\\\\n",
       "\t 6.5        & 3.2        & 5.1        & 2.0        & virginica \\\\\n",
       "\t 6.8        & 3.0        & 5.5        & 2.1        & virginica \\\\\n",
       "\t 6.5        & 3.0        & 5.5        & 1.8        & virginica \\\\\n",
       "\t 7.7        & 3.8        & 6.7        & 2.2        & virginica \\\\\n",
       "\t 7.7        & 2.6        & 6.9        & 2.3        & virginica \\\\\n",
       "\t 6.9        & 3.2        & 5.7        & 2.3        & virginica \\\\\n",
       "\t 7.7        & 2.8        & 6.7        & 2.0        & virginica \\\\\n",
       "\t 6.7        & 3.3        & 5.7        & 2.1        & virginica \\\\\n",
       "\t 7.2        & 3.2        & 6.0        & 1.8        & virginica \\\\\n",
       "\t 7.2        & 3.0        & 5.8        & 1.6        & virginica \\\\\n",
       "\t 7.4        & 2.8        & 6.1        & 1.9        & virginica \\\\\n",
       "\t 7.9        & 3.8        & 6.4        & 2.0        & virginica \\\\\n",
       "\t 7.7        & 3.0        & 6.1        & 2.3        & virginica \\\\\n",
       "\t 6.9        & 3.1        & 5.4        & 2.1        & virginica \\\\\n",
       "\t 6.7        & 3.1        & 5.6        & 2.4        & virginica \\\\\n",
       "\t 6.9        & 3.1        & 5.1        & 2.3        & virginica \\\\\n",
       "\t 6.8        & 3.2        & 5.9        & 2.3        & virginica \\\\\n",
       "\t 6.7        & 3.3        & 5.7        & 2.5        & virginica \\\\\n",
       "\t 6.7        & 3.0        & 5.2        & 2.3        & virginica \\\\\n",
       "\t 6.5        & 3.0        & 5.2        & 2.0        & virginica \\\\\n",
       "\\end{tabular}\n"
      ],
      "text/markdown": [
       "\n",
       "Sepal.Length | Sepal.Width | Petal.Length | Petal.Width | Species | \n",
       "|---|---|---|---|---|---|---|---|---|---|---|---|---|---|---|---|---|---|---|---|---|---|---|---|---|---|---|---|---|---|---|---|---|---|---|\n",
       "| 7.0        | 3.2        | 4.7        | 1.4        | versicolor | \n",
       "| 6.9        | 3.1        | 4.9        | 1.5        | versicolor | \n",
       "| 6.5        | 2.8        | 4.6        | 1.5        | versicolor | \n",
       "| 6.6        | 2.9        | 4.6        | 1.3        | versicolor | \n",
       "| 6.7        | 3.1        | 4.4        | 1.4        | versicolor | \n",
       "| 6.6        | 3.0        | 4.4        | 1.4        | versicolor | \n",
       "| 6.8        | 2.8        | 4.8        | 1.4        | versicolor | \n",
       "| 6.7        | 3.0        | 5.0        | 1.7        | versicolor | \n",
       "| 6.7        | 3.1        | 4.7        | 1.5        | versicolor | \n",
       "| 7.1        | 3.0        | 5.9        | 2.1        | virginica  | \n",
       "| 6.5        | 3.0        | 5.8        | 2.2        | virginica  | \n",
       "| 7.6        | 3.0        | 6.6        | 2.1        | virginica  | \n",
       "| 7.3        | 2.9        | 6.3        | 1.8        | virginica  | \n",
       "| 6.7        | 2.5        | 5.8        | 1.8        | virginica  | \n",
       "| 7.2        | 3.6        | 6.1        | 2.5        | virginica  | \n",
       "| 6.5        | 3.2        | 5.1        | 2.0        | virginica  | \n",
       "| 6.8        | 3.0        | 5.5        | 2.1        | virginica  | \n",
       "| 6.5        | 3.0        | 5.5        | 1.8        | virginica  | \n",
       "| 7.7        | 3.8        | 6.7        | 2.2        | virginica  | \n",
       "| 7.7        | 2.6        | 6.9        | 2.3        | virginica  | \n",
       "| 6.9        | 3.2        | 5.7        | 2.3        | virginica  | \n",
       "| 7.7        | 2.8        | 6.7        | 2.0        | virginica  | \n",
       "| 6.7        | 3.3        | 5.7        | 2.1        | virginica  | \n",
       "| 7.2        | 3.2        | 6.0        | 1.8        | virginica  | \n",
       "| 7.2        | 3.0        | 5.8        | 1.6        | virginica  | \n",
       "| 7.4        | 2.8        | 6.1        | 1.9        | virginica  | \n",
       "| 7.9        | 3.8        | 6.4        | 2.0        | virginica  | \n",
       "| 7.7        | 3.0        | 6.1        | 2.3        | virginica  | \n",
       "| 6.9        | 3.1        | 5.4        | 2.1        | virginica  | \n",
       "| 6.7        | 3.1        | 5.6        | 2.4        | virginica  | \n",
       "| 6.9        | 3.1        | 5.1        | 2.3        | virginica  | \n",
       "| 6.8        | 3.2        | 5.9        | 2.3        | virginica  | \n",
       "| 6.7        | 3.3        | 5.7        | 2.5        | virginica  | \n",
       "| 6.7        | 3.0        | 5.2        | 2.3        | virginica  | \n",
       "| 6.5        | 3.0        | 5.2        | 2.0        | virginica  | \n",
       "\n",
       "\n"
      ],
      "text/plain": [
       "   Sepal.Length Sepal.Width Petal.Length Petal.Width Species   \n",
       "1  7.0          3.2         4.7          1.4         versicolor\n",
       "2  6.9          3.1         4.9          1.5         versicolor\n",
       "3  6.5          2.8         4.6          1.5         versicolor\n",
       "4  6.6          2.9         4.6          1.3         versicolor\n",
       "5  6.7          3.1         4.4          1.4         versicolor\n",
       "6  6.6          3.0         4.4          1.4         versicolor\n",
       "7  6.8          2.8         4.8          1.4         versicolor\n",
       "8  6.7          3.0         5.0          1.7         versicolor\n",
       "9  6.7          3.1         4.7          1.5         versicolor\n",
       "10 7.1          3.0         5.9          2.1         virginica \n",
       "11 6.5          3.0         5.8          2.2         virginica \n",
       "12 7.6          3.0         6.6          2.1         virginica \n",
       "13 7.3          2.9         6.3          1.8         virginica \n",
       "14 6.7          2.5         5.8          1.8         virginica \n",
       "15 7.2          3.6         6.1          2.5         virginica \n",
       "16 6.5          3.2         5.1          2.0         virginica \n",
       "17 6.8          3.0         5.5          2.1         virginica \n",
       "18 6.5          3.0         5.5          1.8         virginica \n",
       "19 7.7          3.8         6.7          2.2         virginica \n",
       "20 7.7          2.6         6.9          2.3         virginica \n",
       "21 6.9          3.2         5.7          2.3         virginica \n",
       "22 7.7          2.8         6.7          2.0         virginica \n",
       "23 6.7          3.3         5.7          2.1         virginica \n",
       "24 7.2          3.2         6.0          1.8         virginica \n",
       "25 7.2          3.0         5.8          1.6         virginica \n",
       "26 7.4          2.8         6.1          1.9         virginica \n",
       "27 7.9          3.8         6.4          2.0         virginica \n",
       "28 7.7          3.0         6.1          2.3         virginica \n",
       "29 6.9          3.1         5.4          2.1         virginica \n",
       "30 6.7          3.1         5.6          2.4         virginica \n",
       "31 6.9          3.1         5.1          2.3         virginica \n",
       "32 6.8          3.2         5.9          2.3         virginica \n",
       "33 6.7          3.3         5.7          2.5         virginica \n",
       "34 6.7          3.0         5.2          2.3         virginica \n",
       "35 6.5          3.0         5.2          2.0         virginica "
      ]
     },
     "metadata": {},
     "output_type": "display_data"
    }
   ],
   "source": [
    "filter(iris, Sepal.Length >= 6.5)"
   ]
  },
  {
   "cell_type": "code",
   "execution_count": 5,
   "metadata": {
    "collapsed": false
   },
   "outputs": [
    {
     "data": {
      "text/html": [
       "<table>\n",
       "<thead><tr><th scope=col>Sepal.Length</th><th scope=col>Sepal.Width</th><th scope=col>Petal.Length</th><th scope=col>Petal.Width</th><th scope=col>Species</th></tr></thead>\n",
       "<tbody>\n",
       "\t<tr><td>7.1      </td><td>3.0      </td><td>5.9      </td><td>2.1      </td><td>virginica</td></tr>\n",
       "\t<tr><td>6.5      </td><td>3.0      </td><td>5.8      </td><td>2.2      </td><td>virginica</td></tr>\n",
       "\t<tr><td>7.6      </td><td>3.0      </td><td>6.6      </td><td>2.1      </td><td>virginica</td></tr>\n",
       "\t<tr><td>7.3      </td><td>2.9      </td><td>6.3      </td><td>1.8      </td><td>virginica</td></tr>\n",
       "\t<tr><td>6.7      </td><td>2.5      </td><td>5.8      </td><td>1.8      </td><td>virginica</td></tr>\n",
       "\t<tr><td>7.2      </td><td>3.6      </td><td>6.1      </td><td>2.5      </td><td>virginica</td></tr>\n",
       "\t<tr><td>6.5      </td><td>3.2      </td><td>5.1      </td><td>2.0      </td><td>virginica</td></tr>\n",
       "\t<tr><td>6.8      </td><td>3.0      </td><td>5.5      </td><td>2.1      </td><td>virginica</td></tr>\n",
       "\t<tr><td>6.5      </td><td>3.0      </td><td>5.5      </td><td>1.8      </td><td>virginica</td></tr>\n",
       "\t<tr><td>7.7      </td><td>3.8      </td><td>6.7      </td><td>2.2      </td><td>virginica</td></tr>\n",
       "\t<tr><td>7.7      </td><td>2.6      </td><td>6.9      </td><td>2.3      </td><td>virginica</td></tr>\n",
       "\t<tr><td>6.9      </td><td>3.2      </td><td>5.7      </td><td>2.3      </td><td>virginica</td></tr>\n",
       "\t<tr><td>7.7      </td><td>2.8      </td><td>6.7      </td><td>2.0      </td><td>virginica</td></tr>\n",
       "\t<tr><td>6.7      </td><td>3.3      </td><td>5.7      </td><td>2.1      </td><td>virginica</td></tr>\n",
       "\t<tr><td>7.2      </td><td>3.2      </td><td>6.0      </td><td>1.8      </td><td>virginica</td></tr>\n",
       "\t<tr><td>7.2      </td><td>3.0      </td><td>5.8      </td><td>1.6      </td><td>virginica</td></tr>\n",
       "\t<tr><td>7.4      </td><td>2.8      </td><td>6.1      </td><td>1.9      </td><td>virginica</td></tr>\n",
       "\t<tr><td>7.9      </td><td>3.8      </td><td>6.4      </td><td>2.0      </td><td>virginica</td></tr>\n",
       "\t<tr><td>7.7      </td><td>3.0      </td><td>6.1      </td><td>2.3      </td><td>virginica</td></tr>\n",
       "\t<tr><td>6.9      </td><td>3.1      </td><td>5.4      </td><td>2.1      </td><td>virginica</td></tr>\n",
       "\t<tr><td>6.7      </td><td>3.1      </td><td>5.6      </td><td>2.4      </td><td>virginica</td></tr>\n",
       "\t<tr><td>6.9      </td><td>3.1      </td><td>5.1      </td><td>2.3      </td><td>virginica</td></tr>\n",
       "\t<tr><td>6.8      </td><td>3.2      </td><td>5.9      </td><td>2.3      </td><td>virginica</td></tr>\n",
       "\t<tr><td>6.7      </td><td>3.3      </td><td>5.7      </td><td>2.5      </td><td>virginica</td></tr>\n",
       "\t<tr><td>6.7      </td><td>3.0      </td><td>5.2      </td><td>2.3      </td><td>virginica</td></tr>\n",
       "\t<tr><td>6.5      </td><td>3.0      </td><td>5.2      </td><td>2.0      </td><td>virginica</td></tr>\n",
       "</tbody>\n",
       "</table>\n"
      ],
      "text/latex": [
       "\\begin{tabular}{r|lllll}\n",
       " Sepal.Length & Sepal.Width & Petal.Length & Petal.Width & Species\\\\\n",
       "\\hline\n",
       "\t 7.1       & 3.0       & 5.9       & 2.1       & virginica\\\\\n",
       "\t 6.5       & 3.0       & 5.8       & 2.2       & virginica\\\\\n",
       "\t 7.6       & 3.0       & 6.6       & 2.1       & virginica\\\\\n",
       "\t 7.3       & 2.9       & 6.3       & 1.8       & virginica\\\\\n",
       "\t 6.7       & 2.5       & 5.8       & 1.8       & virginica\\\\\n",
       "\t 7.2       & 3.6       & 6.1       & 2.5       & virginica\\\\\n",
       "\t 6.5       & 3.2       & 5.1       & 2.0       & virginica\\\\\n",
       "\t 6.8       & 3.0       & 5.5       & 2.1       & virginica\\\\\n",
       "\t 6.5       & 3.0       & 5.5       & 1.8       & virginica\\\\\n",
       "\t 7.7       & 3.8       & 6.7       & 2.2       & virginica\\\\\n",
       "\t 7.7       & 2.6       & 6.9       & 2.3       & virginica\\\\\n",
       "\t 6.9       & 3.2       & 5.7       & 2.3       & virginica\\\\\n",
       "\t 7.7       & 2.8       & 6.7       & 2.0       & virginica\\\\\n",
       "\t 6.7       & 3.3       & 5.7       & 2.1       & virginica\\\\\n",
       "\t 7.2       & 3.2       & 6.0       & 1.8       & virginica\\\\\n",
       "\t 7.2       & 3.0       & 5.8       & 1.6       & virginica\\\\\n",
       "\t 7.4       & 2.8       & 6.1       & 1.9       & virginica\\\\\n",
       "\t 7.9       & 3.8       & 6.4       & 2.0       & virginica\\\\\n",
       "\t 7.7       & 3.0       & 6.1       & 2.3       & virginica\\\\\n",
       "\t 6.9       & 3.1       & 5.4       & 2.1       & virginica\\\\\n",
       "\t 6.7       & 3.1       & 5.6       & 2.4       & virginica\\\\\n",
       "\t 6.9       & 3.1       & 5.1       & 2.3       & virginica\\\\\n",
       "\t 6.8       & 3.2       & 5.9       & 2.3       & virginica\\\\\n",
       "\t 6.7       & 3.3       & 5.7       & 2.5       & virginica\\\\\n",
       "\t 6.7       & 3.0       & 5.2       & 2.3       & virginica\\\\\n",
       "\t 6.5       & 3.0       & 5.2       & 2.0       & virginica\\\\\n",
       "\\end{tabular}\n"
      ],
      "text/markdown": [
       "\n",
       "Sepal.Length | Sepal.Width | Petal.Length | Petal.Width | Species | \n",
       "|---|---|---|---|---|---|---|---|---|---|---|---|---|---|---|---|---|---|---|---|---|---|---|---|---|---|\n",
       "| 7.1       | 3.0       | 5.9       | 2.1       | virginica | \n",
       "| 6.5       | 3.0       | 5.8       | 2.2       | virginica | \n",
       "| 7.6       | 3.0       | 6.6       | 2.1       | virginica | \n",
       "| 7.3       | 2.9       | 6.3       | 1.8       | virginica | \n",
       "| 6.7       | 2.5       | 5.8       | 1.8       | virginica | \n",
       "| 7.2       | 3.6       | 6.1       | 2.5       | virginica | \n",
       "| 6.5       | 3.2       | 5.1       | 2.0       | virginica | \n",
       "| 6.8       | 3.0       | 5.5       | 2.1       | virginica | \n",
       "| 6.5       | 3.0       | 5.5       | 1.8       | virginica | \n",
       "| 7.7       | 3.8       | 6.7       | 2.2       | virginica | \n",
       "| 7.7       | 2.6       | 6.9       | 2.3       | virginica | \n",
       "| 6.9       | 3.2       | 5.7       | 2.3       | virginica | \n",
       "| 7.7       | 2.8       | 6.7       | 2.0       | virginica | \n",
       "| 6.7       | 3.3       | 5.7       | 2.1       | virginica | \n",
       "| 7.2       | 3.2       | 6.0       | 1.8       | virginica | \n",
       "| 7.2       | 3.0       | 5.8       | 1.6       | virginica | \n",
       "| 7.4       | 2.8       | 6.1       | 1.9       | virginica | \n",
       "| 7.9       | 3.8       | 6.4       | 2.0       | virginica | \n",
       "| 7.7       | 3.0       | 6.1       | 2.3       | virginica | \n",
       "| 6.9       | 3.1       | 5.4       | 2.1       | virginica | \n",
       "| 6.7       | 3.1       | 5.6       | 2.4       | virginica | \n",
       "| 6.9       | 3.1       | 5.1       | 2.3       | virginica | \n",
       "| 6.8       | 3.2       | 5.9       | 2.3       | virginica | \n",
       "| 6.7       | 3.3       | 5.7       | 2.5       | virginica | \n",
       "| 6.7       | 3.0       | 5.2       | 2.3       | virginica | \n",
       "| 6.5       | 3.0       | 5.2       | 2.0       | virginica | \n",
       "\n",
       "\n"
      ],
      "text/plain": [
       "   Sepal.Length Sepal.Width Petal.Length Petal.Width Species  \n",
       "1  7.1          3.0         5.9          2.1         virginica\n",
       "2  6.5          3.0         5.8          2.2         virginica\n",
       "3  7.6          3.0         6.6          2.1         virginica\n",
       "4  7.3          2.9         6.3          1.8         virginica\n",
       "5  6.7          2.5         5.8          1.8         virginica\n",
       "6  7.2          3.6         6.1          2.5         virginica\n",
       "7  6.5          3.2         5.1          2.0         virginica\n",
       "8  6.8          3.0         5.5          2.1         virginica\n",
       "9  6.5          3.0         5.5          1.8         virginica\n",
       "10 7.7          3.8         6.7          2.2         virginica\n",
       "11 7.7          2.6         6.9          2.3         virginica\n",
       "12 6.9          3.2         5.7          2.3         virginica\n",
       "13 7.7          2.8         6.7          2.0         virginica\n",
       "14 6.7          3.3         5.7          2.1         virginica\n",
       "15 7.2          3.2         6.0          1.8         virginica\n",
       "16 7.2          3.0         5.8          1.6         virginica\n",
       "17 7.4          2.8         6.1          1.9         virginica\n",
       "18 7.9          3.8         6.4          2.0         virginica\n",
       "19 7.7          3.0         6.1          2.3         virginica\n",
       "20 6.9          3.1         5.4          2.1         virginica\n",
       "21 6.7          3.1         5.6          2.4         virginica\n",
       "22 6.9          3.1         5.1          2.3         virginica\n",
       "23 6.8          3.2         5.9          2.3         virginica\n",
       "24 6.7          3.3         5.7          2.5         virginica\n",
       "25 6.7          3.0         5.2          2.3         virginica\n",
       "26 6.5          3.0         5.2          2.0         virginica"
      ]
     },
     "metadata": {},
     "output_type": "display_data"
    }
   ],
   "source": [
    "filter(iris, Sepal.Length >= 6.5, Species == 'virginica')"
   ]
  },
  {
   "cell_type": "code",
   "execution_count": 6,
   "metadata": {
    "collapsed": false
   },
   "outputs": [
    {
     "data": {
      "text/html": [
       "<table>\n",
       "<thead><tr><th scope=col>Sepal.Length</th><th scope=col>Sepal.Width</th><th scope=col>Petal.Length</th><th scope=col>Petal.Width</th><th scope=col>Species</th></tr></thead>\n",
       "<tbody>\n",
       "\t<tr><td>4.9       </td><td>3.0       </td><td>1.4       </td><td>0.2       </td><td>setosa    </td></tr>\n",
       "\t<tr><td>4.7       </td><td>3.2       </td><td>1.3       </td><td>0.2       </td><td>setosa    </td></tr>\n",
       "\t<tr><td>4.6       </td><td>3.1       </td><td>1.5       </td><td>0.2       </td><td>setosa    </td></tr>\n",
       "\t<tr><td>4.6       </td><td>3.4       </td><td>1.4       </td><td>0.3       </td><td>setosa    </td></tr>\n",
       "\t<tr><td>4.4       </td><td>2.9       </td><td>1.4       </td><td>0.2       </td><td>setosa    </td></tr>\n",
       "\t<tr><td>4.9       </td><td>3.1       </td><td>1.5       </td><td>0.1       </td><td>setosa    </td></tr>\n",
       "\t<tr><td>4.8       </td><td>3.4       </td><td>1.6       </td><td>0.2       </td><td>setosa    </td></tr>\n",
       "\t<tr><td>4.8       </td><td>3.0       </td><td>1.4       </td><td>0.1       </td><td>setosa    </td></tr>\n",
       "\t<tr><td>4.3       </td><td>3.0       </td><td>1.1       </td><td>0.1       </td><td>setosa    </td></tr>\n",
       "\t<tr><td>4.6       </td><td>3.6       </td><td>1.0       </td><td>0.2       </td><td>setosa    </td></tr>\n",
       "\t<tr><td>4.8       </td><td>3.4       </td><td>1.9       </td><td>0.2       </td><td>setosa    </td></tr>\n",
       "\t<tr><td>4.7       </td><td>3.2       </td><td>1.6       </td><td>0.2       </td><td>setosa    </td></tr>\n",
       "\t<tr><td>4.8       </td><td>3.1       </td><td>1.6       </td><td>0.2       </td><td>setosa    </td></tr>\n",
       "\t<tr><td>4.9       </td><td>3.1       </td><td>1.5       </td><td>0.2       </td><td>setosa    </td></tr>\n",
       "\t<tr><td>4.9       </td><td>3.6       </td><td>1.4       </td><td>0.1       </td><td>setosa    </td></tr>\n",
       "\t<tr><td>4.4       </td><td>3.0       </td><td>1.3       </td><td>0.2       </td><td>setosa    </td></tr>\n",
       "\t<tr><td>4.5       </td><td>2.3       </td><td>1.3       </td><td>0.3       </td><td>setosa    </td></tr>\n",
       "\t<tr><td>4.4       </td><td>3.2       </td><td>1.3       </td><td>0.2       </td><td>setosa    </td></tr>\n",
       "\t<tr><td>4.8       </td><td>3.0       </td><td>1.4       </td><td>0.3       </td><td>setosa    </td></tr>\n",
       "\t<tr><td>4.6       </td><td>3.2       </td><td>1.4       </td><td>0.2       </td><td>setosa    </td></tr>\n",
       "\t<tr><td>4.9       </td><td>2.4       </td><td>3.3       </td><td>1.0       </td><td>versicolor</td></tr>\n",
       "</tbody>\n",
       "</table>\n"
      ],
      "text/latex": [
       "\\begin{tabular}{r|lllll}\n",
       " Sepal.Length & Sepal.Width & Petal.Length & Petal.Width & Species\\\\\n",
       "\\hline\n",
       "\t 4.9        & 3.0        & 1.4        & 0.2        & setosa    \\\\\n",
       "\t 4.7        & 3.2        & 1.3        & 0.2        & setosa    \\\\\n",
       "\t 4.6        & 3.1        & 1.5        & 0.2        & setosa    \\\\\n",
       "\t 4.6        & 3.4        & 1.4        & 0.3        & setosa    \\\\\n",
       "\t 4.4        & 2.9        & 1.4        & 0.2        & setosa    \\\\\n",
       "\t 4.9        & 3.1        & 1.5        & 0.1        & setosa    \\\\\n",
       "\t 4.8        & 3.4        & 1.6        & 0.2        & setosa    \\\\\n",
       "\t 4.8        & 3.0        & 1.4        & 0.1        & setosa    \\\\\n",
       "\t 4.3        & 3.0        & 1.1        & 0.1        & setosa    \\\\\n",
       "\t 4.6        & 3.6        & 1.0        & 0.2        & setosa    \\\\\n",
       "\t 4.8        & 3.4        & 1.9        & 0.2        & setosa    \\\\\n",
       "\t 4.7        & 3.2        & 1.6        & 0.2        & setosa    \\\\\n",
       "\t 4.8        & 3.1        & 1.6        & 0.2        & setosa    \\\\\n",
       "\t 4.9        & 3.1        & 1.5        & 0.2        & setosa    \\\\\n",
       "\t 4.9        & 3.6        & 1.4        & 0.1        & setosa    \\\\\n",
       "\t 4.4        & 3.0        & 1.3        & 0.2        & setosa    \\\\\n",
       "\t 4.5        & 2.3        & 1.3        & 0.3        & setosa    \\\\\n",
       "\t 4.4        & 3.2        & 1.3        & 0.2        & setosa    \\\\\n",
       "\t 4.8        & 3.0        & 1.4        & 0.3        & setosa    \\\\\n",
       "\t 4.6        & 3.2        & 1.4        & 0.2        & setosa    \\\\\n",
       "\t 4.9        & 2.4        & 3.3        & 1.0        & versicolor\\\\\n",
       "\\end{tabular}\n"
      ],
      "text/markdown": [
       "\n",
       "Sepal.Length | Sepal.Width | Petal.Length | Petal.Width | Species | \n",
       "|---|---|---|---|---|---|---|---|---|---|---|---|---|---|---|---|---|---|---|---|---|\n",
       "| 4.9        | 3.0        | 1.4        | 0.2        | setosa     | \n",
       "| 4.7        | 3.2        | 1.3        | 0.2        | setosa     | \n",
       "| 4.6        | 3.1        | 1.5        | 0.2        | setosa     | \n",
       "| 4.6        | 3.4        | 1.4        | 0.3        | setosa     | \n",
       "| 4.4        | 2.9        | 1.4        | 0.2        | setosa     | \n",
       "| 4.9        | 3.1        | 1.5        | 0.1        | setosa     | \n",
       "| 4.8        | 3.4        | 1.6        | 0.2        | setosa     | \n",
       "| 4.8        | 3.0        | 1.4        | 0.1        | setosa     | \n",
       "| 4.3        | 3.0        | 1.1        | 0.1        | setosa     | \n",
       "| 4.6        | 3.6        | 1.0        | 0.2        | setosa     | \n",
       "| 4.8        | 3.4        | 1.9        | 0.2        | setosa     | \n",
       "| 4.7        | 3.2        | 1.6        | 0.2        | setosa     | \n",
       "| 4.8        | 3.1        | 1.6        | 0.2        | setosa     | \n",
       "| 4.9        | 3.1        | 1.5        | 0.2        | setosa     | \n",
       "| 4.9        | 3.6        | 1.4        | 0.1        | setosa     | \n",
       "| 4.4        | 3.0        | 1.3        | 0.2        | setosa     | \n",
       "| 4.5        | 2.3        | 1.3        | 0.3        | setosa     | \n",
       "| 4.4        | 3.2        | 1.3        | 0.2        | setosa     | \n",
       "| 4.8        | 3.0        | 1.4        | 0.3        | setosa     | \n",
       "| 4.6        | 3.2        | 1.4        | 0.2        | setosa     | \n",
       "| 4.9        | 2.4        | 3.3        | 1.0        | versicolor | \n",
       "\n",
       "\n"
      ],
      "text/plain": [
       "   Sepal.Length Sepal.Width Petal.Length Petal.Width Species   \n",
       "1  4.9          3.0         1.4          0.2         setosa    \n",
       "2  4.7          3.2         1.3          0.2         setosa    \n",
       "3  4.6          3.1         1.5          0.2         setosa    \n",
       "4  4.6          3.4         1.4          0.3         setosa    \n",
       "5  4.4          2.9         1.4          0.2         setosa    \n",
       "6  4.9          3.1         1.5          0.1         setosa    \n",
       "7  4.8          3.4         1.6          0.2         setosa    \n",
       "8  4.8          3.0         1.4          0.1         setosa    \n",
       "9  4.3          3.0         1.1          0.1         setosa    \n",
       "10 4.6          3.6         1.0          0.2         setosa    \n",
       "11 4.8          3.4         1.9          0.2         setosa    \n",
       "12 4.7          3.2         1.6          0.2         setosa    \n",
       "13 4.8          3.1         1.6          0.2         setosa    \n",
       "14 4.9          3.1         1.5          0.2         setosa    \n",
       "15 4.9          3.6         1.4          0.1         setosa    \n",
       "16 4.4          3.0         1.3          0.2         setosa    \n",
       "17 4.5          2.3         1.3          0.3         setosa    \n",
       "18 4.4          3.2         1.3          0.2         setosa    \n",
       "19 4.8          3.0         1.4          0.3         setosa    \n",
       "20 4.6          3.2         1.4          0.2         setosa    \n",
       "21 4.9          2.4         3.3          1.0         versicolor"
      ]
     },
     "metadata": {},
     "output_type": "display_data"
    }
   ],
   "source": [
    "filter(iris, Sepal.Length < 5.0, Species %in% c('versicolor', 'setosa'))"
   ]
  },
  {
   "cell_type": "markdown",
   "metadata": {},
   "source": [
    "<center><h1> Before we go any further - meet the pipe </h1></center>\n",
    "\n",
    "<img src=\"img/magrittr.jpeg\", width = 500>\n",
    "<br>\n",
    "<center>\n",
    "```\n",
    "f(x) == x %>% f()\n",
    "\n",
    "f(x, y) == x %>% f(y)\n",
    "\n",
    "f(x, y) == y %>% f(x, .)\n",
    "\n",
    "```\n",
    "</center>    "
   ]
  },
  {
   "cell_type": "code",
   "execution_count": 7,
   "metadata": {
    "collapsed": true
   },
   "outputs": [],
   "source": [
    "library(magrittr)"
   ]
  },
  {
   "cell_type": "code",
   "execution_count": 8,
   "metadata": {
    "collapsed": false
   },
   "outputs": [
    {
     "data": {
      "text/html": [
       "<table>\n",
       "<thead><tr><th scope=col>Sepal.Length</th><th scope=col>Sepal.Width</th><th scope=col>Petal.Length</th><th scope=col>Petal.Width</th><th scope=col>Species</th></tr></thead>\n",
       "<tbody>\n",
       "\t<tr><td>5.1   </td><td>3.5   </td><td>1.4   </td><td>0.2   </td><td>setosa</td></tr>\n",
       "\t<tr><td>4.9   </td><td>3.0   </td><td>1.4   </td><td>0.2   </td><td>setosa</td></tr>\n",
       "\t<tr><td>4.7   </td><td>3.2   </td><td>1.3   </td><td>0.2   </td><td>setosa</td></tr>\n",
       "\t<tr><td>4.6   </td><td>3.1   </td><td>1.5   </td><td>0.2   </td><td>setosa</td></tr>\n",
       "\t<tr><td>5.0   </td><td>3.6   </td><td>1.4   </td><td>0.2   </td><td>setosa</td></tr>\n",
       "\t<tr><td>5.4   </td><td>3.9   </td><td>1.7   </td><td>0.4   </td><td>setosa</td></tr>\n",
       "</tbody>\n",
       "</table>\n"
      ],
      "text/latex": [
       "\\begin{tabular}{r|lllll}\n",
       " Sepal.Length & Sepal.Width & Petal.Length & Petal.Width & Species\\\\\n",
       "\\hline\n",
       "\t 5.1    & 3.5    & 1.4    & 0.2    & setosa\\\\\n",
       "\t 4.9    & 3.0    & 1.4    & 0.2    & setosa\\\\\n",
       "\t 4.7    & 3.2    & 1.3    & 0.2    & setosa\\\\\n",
       "\t 4.6    & 3.1    & 1.5    & 0.2    & setosa\\\\\n",
       "\t 5.0    & 3.6    & 1.4    & 0.2    & setosa\\\\\n",
       "\t 5.4    & 3.9    & 1.7    & 0.4    & setosa\\\\\n",
       "\\end{tabular}\n"
      ],
      "text/markdown": [
       "\n",
       "Sepal.Length | Sepal.Width | Petal.Length | Petal.Width | Species | \n",
       "|---|---|---|---|---|---|\n",
       "| 5.1    | 3.5    | 1.4    | 0.2    | setosa | \n",
       "| 4.9    | 3.0    | 1.4    | 0.2    | setosa | \n",
       "| 4.7    | 3.2    | 1.3    | 0.2    | setosa | \n",
       "| 4.6    | 3.1    | 1.5    | 0.2    | setosa | \n",
       "| 5.0    | 3.6    | 1.4    | 0.2    | setosa | \n",
       "| 5.4    | 3.9    | 1.7    | 0.4    | setosa | \n",
       "\n",
       "\n"
      ],
      "text/plain": [
       "  Sepal.Length Sepal.Width Petal.Length Petal.Width Species\n",
       "1 5.1          3.5         1.4          0.2         setosa \n",
       "2 4.9          3.0         1.4          0.2         setosa \n",
       "3 4.7          3.2         1.3          0.2         setosa \n",
       "4 4.6          3.1         1.5          0.2         setosa \n",
       "5 5.0          3.6         1.4          0.2         setosa \n",
       "6 5.4          3.9         1.7          0.4         setosa "
      ]
     },
     "metadata": {},
     "output_type": "display_data"
    }
   ],
   "source": [
    "head(iris)"
   ]
  },
  {
   "cell_type": "code",
   "execution_count": 9,
   "metadata": {
    "collapsed": false
   },
   "outputs": [
    {
     "data": {
      "text/html": [
       "<table>\n",
       "<thead><tr><th scope=col>Sepal.Length</th><th scope=col>Sepal.Width</th><th scope=col>Petal.Length</th><th scope=col>Petal.Width</th><th scope=col>Species</th></tr></thead>\n",
       "<tbody>\n",
       "\t<tr><td>5.1   </td><td>3.5   </td><td>1.4   </td><td>0.2   </td><td>setosa</td></tr>\n",
       "\t<tr><td>4.9   </td><td>3.0   </td><td>1.4   </td><td>0.2   </td><td>setosa</td></tr>\n",
       "\t<tr><td>4.7   </td><td>3.2   </td><td>1.3   </td><td>0.2   </td><td>setosa</td></tr>\n",
       "\t<tr><td>4.6   </td><td>3.1   </td><td>1.5   </td><td>0.2   </td><td>setosa</td></tr>\n",
       "\t<tr><td>5.0   </td><td>3.6   </td><td>1.4   </td><td>0.2   </td><td>setosa</td></tr>\n",
       "\t<tr><td>5.4   </td><td>3.9   </td><td>1.7   </td><td>0.4   </td><td>setosa</td></tr>\n",
       "</tbody>\n",
       "</table>\n"
      ],
      "text/latex": [
       "\\begin{tabular}{r|lllll}\n",
       " Sepal.Length & Sepal.Width & Petal.Length & Petal.Width & Species\\\\\n",
       "\\hline\n",
       "\t 5.1    & 3.5    & 1.4    & 0.2    & setosa\\\\\n",
       "\t 4.9    & 3.0    & 1.4    & 0.2    & setosa\\\\\n",
       "\t 4.7    & 3.2    & 1.3    & 0.2    & setosa\\\\\n",
       "\t 4.6    & 3.1    & 1.5    & 0.2    & setosa\\\\\n",
       "\t 5.0    & 3.6    & 1.4    & 0.2    & setosa\\\\\n",
       "\t 5.4    & 3.9    & 1.7    & 0.4    & setosa\\\\\n",
       "\\end{tabular}\n"
      ],
      "text/markdown": [
       "\n",
       "Sepal.Length | Sepal.Width | Petal.Length | Petal.Width | Species | \n",
       "|---|---|---|---|---|---|\n",
       "| 5.1    | 3.5    | 1.4    | 0.2    | setosa | \n",
       "| 4.9    | 3.0    | 1.4    | 0.2    | setosa | \n",
       "| 4.7    | 3.2    | 1.3    | 0.2    | setosa | \n",
       "| 4.6    | 3.1    | 1.5    | 0.2    | setosa | \n",
       "| 5.0    | 3.6    | 1.4    | 0.2    | setosa | \n",
       "| 5.4    | 3.9    | 1.7    | 0.4    | setosa | \n",
       "\n",
       "\n"
      ],
      "text/plain": [
       "  Sepal.Length Sepal.Width Petal.Length Petal.Width Species\n",
       "1 5.1          3.5         1.4          0.2         setosa \n",
       "2 4.9          3.0         1.4          0.2         setosa \n",
       "3 4.7          3.2         1.3          0.2         setosa \n",
       "4 4.6          3.1         1.5          0.2         setosa \n",
       "5 5.0          3.6         1.4          0.2         setosa \n",
       "6 5.4          3.9         1.7          0.4         setosa "
      ]
     },
     "metadata": {},
     "output_type": "display_data"
    }
   ],
   "source": [
    "iris %>% head()"
   ]
  },
  {
   "cell_type": "code",
   "execution_count": 10,
   "metadata": {
    "collapsed": false
   },
   "outputs": [
    {
     "data": {
      "text/html": [
       "<table>\n",
       "<thead><tr><th scope=col>Sepal.Length</th><th scope=col>Sepal.Width</th><th scope=col>Petal.Length</th><th scope=col>Petal.Width</th><th scope=col>Species</th></tr></thead>\n",
       "<tbody>\n",
       "\t<tr><td>5.1   </td><td>3.5   </td><td>1.4   </td><td>0.2   </td><td>setosa</td></tr>\n",
       "\t<tr><td>4.9   </td><td>3.0   </td><td>1.4   </td><td>0.2   </td><td>setosa</td></tr>\n",
       "\t<tr><td>4.7   </td><td>3.2   </td><td>1.3   </td><td>0.2   </td><td>setosa</td></tr>\n",
       "</tbody>\n",
       "</table>\n"
      ],
      "text/latex": [
       "\\begin{tabular}{r|lllll}\n",
       " Sepal.Length & Sepal.Width & Petal.Length & Petal.Width & Species\\\\\n",
       "\\hline\n",
       "\t 5.1    & 3.5    & 1.4    & 0.2    & setosa\\\\\n",
       "\t 4.9    & 3.0    & 1.4    & 0.2    & setosa\\\\\n",
       "\t 4.7    & 3.2    & 1.3    & 0.2    & setosa\\\\\n",
       "\\end{tabular}\n"
      ],
      "text/markdown": [
       "\n",
       "Sepal.Length | Sepal.Width | Petal.Length | Petal.Width | Species | \n",
       "|---|---|---|\n",
       "| 5.1    | 3.5    | 1.4    | 0.2    | setosa | \n",
       "| 4.9    | 3.0    | 1.4    | 0.2    | setosa | \n",
       "| 4.7    | 3.2    | 1.3    | 0.2    | setosa | \n",
       "\n",
       "\n"
      ],
      "text/plain": [
       "  Sepal.Length Sepal.Width Petal.Length Petal.Width Species\n",
       "1 5.1          3.5         1.4          0.2         setosa \n",
       "2 4.9          3.0         1.4          0.2         setosa \n",
       "3 4.7          3.2         1.3          0.2         setosa "
      ]
     },
     "metadata": {},
     "output_type": "display_data"
    }
   ],
   "source": [
    "head(iris, 3)"
   ]
  },
  {
   "cell_type": "code",
   "execution_count": 11,
   "metadata": {
    "collapsed": false
   },
   "outputs": [
    {
     "data": {
      "text/html": [
       "<table>\n",
       "<thead><tr><th scope=col>Sepal.Length</th><th scope=col>Sepal.Width</th><th scope=col>Petal.Length</th><th scope=col>Petal.Width</th><th scope=col>Species</th></tr></thead>\n",
       "<tbody>\n",
       "\t<tr><td>5.1   </td><td>3.5   </td><td>1.4   </td><td>0.2   </td><td>setosa</td></tr>\n",
       "\t<tr><td>4.9   </td><td>3.0   </td><td>1.4   </td><td>0.2   </td><td>setosa</td></tr>\n",
       "\t<tr><td>4.7   </td><td>3.2   </td><td>1.3   </td><td>0.2   </td><td>setosa</td></tr>\n",
       "</tbody>\n",
       "</table>\n"
      ],
      "text/latex": [
       "\\begin{tabular}{r|lllll}\n",
       " Sepal.Length & Sepal.Width & Petal.Length & Petal.Width & Species\\\\\n",
       "\\hline\n",
       "\t 5.1    & 3.5    & 1.4    & 0.2    & setosa\\\\\n",
       "\t 4.9    & 3.0    & 1.4    & 0.2    & setosa\\\\\n",
       "\t 4.7    & 3.2    & 1.3    & 0.2    & setosa\\\\\n",
       "\\end{tabular}\n"
      ],
      "text/markdown": [
       "\n",
       "Sepal.Length | Sepal.Width | Petal.Length | Petal.Width | Species | \n",
       "|---|---|---|\n",
       "| 5.1    | 3.5    | 1.4    | 0.2    | setosa | \n",
       "| 4.9    | 3.0    | 1.4    | 0.2    | setosa | \n",
       "| 4.7    | 3.2    | 1.3    | 0.2    | setosa | \n",
       "\n",
       "\n"
      ],
      "text/plain": [
       "  Sepal.Length Sepal.Width Petal.Length Petal.Width Species\n",
       "1 5.1          3.5         1.4          0.2         setosa \n",
       "2 4.9          3.0         1.4          0.2         setosa \n",
       "3 4.7          3.2         1.3          0.2         setosa "
      ]
     },
     "metadata": {},
     "output_type": "display_data"
    }
   ],
   "source": [
    "iris %>% head(3)"
   ]
  },
  {
   "cell_type": "code",
   "execution_count": 12,
   "metadata": {
    "collapsed": false
   },
   "outputs": [
    {
     "data": {
      "text/html": [
       "<table>\n",
       "<thead><tr><th scope=col>Sepal.Length</th><th scope=col>Sepal.Width</th><th scope=col>Petal.Length</th><th scope=col>Petal.Width</th><th scope=col>Species</th></tr></thead>\n",
       "<tbody>\n",
       "\t<tr><td>5.1   </td><td>3.5   </td><td>1.4   </td><td>0.2   </td><td>setosa</td></tr>\n",
       "\t<tr><td>4.9   </td><td>3.0   </td><td>1.4   </td><td>0.2   </td><td>setosa</td></tr>\n",
       "\t<tr><td>4.7   </td><td>3.2   </td><td>1.3   </td><td>0.2   </td><td>setosa</td></tr>\n",
       "</tbody>\n",
       "</table>\n"
      ],
      "text/latex": [
       "\\begin{tabular}{r|lllll}\n",
       " Sepal.Length & Sepal.Width & Petal.Length & Petal.Width & Species\\\\\n",
       "\\hline\n",
       "\t 5.1    & 3.5    & 1.4    & 0.2    & setosa\\\\\n",
       "\t 4.9    & 3.0    & 1.4    & 0.2    & setosa\\\\\n",
       "\t 4.7    & 3.2    & 1.3    & 0.2    & setosa\\\\\n",
       "\\end{tabular}\n"
      ],
      "text/markdown": [
       "\n",
       "Sepal.Length | Sepal.Width | Petal.Length | Petal.Width | Species | \n",
       "|---|---|---|\n",
       "| 5.1    | 3.5    | 1.4    | 0.2    | setosa | \n",
       "| 4.9    | 3.0    | 1.4    | 0.2    | setosa | \n",
       "| 4.7    | 3.2    | 1.3    | 0.2    | setosa | \n",
       "\n",
       "\n"
      ],
      "text/plain": [
       "  Sepal.Length Sepal.Width Petal.Length Petal.Width Species\n",
       "1 5.1          3.5         1.4          0.2         setosa \n",
       "2 4.9          3.0         1.4          0.2         setosa \n",
       "3 4.7          3.2         1.3          0.2         setosa "
      ]
     },
     "metadata": {},
     "output_type": "display_data"
    }
   ],
   "source": [
    "3 %>% head(iris, .)"
   ]
  },
  {
   "cell_type": "markdown",
   "metadata": {},
   "source": [
    "<center><h1> `select` - subsetting columns </h1></center>\n",
    "\n",
    "<img src=\"img/select.png\", width = 500>"
   ]
  },
  {
   "cell_type": "code",
   "execution_count": 13,
   "metadata": {
    "collapsed": false
   },
   "outputs": [
    {
     "data": {
      "text/html": [
       "<table>\n",
       "<thead><tr><th scope=col>Sepal.Length</th></tr></thead>\n",
       "<tbody>\n",
       "\t<tr><td>5.1</td></tr>\n",
       "\t<tr><td>4.9</td></tr>\n",
       "\t<tr><td>4.7</td></tr>\n",
       "\t<tr><td>4.6</td></tr>\n",
       "\t<tr><td>5.0</td></tr>\n",
       "\t<tr><td>5.4</td></tr>\n",
       "\t<tr><td>4.6</td></tr>\n",
       "\t<tr><td>5.0</td></tr>\n",
       "\t<tr><td>4.4</td></tr>\n",
       "\t<tr><td>4.9</td></tr>\n",
       "\t<tr><td>5.4</td></tr>\n",
       "\t<tr><td>4.8</td></tr>\n",
       "\t<tr><td>4.8</td></tr>\n",
       "\t<tr><td>4.3</td></tr>\n",
       "\t<tr><td>5.8</td></tr>\n",
       "\t<tr><td>5.7</td></tr>\n",
       "\t<tr><td>5.4</td></tr>\n",
       "\t<tr><td>5.1</td></tr>\n",
       "\t<tr><td>5.7</td></tr>\n",
       "\t<tr><td>5.1</td></tr>\n",
       "\t<tr><td>5.4</td></tr>\n",
       "\t<tr><td>5.1</td></tr>\n",
       "\t<tr><td>4.6</td></tr>\n",
       "\t<tr><td>5.1</td></tr>\n",
       "\t<tr><td>4.8</td></tr>\n",
       "\t<tr><td>5.0</td></tr>\n",
       "\t<tr><td>5.0</td></tr>\n",
       "\t<tr><td>5.2</td></tr>\n",
       "\t<tr><td>5.2</td></tr>\n",
       "\t<tr><td>4.7</td></tr>\n",
       "\t<tr><td>⋮</td></tr>\n",
       "\t<tr><td>6.9</td></tr>\n",
       "\t<tr><td>5.6</td></tr>\n",
       "\t<tr><td>7.7</td></tr>\n",
       "\t<tr><td>6.3</td></tr>\n",
       "\t<tr><td>6.7</td></tr>\n",
       "\t<tr><td>7.2</td></tr>\n",
       "\t<tr><td>6.2</td></tr>\n",
       "\t<tr><td>6.1</td></tr>\n",
       "\t<tr><td>6.4</td></tr>\n",
       "\t<tr><td>7.2</td></tr>\n",
       "\t<tr><td>7.4</td></tr>\n",
       "\t<tr><td>7.9</td></tr>\n",
       "\t<tr><td>6.4</td></tr>\n",
       "\t<tr><td>6.3</td></tr>\n",
       "\t<tr><td>6.1</td></tr>\n",
       "\t<tr><td>7.7</td></tr>\n",
       "\t<tr><td>6.3</td></tr>\n",
       "\t<tr><td>6.4</td></tr>\n",
       "\t<tr><td>6.0</td></tr>\n",
       "\t<tr><td>6.9</td></tr>\n",
       "\t<tr><td>6.7</td></tr>\n",
       "\t<tr><td>6.9</td></tr>\n",
       "\t<tr><td>5.8</td></tr>\n",
       "\t<tr><td>6.8</td></tr>\n",
       "\t<tr><td>6.7</td></tr>\n",
       "\t<tr><td>6.7</td></tr>\n",
       "\t<tr><td>6.3</td></tr>\n",
       "\t<tr><td>6.5</td></tr>\n",
       "\t<tr><td>6.2</td></tr>\n",
       "\t<tr><td>5.9</td></tr>\n",
       "</tbody>\n",
       "</table>\n"
      ],
      "text/latex": [
       "\\begin{tabular}{r|l}\n",
       " Sepal.Length\\\\\n",
       "\\hline\n",
       "\t 5.1\\\\\n",
       "\t 4.9\\\\\n",
       "\t 4.7\\\\\n",
       "\t 4.6\\\\\n",
       "\t 5.0\\\\\n",
       "\t 5.4\\\\\n",
       "\t 4.6\\\\\n",
       "\t 5.0\\\\\n",
       "\t 4.4\\\\\n",
       "\t 4.9\\\\\n",
       "\t 5.4\\\\\n",
       "\t 4.8\\\\\n",
       "\t 4.8\\\\\n",
       "\t 4.3\\\\\n",
       "\t 5.8\\\\\n",
       "\t 5.7\\\\\n",
       "\t 5.4\\\\\n",
       "\t 5.1\\\\\n",
       "\t 5.7\\\\\n",
       "\t 5.1\\\\\n",
       "\t 5.4\\\\\n",
       "\t 5.1\\\\\n",
       "\t 4.6\\\\\n",
       "\t 5.1\\\\\n",
       "\t 4.8\\\\\n",
       "\t 5.0\\\\\n",
       "\t 5.0\\\\\n",
       "\t 5.2\\\\\n",
       "\t 5.2\\\\\n",
       "\t 4.7\\\\\n",
       "\t ⋮\\\\\n",
       "\t 6.9\\\\\n",
       "\t 5.6\\\\\n",
       "\t 7.7\\\\\n",
       "\t 6.3\\\\\n",
       "\t 6.7\\\\\n",
       "\t 7.2\\\\\n",
       "\t 6.2\\\\\n",
       "\t 6.1\\\\\n",
       "\t 6.4\\\\\n",
       "\t 7.2\\\\\n",
       "\t 7.4\\\\\n",
       "\t 7.9\\\\\n",
       "\t 6.4\\\\\n",
       "\t 6.3\\\\\n",
       "\t 6.1\\\\\n",
       "\t 7.7\\\\\n",
       "\t 6.3\\\\\n",
       "\t 6.4\\\\\n",
       "\t 6.0\\\\\n",
       "\t 6.9\\\\\n",
       "\t 6.7\\\\\n",
       "\t 6.9\\\\\n",
       "\t 5.8\\\\\n",
       "\t 6.8\\\\\n",
       "\t 6.7\\\\\n",
       "\t 6.7\\\\\n",
       "\t 6.3\\\\\n",
       "\t 6.5\\\\\n",
       "\t 6.2\\\\\n",
       "\t 5.9\\\\\n",
       "\\end{tabular}\n"
      ],
      "text/markdown": [
       "\n",
       "Sepal.Length | \n",
       "|---|---|---|---|---|---|---|---|---|---|---|---|---|---|---|---|---|---|---|---|---|---|---|---|---|---|---|---|---|---|---|---|---|---|---|---|---|---|---|---|---|---|---|---|---|---|---|---|---|---|---|---|---|---|---|---|---|---|---|---|---|\n",
       "| 5.1 | \n",
       "| 4.9 | \n",
       "| 4.7 | \n",
       "| 4.6 | \n",
       "| 5.0 | \n",
       "| 5.4 | \n",
       "| 4.6 | \n",
       "| 5.0 | \n",
       "| 4.4 | \n",
       "| 4.9 | \n",
       "| 5.4 | \n",
       "| 4.8 | \n",
       "| 4.8 | \n",
       "| 4.3 | \n",
       "| 5.8 | \n",
       "| 5.7 | \n",
       "| 5.4 | \n",
       "| 5.1 | \n",
       "| 5.7 | \n",
       "| 5.1 | \n",
       "| 5.4 | \n",
       "| 5.1 | \n",
       "| 4.6 | \n",
       "| 5.1 | \n",
       "| 4.8 | \n",
       "| 5.0 | \n",
       "| 5.0 | \n",
       "| 5.2 | \n",
       "| 5.2 | \n",
       "| 4.7 | \n",
       "| ⋮ | \n",
       "| 6.9 | \n",
       "| 5.6 | \n",
       "| 7.7 | \n",
       "| 6.3 | \n",
       "| 6.7 | \n",
       "| 7.2 | \n",
       "| 6.2 | \n",
       "| 6.1 | \n",
       "| 6.4 | \n",
       "| 7.2 | \n",
       "| 7.4 | \n",
       "| 7.9 | \n",
       "| 6.4 | \n",
       "| 6.3 | \n",
       "| 6.1 | \n",
       "| 7.7 | \n",
       "| 6.3 | \n",
       "| 6.4 | \n",
       "| 6.0 | \n",
       "| 6.9 | \n",
       "| 6.7 | \n",
       "| 6.9 | \n",
       "| 5.8 | \n",
       "| 6.8 | \n",
       "| 6.7 | \n",
       "| 6.7 | \n",
       "| 6.3 | \n",
       "| 6.5 | \n",
       "| 6.2 | \n",
       "| 5.9 | \n",
       "\n",
       "\n"
      ],
      "text/plain": [
       "    Sepal.Length\n",
       "1   5.1         \n",
       "2   4.9         \n",
       "3   4.7         \n",
       "4   4.6         \n",
       "5   5.0         \n",
       "6   5.4         \n",
       "7   4.6         \n",
       "8   5.0         \n",
       "9   4.4         \n",
       "10  4.9         \n",
       "11  5.4         \n",
       "12  4.8         \n",
       "13  4.8         \n",
       "14  4.3         \n",
       "15  5.8         \n",
       "16  5.7         \n",
       "17  5.4         \n",
       "18  5.1         \n",
       "19  5.7         \n",
       "20  5.1         \n",
       "21  5.4         \n",
       "22  5.1         \n",
       "23  4.6         \n",
       "24  5.1         \n",
       "25  4.8         \n",
       "26  5.0         \n",
       "27  5.0         \n",
       "28  5.2         \n",
       "29  5.2         \n",
       "30  4.7         \n",
       "⋮   ⋮           \n",
       "121 6.9         \n",
       "122 5.6         \n",
       "123 7.7         \n",
       "124 6.3         \n",
       "125 6.7         \n",
       "126 7.2         \n",
       "127 6.2         \n",
       "128 6.1         \n",
       "129 6.4         \n",
       "130 7.2         \n",
       "131 7.4         \n",
       "132 7.9         \n",
       "133 6.4         \n",
       "134 6.3         \n",
       "135 6.1         \n",
       "136 7.7         \n",
       "137 6.3         \n",
       "138 6.4         \n",
       "139 6.0         \n",
       "140 6.9         \n",
       "141 6.7         \n",
       "142 6.9         \n",
       "143 5.8         \n",
       "144 6.8         \n",
       "145 6.7         \n",
       "146 6.7         \n",
       "147 6.3         \n",
       "148 6.5         \n",
       "149 6.2         \n",
       "150 5.9         "
      ]
     },
     "metadata": {},
     "output_type": "display_data"
    }
   ],
   "source": [
    "select(iris, Sepal.Length)"
   ]
  },
  {
   "cell_type": "code",
   "execution_count": 14,
   "metadata": {
    "collapsed": false
   },
   "outputs": [
    {
     "data": {
      "text/html": [
       "<table>\n",
       "<thead><tr><th scope=col>Sepal.Length</th><th scope=col>Species</th></tr></thead>\n",
       "<tbody>\n",
       "\t<tr><td>5.1   </td><td>setosa</td></tr>\n",
       "\t<tr><td>4.9   </td><td>setosa</td></tr>\n",
       "\t<tr><td>4.7   </td><td>setosa</td></tr>\n",
       "\t<tr><td>4.6   </td><td>setosa</td></tr>\n",
       "\t<tr><td>5.0   </td><td>setosa</td></tr>\n",
       "\t<tr><td>5.4   </td><td>setosa</td></tr>\n",
       "</tbody>\n",
       "</table>\n"
      ],
      "text/latex": [
       "\\begin{tabular}{r|ll}\n",
       " Sepal.Length & Species\\\\\n",
       "\\hline\n",
       "\t 5.1    & setosa\\\\\n",
       "\t 4.9    & setosa\\\\\n",
       "\t 4.7    & setosa\\\\\n",
       "\t 4.6    & setosa\\\\\n",
       "\t 5.0    & setosa\\\\\n",
       "\t 5.4    & setosa\\\\\n",
       "\\end{tabular}\n"
      ],
      "text/markdown": [
       "\n",
       "Sepal.Length | Species | \n",
       "|---|---|---|---|---|---|\n",
       "| 5.1    | setosa | \n",
       "| 4.9    | setosa | \n",
       "| 4.7    | setosa | \n",
       "| 4.6    | setosa | \n",
       "| 5.0    | setosa | \n",
       "| 5.4    | setosa | \n",
       "\n",
       "\n"
      ],
      "text/plain": [
       "  Sepal.Length Species\n",
       "1 5.1          setosa \n",
       "2 4.9          setosa \n",
       "3 4.7          setosa \n",
       "4 4.6          setosa \n",
       "5 5.0          setosa \n",
       "6 5.4          setosa "
      ]
     },
     "metadata": {},
     "output_type": "display_data"
    }
   ],
   "source": [
    "select(iris, Sepal.Length, Species) %>% head()"
   ]
  },
  {
   "cell_type": "code",
   "execution_count": 15,
   "metadata": {
    "collapsed": false
   },
   "outputs": [
    {
     "data": {
      "text/html": [
       "<table>\n",
       "<thead><tr><th scope=col>Sepal.Length</th><th scope=col>Sepal.Width</th><th scope=col>Species</th></tr></thead>\n",
       "<tbody>\n",
       "\t<tr><td>5.1   </td><td>3.5   </td><td>setosa</td></tr>\n",
       "\t<tr><td>4.9   </td><td>3.0   </td><td>setosa</td></tr>\n",
       "\t<tr><td>4.7   </td><td>3.2   </td><td>setosa</td></tr>\n",
       "\t<tr><td>4.6   </td><td>3.1   </td><td>setosa</td></tr>\n",
       "\t<tr><td>5.0   </td><td>3.6   </td><td>setosa</td></tr>\n",
       "\t<tr><td>5.4   </td><td>3.9   </td><td>setosa</td></tr>\n",
       "</tbody>\n",
       "</table>\n"
      ],
      "text/latex": [
       "\\begin{tabular}{r|lll}\n",
       " Sepal.Length & Sepal.Width & Species\\\\\n",
       "\\hline\n",
       "\t 5.1    & 3.5    & setosa\\\\\n",
       "\t 4.9    & 3.0    & setosa\\\\\n",
       "\t 4.7    & 3.2    & setosa\\\\\n",
       "\t 4.6    & 3.1    & setosa\\\\\n",
       "\t 5.0    & 3.6    & setosa\\\\\n",
       "\t 5.4    & 3.9    & setosa\\\\\n",
       "\\end{tabular}\n"
      ],
      "text/markdown": [
       "\n",
       "Sepal.Length | Sepal.Width | Species | \n",
       "|---|---|---|---|---|---|\n",
       "| 5.1    | 3.5    | setosa | \n",
       "| 4.9    | 3.0    | setosa | \n",
       "| 4.7    | 3.2    | setosa | \n",
       "| 4.6    | 3.1    | setosa | \n",
       "| 5.0    | 3.6    | setosa | \n",
       "| 5.4    | 3.9    | setosa | \n",
       "\n",
       "\n"
      ],
      "text/plain": [
       "  Sepal.Length Sepal.Width Species\n",
       "1 5.1          3.5         setosa \n",
       "2 4.9          3.0         setosa \n",
       "3 4.7          3.2         setosa \n",
       "4 4.6          3.1         setosa \n",
       "5 5.0          3.6         setosa \n",
       "6 5.4          3.9         setosa "
      ]
     },
     "metadata": {},
     "output_type": "display_data"
    }
   ],
   "source": [
    "select(iris, contains('Sepal'), Species) %>% head()"
   ]
  },
  {
   "cell_type": "code",
   "execution_count": 16,
   "metadata": {
    "collapsed": false
   },
   "outputs": [
    {
     "data": {
      "text/html": [
       "<table>\n",
       "<thead><tr><th scope=col>Sepal.Length</th><th scope=col>Sepal.Width</th><th scope=col>Petal.Length</th></tr></thead>\n",
       "<tbody>\n",
       "\t<tr><td>5.1</td><td>3.5</td><td>1.4</td></tr>\n",
       "\t<tr><td>4.9</td><td>3.0</td><td>1.4</td></tr>\n",
       "\t<tr><td>4.7</td><td>3.2</td><td>1.3</td></tr>\n",
       "\t<tr><td>4.6</td><td>3.1</td><td>1.5</td></tr>\n",
       "\t<tr><td>5.0</td><td>3.6</td><td>1.4</td></tr>\n",
       "\t<tr><td>5.4</td><td>3.9</td><td>1.7</td></tr>\n",
       "</tbody>\n",
       "</table>\n"
      ],
      "text/latex": [
       "\\begin{tabular}{r|lll}\n",
       " Sepal.Length & Sepal.Width & Petal.Length\\\\\n",
       "\\hline\n",
       "\t 5.1 & 3.5 & 1.4\\\\\n",
       "\t 4.9 & 3.0 & 1.4\\\\\n",
       "\t 4.7 & 3.2 & 1.3\\\\\n",
       "\t 4.6 & 3.1 & 1.5\\\\\n",
       "\t 5.0 & 3.6 & 1.4\\\\\n",
       "\t 5.4 & 3.9 & 1.7\\\\\n",
       "\\end{tabular}\n"
      ],
      "text/markdown": [
       "\n",
       "Sepal.Length | Sepal.Width | Petal.Length | \n",
       "|---|---|---|---|---|---|\n",
       "| 5.1 | 3.5 | 1.4 | \n",
       "| 4.9 | 3.0 | 1.4 | \n",
       "| 4.7 | 3.2 | 1.3 | \n",
       "| 4.6 | 3.1 | 1.5 | \n",
       "| 5.0 | 3.6 | 1.4 | \n",
       "| 5.4 | 3.9 | 1.7 | \n",
       "\n",
       "\n"
      ],
      "text/plain": [
       "  Sepal.Length Sepal.Width Petal.Length\n",
       "1 5.1          3.5         1.4         \n",
       "2 4.9          3.0         1.4         \n",
       "3 4.7          3.2         1.3         \n",
       "4 4.6          3.1         1.5         \n",
       "5 5.0          3.6         1.4         \n",
       "6 5.4          3.9         1.7         "
      ]
     },
     "metadata": {},
     "output_type": "display_data"
    }
   ],
   "source": [
    "select(iris, starts_with('Sepal'), ends_with('Length')) %>% head()"
   ]
  },
  {
   "cell_type": "code",
   "execution_count": 17,
   "metadata": {
    "collapsed": false
   },
   "outputs": [
    {
     "data": {
      "text/html": [
       "<table>\n",
       "<thead><tr><th scope=col>SL</th><th scope=col>SW</th></tr></thead>\n",
       "<tbody>\n",
       "\t<tr><td>5.1</td><td>3.5</td></tr>\n",
       "\t<tr><td>4.9</td><td>3.0</td></tr>\n",
       "\t<tr><td>4.7</td><td>3.2</td></tr>\n",
       "\t<tr><td>4.6</td><td>3.1</td></tr>\n",
       "\t<tr><td>5.0</td><td>3.6</td></tr>\n",
       "\t<tr><td>5.4</td><td>3.9</td></tr>\n",
       "</tbody>\n",
       "</table>\n"
      ],
      "text/latex": [
       "\\begin{tabular}{r|ll}\n",
       " SL & SW\\\\\n",
       "\\hline\n",
       "\t 5.1 & 3.5\\\\\n",
       "\t 4.9 & 3.0\\\\\n",
       "\t 4.7 & 3.2\\\\\n",
       "\t 4.6 & 3.1\\\\\n",
       "\t 5.0 & 3.6\\\\\n",
       "\t 5.4 & 3.9\\\\\n",
       "\\end{tabular}\n"
      ],
      "text/markdown": [
       "\n",
       "SL | SW | \n",
       "|---|---|---|---|---|---|\n",
       "| 5.1 | 3.5 | \n",
       "| 4.9 | 3.0 | \n",
       "| 4.7 | 3.2 | \n",
       "| 4.6 | 3.1 | \n",
       "| 5.0 | 3.6 | \n",
       "| 5.4 | 3.9 | \n",
       "\n",
       "\n"
      ],
      "text/plain": [
       "  SL  SW \n",
       "1 5.1 3.5\n",
       "2 4.9 3.0\n",
       "3 4.7 3.2\n",
       "4 4.6 3.1\n",
       "5 5.0 3.6\n",
       "6 5.4 3.9"
      ]
     },
     "metadata": {},
     "output_type": "display_data"
    }
   ],
   "source": [
    "# renaming with select\n",
    "\n",
    "select(iris, SL = Sepal.Length, SW = Sepal.Width) %>% head()"
   ]
  },
  {
   "cell_type": "markdown",
   "metadata": {},
   "source": [
    "Combining `select` and `filter` using the pipe:"
   ]
  },
  {
   "cell_type": "code",
   "execution_count": 18,
   "metadata": {
    "collapsed": false
   },
   "outputs": [
    {
     "data": {
      "text/html": [
       "'data.frame'"
      ],
      "text/latex": [
       "'data.frame'"
      ],
      "text/markdown": [
       "'data.frame'"
      ],
      "text/plain": [
       "[1] \"data.frame\""
      ]
     },
     "metadata": {},
     "output_type": "display_data"
    }
   ],
   "source": [
    "class(select(iris, Sepal.Length)) # is a data frame"
   ]
  },
  {
   "cell_type": "code",
   "execution_count": 19,
   "metadata": {
    "collapsed": false
   },
   "outputs": [
    {
     "data": {
      "text/html": [
       "<table>\n",
       "<thead><tr><th scope=col>Sepal.Length</th></tr></thead>\n",
       "<tbody>\n",
       "\t<tr><td>7.1</td></tr>\n",
       "\t<tr><td>7.6</td></tr>\n",
       "\t<tr><td>7.3</td></tr>\n",
       "\t<tr><td>7.2</td></tr>\n",
       "\t<tr><td>7.7</td></tr>\n",
       "\t<tr><td>7.7</td></tr>\n",
       "\t<tr><td>7.7</td></tr>\n",
       "\t<tr><td>7.2</td></tr>\n",
       "\t<tr><td>7.2</td></tr>\n",
       "\t<tr><td>7.4</td></tr>\n",
       "\t<tr><td>7.9</td></tr>\n",
       "\t<tr><td>7.7</td></tr>\n",
       "</tbody>\n",
       "</table>\n"
      ],
      "text/latex": [
       "\\begin{tabular}{r|l}\n",
       " Sepal.Length\\\\\n",
       "\\hline\n",
       "\t 7.1\\\\\n",
       "\t 7.6\\\\\n",
       "\t 7.3\\\\\n",
       "\t 7.2\\\\\n",
       "\t 7.7\\\\\n",
       "\t 7.7\\\\\n",
       "\t 7.7\\\\\n",
       "\t 7.2\\\\\n",
       "\t 7.2\\\\\n",
       "\t 7.4\\\\\n",
       "\t 7.9\\\\\n",
       "\t 7.7\\\\\n",
       "\\end{tabular}\n"
      ],
      "text/markdown": [
       "\n",
       "Sepal.Length | \n",
       "|---|---|---|---|---|---|---|---|---|---|---|---|\n",
       "| 7.1 | \n",
       "| 7.6 | \n",
       "| 7.3 | \n",
       "| 7.2 | \n",
       "| 7.7 | \n",
       "| 7.7 | \n",
       "| 7.7 | \n",
       "| 7.2 | \n",
       "| 7.2 | \n",
       "| 7.4 | \n",
       "| 7.9 | \n",
       "| 7.7 | \n",
       "\n",
       "\n"
      ],
      "text/plain": [
       "   Sepal.Length\n",
       "1  7.1         \n",
       "2  7.6         \n",
       "3  7.3         \n",
       "4  7.2         \n",
       "5  7.7         \n",
       "6  7.7         \n",
       "7  7.7         \n",
       "8  7.2         \n",
       "9  7.2         \n",
       "10 7.4         \n",
       "11 7.9         \n",
       "12 7.7         "
      ]
     },
     "metadata": {},
     "output_type": "display_data"
    }
   ],
   "source": [
    "select(iris, Sepal.Length) %>%\n",
    "filter(Sepal.Length > 7.0) # notice lack of first argument here"
   ]
  },
  {
   "cell_type": "code",
   "execution_count": 20,
   "metadata": {
    "collapsed": false
   },
   "outputs": [
    {
     "data": {
      "text/html": [
       "<table>\n",
       "<thead><tr><th scope=col>Sepal.Length</th></tr></thead>\n",
       "<tbody>\n",
       "\t<tr><td>7.1</td></tr>\n",
       "\t<tr><td>7.6</td></tr>\n",
       "\t<tr><td>7.3</td></tr>\n",
       "\t<tr><td>7.2</td></tr>\n",
       "\t<tr><td>7.7</td></tr>\n",
       "\t<tr><td>7.7</td></tr>\n",
       "\t<tr><td>7.7</td></tr>\n",
       "\t<tr><td>7.2</td></tr>\n",
       "\t<tr><td>7.2</td></tr>\n",
       "\t<tr><td>7.4</td></tr>\n",
       "\t<tr><td>7.9</td></tr>\n",
       "\t<tr><td>7.7</td></tr>\n",
       "</tbody>\n",
       "</table>\n"
      ],
      "text/latex": [
       "\\begin{tabular}{r|l}\n",
       " Sepal.Length\\\\\n",
       "\\hline\n",
       "\t 7.1\\\\\n",
       "\t 7.6\\\\\n",
       "\t 7.3\\\\\n",
       "\t 7.2\\\\\n",
       "\t 7.7\\\\\n",
       "\t 7.7\\\\\n",
       "\t 7.7\\\\\n",
       "\t 7.2\\\\\n",
       "\t 7.2\\\\\n",
       "\t 7.4\\\\\n",
       "\t 7.9\\\\\n",
       "\t 7.7\\\\\n",
       "\\end{tabular}\n"
      ],
      "text/markdown": [
       "\n",
       "Sepal.Length | \n",
       "|---|---|---|---|---|---|---|---|---|---|---|---|\n",
       "| 7.1 | \n",
       "| 7.6 | \n",
       "| 7.3 | \n",
       "| 7.2 | \n",
       "| 7.7 | \n",
       "| 7.7 | \n",
       "| 7.7 | \n",
       "| 7.2 | \n",
       "| 7.2 | \n",
       "| 7.4 | \n",
       "| 7.9 | \n",
       "| 7.7 | \n",
       "\n",
       "\n"
      ],
      "text/plain": [
       "   Sepal.Length\n",
       "1  7.1         \n",
       "2  7.6         \n",
       "3  7.3         \n",
       "4  7.2         \n",
       "5  7.7         \n",
       "6  7.7         \n",
       "7  7.7         \n",
       "8  7.2         \n",
       "9  7.2         \n",
       "10 7.4         \n",
       "11 7.9         \n",
       "12 7.7         "
      ]
     },
     "metadata": {},
     "output_type": "display_data"
    }
   ],
   "source": [
    "# could be restructured as -\n",
    "iris %>%\n",
    "    select(Sepal.Length) %>%\n",
    "    filter(Sepal.Length > 7.0)\n",
    "\n",
    "# almost reads like a recipe!"
   ]
  },
  {
   "cell_type": "code",
   "execution_count": 21,
   "metadata": {
    "collapsed": false
   },
   "outputs": [
    {
     "data": {
      "text/html": [
       "<table>\n",
       "<thead><tr><th scope=col>Sepal.Length</th></tr></thead>\n",
       "<tbody>\n",
       "\t<tr><td>7.1</td></tr>\n",
       "\t<tr><td>7.2</td></tr>\n",
       "\t<tr><td>7.2</td></tr>\n",
       "\t<tr><td>7.2</td></tr>\n",
       "\t<tr><td>7.3</td></tr>\n",
       "\t<tr><td>7.4</td></tr>\n",
       "\t<tr><td>7.6</td></tr>\n",
       "\t<tr><td>7.7</td></tr>\n",
       "\t<tr><td>7.7</td></tr>\n",
       "\t<tr><td>7.7</td></tr>\n",
       "\t<tr><td>7.7</td></tr>\n",
       "\t<tr><td>7.9</td></tr>\n",
       "</tbody>\n",
       "</table>\n"
      ],
      "text/latex": [
       "\\begin{tabular}{r|l}\n",
       " Sepal.Length\\\\\n",
       "\\hline\n",
       "\t 7.1\\\\\n",
       "\t 7.2\\\\\n",
       "\t 7.2\\\\\n",
       "\t 7.2\\\\\n",
       "\t 7.3\\\\\n",
       "\t 7.4\\\\\n",
       "\t 7.6\\\\\n",
       "\t 7.7\\\\\n",
       "\t 7.7\\\\\n",
       "\t 7.7\\\\\n",
       "\t 7.7\\\\\n",
       "\t 7.9\\\\\n",
       "\\end{tabular}\n"
      ],
      "text/markdown": [
       "\n",
       "Sepal.Length | \n",
       "|---|---|---|---|---|---|---|---|---|---|---|---|\n",
       "| 7.1 | \n",
       "| 7.2 | \n",
       "| 7.2 | \n",
       "| 7.2 | \n",
       "| 7.3 | \n",
       "| 7.4 | \n",
       "| 7.6 | \n",
       "| 7.7 | \n",
       "| 7.7 | \n",
       "| 7.7 | \n",
       "| 7.7 | \n",
       "| 7.9 | \n",
       "\n",
       "\n"
      ],
      "text/plain": [
       "   Sepal.Length\n",
       "1  7.1         \n",
       "2  7.2         \n",
       "3  7.2         \n",
       "4  7.2         \n",
       "5  7.3         \n",
       "6  7.4         \n",
       "7  7.6         \n",
       "8  7.7         \n",
       "9  7.7         \n",
       "10 7.7         \n",
       "11 7.7         \n",
       "12 7.9         "
      ]
     },
     "metadata": {},
     "output_type": "display_data"
    }
   ],
   "source": [
    "iris %>%\n",
    "    select(Sepal.Length) %>%\n",
    "    filter(Sepal.Length > 7.0) %>%\n",
    "    arrange(Sepal.Length)"
   ]
  },
  {
   "cell_type": "code",
   "execution_count": 22,
   "metadata": {
    "collapsed": false
   },
   "outputs": [
    {
     "data": {
      "text/html": [
       "<table>\n",
       "<thead><tr><th scope=col>Sepal.Length</th></tr></thead>\n",
       "<tbody>\n",
       "\t<tr><td>7.9</td></tr>\n",
       "\t<tr><td>7.7</td></tr>\n",
       "\t<tr><td>7.7</td></tr>\n",
       "\t<tr><td>7.7</td></tr>\n",
       "\t<tr><td>7.7</td></tr>\n",
       "\t<tr><td>7.6</td></tr>\n",
       "\t<tr><td>7.4</td></tr>\n",
       "\t<tr><td>7.3</td></tr>\n",
       "\t<tr><td>7.2</td></tr>\n",
       "\t<tr><td>7.2</td></tr>\n",
       "\t<tr><td>7.2</td></tr>\n",
       "\t<tr><td>7.1</td></tr>\n",
       "</tbody>\n",
       "</table>\n"
      ],
      "text/latex": [
       "\\begin{tabular}{r|l}\n",
       " Sepal.Length\\\\\n",
       "\\hline\n",
       "\t 7.9\\\\\n",
       "\t 7.7\\\\\n",
       "\t 7.7\\\\\n",
       "\t 7.7\\\\\n",
       "\t 7.7\\\\\n",
       "\t 7.6\\\\\n",
       "\t 7.4\\\\\n",
       "\t 7.3\\\\\n",
       "\t 7.2\\\\\n",
       "\t 7.2\\\\\n",
       "\t 7.2\\\\\n",
       "\t 7.1\\\\\n",
       "\\end{tabular}\n"
      ],
      "text/markdown": [
       "\n",
       "Sepal.Length | \n",
       "|---|---|---|---|---|---|---|---|---|---|---|---|\n",
       "| 7.9 | \n",
       "| 7.7 | \n",
       "| 7.7 | \n",
       "| 7.7 | \n",
       "| 7.7 | \n",
       "| 7.6 | \n",
       "| 7.4 | \n",
       "| 7.3 | \n",
       "| 7.2 | \n",
       "| 7.2 | \n",
       "| 7.2 | \n",
       "| 7.1 | \n",
       "\n",
       "\n"
      ],
      "text/plain": [
       "   Sepal.Length\n",
       "1  7.9         \n",
       "2  7.7         \n",
       "3  7.7         \n",
       "4  7.7         \n",
       "5  7.7         \n",
       "6  7.6         \n",
       "7  7.4         \n",
       "8  7.3         \n",
       "9  7.2         \n",
       "10 7.2         \n",
       "11 7.2         \n",
       "12 7.1         "
      ]
     },
     "metadata": {},
     "output_type": "display_data"
    }
   ],
   "source": [
    "iris %>%\n",
    "    select(Sepal.Length) %>%\n",
    "    filter(Sepal.Length > 7.0) %>%\n",
    "    arrange(desc(Sepal.Length))"
   ]
  },
  {
   "cell_type": "code",
   "execution_count": 23,
   "metadata": {
    "collapsed": false
   },
   "outputs": [
    {
     "data": {
      "text/html": [
       "<table>\n",
       "<thead><tr><th scope=col>Sepal.Length</th><th scope=col>Sepal.Width</th><th scope=col>Petal.Length</th><th scope=col>Petal.Width</th><th scope=col>Species</th></tr></thead>\n",
       "<tbody>\n",
       "\t<tr><td>5.1   </td><td>3.5   </td><td>1.4   </td><td>0.2   </td><td>setosa</td></tr>\n",
       "\t<tr><td>4.9   </td><td>3.0   </td><td>1.4   </td><td>0.2   </td><td>setosa</td></tr>\n",
       "\t<tr><td>4.7   </td><td>3.2   </td><td>1.3   </td><td>0.2   </td><td>setosa</td></tr>\n",
       "\t<tr><td>4.6   </td><td>3.1   </td><td>1.5   </td><td>0.2   </td><td>setosa</td></tr>\n",
       "\t<tr><td>5.0   </td><td>3.6   </td><td>1.4   </td><td>0.2   </td><td>setosa</td></tr>\n",
       "\t<tr><td>5.4   </td><td>3.9   </td><td>1.7   </td><td>0.4   </td><td>setosa</td></tr>\n",
       "</tbody>\n",
       "</table>\n"
      ],
      "text/latex": [
       "\\begin{tabular}{r|lllll}\n",
       " Sepal.Length & Sepal.Width & Petal.Length & Petal.Width & Species\\\\\n",
       "\\hline\n",
       "\t 5.1    & 3.5    & 1.4    & 0.2    & setosa\\\\\n",
       "\t 4.9    & 3.0    & 1.4    & 0.2    & setosa\\\\\n",
       "\t 4.7    & 3.2    & 1.3    & 0.2    & setosa\\\\\n",
       "\t 4.6    & 3.1    & 1.5    & 0.2    & setosa\\\\\n",
       "\t 5.0    & 3.6    & 1.4    & 0.2    & setosa\\\\\n",
       "\t 5.4    & 3.9    & 1.7    & 0.4    & setosa\\\\\n",
       "\\end{tabular}\n"
      ],
      "text/markdown": [
       "\n",
       "Sepal.Length | Sepal.Width | Petal.Length | Petal.Width | Species | \n",
       "|---|---|---|---|---|---|\n",
       "| 5.1    | 3.5    | 1.4    | 0.2    | setosa | \n",
       "| 4.9    | 3.0    | 1.4    | 0.2    | setosa | \n",
       "| 4.7    | 3.2    | 1.3    | 0.2    | setosa | \n",
       "| 4.6    | 3.1    | 1.5    | 0.2    | setosa | \n",
       "| 5.0    | 3.6    | 1.4    | 0.2    | setosa | \n",
       "| 5.4    | 3.9    | 1.7    | 0.4    | setosa | \n",
       "\n",
       "\n"
      ],
      "text/plain": [
       "  Sepal.Length Sepal.Width Petal.Length Petal.Width Species\n",
       "1 5.1          3.5         1.4          0.2         setosa \n",
       "2 4.9          3.0         1.4          0.2         setosa \n",
       "3 4.7          3.2         1.3          0.2         setosa \n",
       "4 4.6          3.1         1.5          0.2         setosa \n",
       "5 5.0          3.6         1.4          0.2         setosa \n",
       "6 5.4          3.9         1.7          0.4         setosa "
      ]
     },
     "metadata": {},
     "output_type": "display_data"
    }
   ],
   "source": [
    "head(iris)"
   ]
  },
  {
   "cell_type": "code",
   "execution_count": 24,
   "metadata": {
    "collapsed": false
   },
   "outputs": [
    {
     "data": {
      "text/html": [
       "<table>\n",
       "<thead><tr><th scope=col>Petal.Length</th><th scope=col>Petal.Width</th><th scope=col>Species</th></tr></thead>\n",
       "<tbody>\n",
       "\t<tr><td>1.0   </td><td>0.2   </td><td>setosa</td></tr>\n",
       "\t<tr><td>1.1   </td><td>0.1   </td><td>setosa</td></tr>\n",
       "\t<tr><td>1.2   </td><td>0.2   </td><td>setosa</td></tr>\n",
       "\t<tr><td>1.2   </td><td>0.2   </td><td>setosa</td></tr>\n",
       "\t<tr><td>1.3   </td><td>0.2   </td><td>setosa</td></tr>\n",
       "\t<tr><td>1.3   </td><td>0.2   </td><td>setosa</td></tr>\n",
       "\t<tr><td>1.3   </td><td>0.2   </td><td>setosa</td></tr>\n",
       "\t<tr><td>1.3   </td><td>0.2   </td><td>setosa</td></tr>\n",
       "\t<tr><td>1.3   </td><td>0.3   </td><td>setosa</td></tr>\n",
       "\t<tr><td>1.3   </td><td>0.3   </td><td>setosa</td></tr>\n",
       "\t<tr><td>1.3   </td><td>0.4   </td><td>setosa</td></tr>\n",
       "\t<tr><td>1.4   </td><td>0.1   </td><td>setosa</td></tr>\n",
       "\t<tr><td>1.4   </td><td>0.1   </td><td>setosa</td></tr>\n",
       "\t<tr><td>1.4   </td><td>0.2   </td><td>setosa</td></tr>\n",
       "\t<tr><td>1.4   </td><td>0.2   </td><td>setosa</td></tr>\n",
       "\t<tr><td>1.4   </td><td>0.2   </td><td>setosa</td></tr>\n",
       "\t<tr><td>1.4   </td><td>0.2   </td><td>setosa</td></tr>\n",
       "\t<tr><td>1.4   </td><td>0.2   </td><td>setosa</td></tr>\n",
       "\t<tr><td>1.4   </td><td>0.2   </td><td>setosa</td></tr>\n",
       "\t<tr><td>1.4   </td><td>0.2   </td><td>setosa</td></tr>\n",
       "\t<tr><td>1.4   </td><td>0.2   </td><td>setosa</td></tr>\n",
       "\t<tr><td>1.4   </td><td>0.3   </td><td>setosa</td></tr>\n",
       "\t<tr><td>1.4   </td><td>0.3   </td><td>setosa</td></tr>\n",
       "\t<tr><td>1.4   </td><td>0.3   </td><td>setosa</td></tr>\n",
       "\t<tr><td>1.5   </td><td>0.1   </td><td>setosa</td></tr>\n",
       "\t<tr><td>1.5   </td><td>0.1   </td><td>setosa</td></tr>\n",
       "\t<tr><td>1.5   </td><td>0.2   </td><td>setosa</td></tr>\n",
       "\t<tr><td>1.5   </td><td>0.2   </td><td>setosa</td></tr>\n",
       "\t<tr><td>1.5   </td><td>0.2   </td><td>setosa</td></tr>\n",
       "\t<tr><td>1.5   </td><td>0.2   </td><td>setosa</td></tr>\n",
       "\t<tr><td>⋮</td><td>⋮</td><td>⋮</td></tr>\n",
       "\t<tr><td>5.4      </td><td>2.1      </td><td>virginica</td></tr>\n",
       "\t<tr><td>5.4      </td><td>2.3      </td><td>virginica</td></tr>\n",
       "\t<tr><td>5.5      </td><td>1.8      </td><td>virginica</td></tr>\n",
       "\t<tr><td>5.5      </td><td>1.8      </td><td>virginica</td></tr>\n",
       "\t<tr><td>5.5      </td><td>2.1      </td><td>virginica</td></tr>\n",
       "\t<tr><td>5.6      </td><td>1.4      </td><td>virginica</td></tr>\n",
       "\t<tr><td>5.6      </td><td>1.8      </td><td>virginica</td></tr>\n",
       "\t<tr><td>5.6      </td><td>2.1      </td><td>virginica</td></tr>\n",
       "\t<tr><td>5.6      </td><td>2.2      </td><td>virginica</td></tr>\n",
       "\t<tr><td>5.6      </td><td>2.4      </td><td>virginica</td></tr>\n",
       "\t<tr><td>5.6      </td><td>2.4      </td><td>virginica</td></tr>\n",
       "\t<tr><td>5.7      </td><td>2.1      </td><td>virginica</td></tr>\n",
       "\t<tr><td>5.7      </td><td>2.3      </td><td>virginica</td></tr>\n",
       "\t<tr><td>5.7      </td><td>2.5      </td><td>virginica</td></tr>\n",
       "\t<tr><td>5.8      </td><td>1.6      </td><td>virginica</td></tr>\n",
       "\t<tr><td>5.8      </td><td>1.8      </td><td>virginica</td></tr>\n",
       "\t<tr><td>5.8      </td><td>2.2      </td><td>virginica</td></tr>\n",
       "\t<tr><td>5.9      </td><td>2.1      </td><td>virginica</td></tr>\n",
       "\t<tr><td>5.9      </td><td>2.3      </td><td>virginica</td></tr>\n",
       "\t<tr><td>6.0      </td><td>1.8      </td><td>virginica</td></tr>\n",
       "\t<tr><td>6.0      </td><td>2.5      </td><td>virginica</td></tr>\n",
       "\t<tr><td>6.1      </td><td>1.9      </td><td>virginica</td></tr>\n",
       "\t<tr><td>6.1      </td><td>2.3      </td><td>virginica</td></tr>\n",
       "\t<tr><td>6.1      </td><td>2.5      </td><td>virginica</td></tr>\n",
       "\t<tr><td>6.3      </td><td>1.8      </td><td>virginica</td></tr>\n",
       "\t<tr><td>6.4      </td><td>2.0      </td><td>virginica</td></tr>\n",
       "\t<tr><td>6.6      </td><td>2.1      </td><td>virginica</td></tr>\n",
       "\t<tr><td>6.7      </td><td>2.0      </td><td>virginica</td></tr>\n",
       "\t<tr><td>6.7      </td><td>2.2      </td><td>virginica</td></tr>\n",
       "\t<tr><td>6.9      </td><td>2.3      </td><td>virginica</td></tr>\n",
       "</tbody>\n",
       "</table>\n"
      ],
      "text/latex": [
       "\\begin{tabular}{r|lll}\n",
       " Petal.Length & Petal.Width & Species\\\\\n",
       "\\hline\n",
       "\t 1.0    & 0.2    & setosa\\\\\n",
       "\t 1.1    & 0.1    & setosa\\\\\n",
       "\t 1.2    & 0.2    & setosa\\\\\n",
       "\t 1.2    & 0.2    & setosa\\\\\n",
       "\t 1.3    & 0.2    & setosa\\\\\n",
       "\t 1.3    & 0.2    & setosa\\\\\n",
       "\t 1.3    & 0.2    & setosa\\\\\n",
       "\t 1.3    & 0.2    & setosa\\\\\n",
       "\t 1.3    & 0.3    & setosa\\\\\n",
       "\t 1.3    & 0.3    & setosa\\\\\n",
       "\t 1.3    & 0.4    & setosa\\\\\n",
       "\t 1.4    & 0.1    & setosa\\\\\n",
       "\t 1.4    & 0.1    & setosa\\\\\n",
       "\t 1.4    & 0.2    & setosa\\\\\n",
       "\t 1.4    & 0.2    & setosa\\\\\n",
       "\t 1.4    & 0.2    & setosa\\\\\n",
       "\t 1.4    & 0.2    & setosa\\\\\n",
       "\t 1.4    & 0.2    & setosa\\\\\n",
       "\t 1.4    & 0.2    & setosa\\\\\n",
       "\t 1.4    & 0.2    & setosa\\\\\n",
       "\t 1.4    & 0.2    & setosa\\\\\n",
       "\t 1.4    & 0.3    & setosa\\\\\n",
       "\t 1.4    & 0.3    & setosa\\\\\n",
       "\t 1.4    & 0.3    & setosa\\\\\n",
       "\t 1.5    & 0.1    & setosa\\\\\n",
       "\t 1.5    & 0.1    & setosa\\\\\n",
       "\t 1.5    & 0.2    & setosa\\\\\n",
       "\t 1.5    & 0.2    & setosa\\\\\n",
       "\t 1.5    & 0.2    & setosa\\\\\n",
       "\t 1.5    & 0.2    & setosa\\\\\n",
       "\t ⋮ & ⋮ & ⋮\\\\\n",
       "\t 5.4       & 2.1       & virginica\\\\\n",
       "\t 5.4       & 2.3       & virginica\\\\\n",
       "\t 5.5       & 1.8       & virginica\\\\\n",
       "\t 5.5       & 1.8       & virginica\\\\\n",
       "\t 5.5       & 2.1       & virginica\\\\\n",
       "\t 5.6       & 1.4       & virginica\\\\\n",
       "\t 5.6       & 1.8       & virginica\\\\\n",
       "\t 5.6       & 2.1       & virginica\\\\\n",
       "\t 5.6       & 2.2       & virginica\\\\\n",
       "\t 5.6       & 2.4       & virginica\\\\\n",
       "\t 5.6       & 2.4       & virginica\\\\\n",
       "\t 5.7       & 2.1       & virginica\\\\\n",
       "\t 5.7       & 2.3       & virginica\\\\\n",
       "\t 5.7       & 2.5       & virginica\\\\\n",
       "\t 5.8       & 1.6       & virginica\\\\\n",
       "\t 5.8       & 1.8       & virginica\\\\\n",
       "\t 5.8       & 2.2       & virginica\\\\\n",
       "\t 5.9       & 2.1       & virginica\\\\\n",
       "\t 5.9       & 2.3       & virginica\\\\\n",
       "\t 6.0       & 1.8       & virginica\\\\\n",
       "\t 6.0       & 2.5       & virginica\\\\\n",
       "\t 6.1       & 1.9       & virginica\\\\\n",
       "\t 6.1       & 2.3       & virginica\\\\\n",
       "\t 6.1       & 2.5       & virginica\\\\\n",
       "\t 6.3       & 1.8       & virginica\\\\\n",
       "\t 6.4       & 2.0       & virginica\\\\\n",
       "\t 6.6       & 2.1       & virginica\\\\\n",
       "\t 6.7       & 2.0       & virginica\\\\\n",
       "\t 6.7       & 2.2       & virginica\\\\\n",
       "\t 6.9       & 2.3       & virginica\\\\\n",
       "\\end{tabular}\n"
      ],
      "text/markdown": [
       "\n",
       "Petal.Length | Petal.Width | Species | \n",
       "|---|---|---|---|---|---|---|---|---|---|---|---|---|---|---|---|---|---|---|---|---|---|---|---|---|---|---|---|---|---|---|---|---|---|---|---|---|---|---|---|---|---|---|---|---|---|---|---|---|---|---|---|---|---|---|---|---|---|---|---|---|\n",
       "| 1.0    | 0.2    | setosa | \n",
       "| 1.1    | 0.1    | setosa | \n",
       "| 1.2    | 0.2    | setosa | \n",
       "| 1.2    | 0.2    | setosa | \n",
       "| 1.3    | 0.2    | setosa | \n",
       "| 1.3    | 0.2    | setosa | \n",
       "| 1.3    | 0.2    | setosa | \n",
       "| 1.3    | 0.2    | setosa | \n",
       "| 1.3    | 0.3    | setosa | \n",
       "| 1.3    | 0.3    | setosa | \n",
       "| 1.3    | 0.4    | setosa | \n",
       "| 1.4    | 0.1    | setosa | \n",
       "| 1.4    | 0.1    | setosa | \n",
       "| 1.4    | 0.2    | setosa | \n",
       "| 1.4    | 0.2    | setosa | \n",
       "| 1.4    | 0.2    | setosa | \n",
       "| 1.4    | 0.2    | setosa | \n",
       "| 1.4    | 0.2    | setosa | \n",
       "| 1.4    | 0.2    | setosa | \n",
       "| 1.4    | 0.2    | setosa | \n",
       "| 1.4    | 0.2    | setosa | \n",
       "| 1.4    | 0.3    | setosa | \n",
       "| 1.4    | 0.3    | setosa | \n",
       "| 1.4    | 0.3    | setosa | \n",
       "| 1.5    | 0.1    | setosa | \n",
       "| 1.5    | 0.1    | setosa | \n",
       "| 1.5    | 0.2    | setosa | \n",
       "| 1.5    | 0.2    | setosa | \n",
       "| 1.5    | 0.2    | setosa | \n",
       "| 1.5    | 0.2    | setosa | \n",
       "| ⋮ | ⋮ | ⋮ | \n",
       "| 5.4       | 2.1       | virginica | \n",
       "| 5.4       | 2.3       | virginica | \n",
       "| 5.5       | 1.8       | virginica | \n",
       "| 5.5       | 1.8       | virginica | \n",
       "| 5.5       | 2.1       | virginica | \n",
       "| 5.6       | 1.4       | virginica | \n",
       "| 5.6       | 1.8       | virginica | \n",
       "| 5.6       | 2.1       | virginica | \n",
       "| 5.6       | 2.2       | virginica | \n",
       "| 5.6       | 2.4       | virginica | \n",
       "| 5.6       | 2.4       | virginica | \n",
       "| 5.7       | 2.1       | virginica | \n",
       "| 5.7       | 2.3       | virginica | \n",
       "| 5.7       | 2.5       | virginica | \n",
       "| 5.8       | 1.6       | virginica | \n",
       "| 5.8       | 1.8       | virginica | \n",
       "| 5.8       | 2.2       | virginica | \n",
       "| 5.9       | 2.1       | virginica | \n",
       "| 5.9       | 2.3       | virginica | \n",
       "| 6.0       | 1.8       | virginica | \n",
       "| 6.0       | 2.5       | virginica | \n",
       "| 6.1       | 1.9       | virginica | \n",
       "| 6.1       | 2.3       | virginica | \n",
       "| 6.1       | 2.5       | virginica | \n",
       "| 6.3       | 1.8       | virginica | \n",
       "| 6.4       | 2.0       | virginica | \n",
       "| 6.6       | 2.1       | virginica | \n",
       "| 6.7       | 2.0       | virginica | \n",
       "| 6.7       | 2.2       | virginica | \n",
       "| 6.9       | 2.3       | virginica | \n",
       "\n",
       "\n"
      ],
      "text/plain": [
       "    Petal.Length Petal.Width Species  \n",
       "1   1.0          0.2         setosa   \n",
       "2   1.1          0.1         setosa   \n",
       "3   1.2          0.2         setosa   \n",
       "4   1.2          0.2         setosa   \n",
       "5   1.3          0.2         setosa   \n",
       "6   1.3          0.2         setosa   \n",
       "7   1.3          0.2         setosa   \n",
       "8   1.3          0.2         setosa   \n",
       "9   1.3          0.3         setosa   \n",
       "10  1.3          0.3         setosa   \n",
       "11  1.3          0.4         setosa   \n",
       "12  1.4          0.1         setosa   \n",
       "13  1.4          0.1         setosa   \n",
       "14  1.4          0.2         setosa   \n",
       "15  1.4          0.2         setosa   \n",
       "16  1.4          0.2         setosa   \n",
       "17  1.4          0.2         setosa   \n",
       "18  1.4          0.2         setosa   \n",
       "19  1.4          0.2         setosa   \n",
       "20  1.4          0.2         setosa   \n",
       "21  1.4          0.2         setosa   \n",
       "22  1.4          0.3         setosa   \n",
       "23  1.4          0.3         setosa   \n",
       "24  1.4          0.3         setosa   \n",
       "25  1.5          0.1         setosa   \n",
       "26  1.5          0.1         setosa   \n",
       "27  1.5          0.2         setosa   \n",
       "28  1.5          0.2         setosa   \n",
       "29  1.5          0.2         setosa   \n",
       "30  1.5          0.2         setosa   \n",
       "⋮   ⋮            ⋮           ⋮        \n",
       "121 5.4          2.1         virginica\n",
       "122 5.4          2.3         virginica\n",
       "123 5.5          1.8         virginica\n",
       "124 5.5          1.8         virginica\n",
       "125 5.5          2.1         virginica\n",
       "126 5.6          1.4         virginica\n",
       "127 5.6          1.8         virginica\n",
       "128 5.6          2.1         virginica\n",
       "129 5.6          2.2         virginica\n",
       "130 5.6          2.4         virginica\n",
       "131 5.6          2.4         virginica\n",
       "132 5.7          2.1         virginica\n",
       "133 5.7          2.3         virginica\n",
       "134 5.7          2.5         virginica\n",
       "135 5.8          1.6         virginica\n",
       "136 5.8          1.8         virginica\n",
       "137 5.8          2.2         virginica\n",
       "138 5.9          2.1         virginica\n",
       "139 5.9          2.3         virginica\n",
       "140 6.0          1.8         virginica\n",
       "141 6.0          2.5         virginica\n",
       "142 6.1          1.9         virginica\n",
       "143 6.1          2.3         virginica\n",
       "144 6.1          2.5         virginica\n",
       "145 6.3          1.8         virginica\n",
       "146 6.4          2.0         virginica\n",
       "147 6.6          2.1         virginica\n",
       "148 6.7          2.0         virginica\n",
       "149 6.7          2.2         virginica\n",
       "150 6.9          2.3         virginica"
      ]
     },
     "metadata": {},
     "output_type": "display_data"
    }
   ],
   "source": [
    "# arranging by x *then* y\n",
    "\n",
    "iris %>%\n",
    "    select(Petal.Length:Species) %>%\n",
    "    arrange(Petal.Length, Petal.Width)"
   ]
  },
  {
   "cell_type": "markdown",
   "metadata": {},
   "source": [
    "<center><h1> `mutate` - create new columns </h1></center>\n",
    "\n",
    "<img src=\"img/mutate.png\", width = 500>\n",
    "<img src=\"img/window_function.png\", width = 500>"
   ]
  },
  {
   "cell_type": "code",
   "execution_count": 25,
   "metadata": {
    "collapsed": false
   },
   "outputs": [
    {
     "data": {
      "text/html": [
       "<table>\n",
       "<thead><tr><th scope=col>Sepal.Length</th><th scope=col>Sepal.Width</th><th scope=col>Petal.Length</th><th scope=col>Petal.Width</th><th scope=col>Species</th><th scope=col>Sepal.Area</th><th scope=col>Petal.Area</th></tr></thead>\n",
       "<tbody>\n",
       "\t<tr><td>5.1   </td><td>3.5   </td><td>1.4   </td><td>0.2   </td><td>setosa</td><td>17.85 </td><td>0.28  </td></tr>\n",
       "\t<tr><td>4.9   </td><td>3.0   </td><td>1.4   </td><td>0.2   </td><td>setosa</td><td>14.70 </td><td>0.28  </td></tr>\n",
       "\t<tr><td>4.7   </td><td>3.2   </td><td>1.3   </td><td>0.2   </td><td>setosa</td><td>15.04 </td><td>0.26  </td></tr>\n",
       "\t<tr><td>4.6   </td><td>3.1   </td><td>1.5   </td><td>0.2   </td><td>setosa</td><td>14.26 </td><td>0.30  </td></tr>\n",
       "\t<tr><td>5.0   </td><td>3.6   </td><td>1.4   </td><td>0.2   </td><td>setosa</td><td>18.00 </td><td>0.28  </td></tr>\n",
       "\t<tr><td>5.4   </td><td>3.9   </td><td>1.7   </td><td>0.4   </td><td>setosa</td><td>21.06 </td><td>0.68  </td></tr>\n",
       "</tbody>\n",
       "</table>\n"
      ],
      "text/latex": [
       "\\begin{tabular}{r|lllllll}\n",
       " Sepal.Length & Sepal.Width & Petal.Length & Petal.Width & Species & Sepal.Area & Petal.Area\\\\\n",
       "\\hline\n",
       "\t 5.1    & 3.5    & 1.4    & 0.2    & setosa & 17.85  & 0.28  \\\\\n",
       "\t 4.9    & 3.0    & 1.4    & 0.2    & setosa & 14.70  & 0.28  \\\\\n",
       "\t 4.7    & 3.2    & 1.3    & 0.2    & setosa & 15.04  & 0.26  \\\\\n",
       "\t 4.6    & 3.1    & 1.5    & 0.2    & setosa & 14.26  & 0.30  \\\\\n",
       "\t 5.0    & 3.6    & 1.4    & 0.2    & setosa & 18.00  & 0.28  \\\\\n",
       "\t 5.4    & 3.9    & 1.7    & 0.4    & setosa & 21.06  & 0.68  \\\\\n",
       "\\end{tabular}\n"
      ],
      "text/markdown": [
       "\n",
       "Sepal.Length | Sepal.Width | Petal.Length | Petal.Width | Species | Sepal.Area | Petal.Area | \n",
       "|---|---|---|---|---|---|\n",
       "| 5.1    | 3.5    | 1.4    | 0.2    | setosa | 17.85  | 0.28   | \n",
       "| 4.9    | 3.0    | 1.4    | 0.2    | setosa | 14.70  | 0.28   | \n",
       "| 4.7    | 3.2    | 1.3    | 0.2    | setosa | 15.04  | 0.26   | \n",
       "| 4.6    | 3.1    | 1.5    | 0.2    | setosa | 14.26  | 0.30   | \n",
       "| 5.0    | 3.6    | 1.4    | 0.2    | setosa | 18.00  | 0.28   | \n",
       "| 5.4    | 3.9    | 1.7    | 0.4    | setosa | 21.06  | 0.68   | \n",
       "\n",
       "\n"
      ],
      "text/plain": [
       "  Sepal.Length Sepal.Width Petal.Length Petal.Width Species Sepal.Area\n",
       "1 5.1          3.5         1.4          0.2         setosa  17.85     \n",
       "2 4.9          3.0         1.4          0.2         setosa  14.70     \n",
       "3 4.7          3.2         1.3          0.2         setosa  15.04     \n",
       "4 4.6          3.1         1.5          0.2         setosa  14.26     \n",
       "5 5.0          3.6         1.4          0.2         setosa  18.00     \n",
       "6 5.4          3.9         1.7          0.4         setosa  21.06     \n",
       "  Petal.Area\n",
       "1 0.28      \n",
       "2 0.28      \n",
       "3 0.26      \n",
       "4 0.30      \n",
       "5 0.28      \n",
       "6 0.68      "
      ]
     },
     "metadata": {},
     "output_type": "display_data"
    }
   ],
   "source": [
    "iris %>%\n",
    "    mutate(Sepal.Area = Sepal.Width * Sepal.Length,\n",
    "          Petal.Area = Petal.Width * Petal.Length) %>%\n",
    "    head()"
   ]
  },
  {
   "cell_type": "code",
   "execution_count": 26,
   "metadata": {
    "collapsed": false
   },
   "outputs": [
    {
     "data": {
      "text/html": [
       "<table>\n",
       "<thead><tr><th scope=col>Length.Diff</th></tr></thead>\n",
       "<tbody>\n",
       "\t<tr><td>3.7</td></tr>\n",
       "\t<tr><td>3.5</td></tr>\n",
       "\t<tr><td>3.4</td></tr>\n",
       "\t<tr><td>3.1</td></tr>\n",
       "\t<tr><td>3.6</td></tr>\n",
       "\t<tr><td>3.7</td></tr>\n",
       "</tbody>\n",
       "</table>\n"
      ],
      "text/latex": [
       "\\begin{tabular}{r|l}\n",
       " Length.Diff\\\\\n",
       "\\hline\n",
       "\t 3.7\\\\\n",
       "\t 3.5\\\\\n",
       "\t 3.4\\\\\n",
       "\t 3.1\\\\\n",
       "\t 3.6\\\\\n",
       "\t 3.7\\\\\n",
       "\\end{tabular}\n"
      ],
      "text/markdown": [
       "\n",
       "Length.Diff | \n",
       "|---|---|---|---|---|---|\n",
       "| 3.7 | \n",
       "| 3.5 | \n",
       "| 3.4 | \n",
       "| 3.1 | \n",
       "| 3.6 | \n",
       "| 3.7 | \n",
       "\n",
       "\n"
      ],
      "text/plain": [
       "  Length.Diff\n",
       "1 3.7        \n",
       "2 3.5        \n",
       "3 3.4        \n",
       "4 3.1        \n",
       "5 3.6        \n",
       "6 3.7        "
      ]
     },
     "metadata": {},
     "output_type": "display_data"
    }
   ],
   "source": [
    "iris %>%\n",
    "    filter(Species == 'setosa') %>%\n",
    "    mutate(Length.Diff = Sepal.Length - Petal.Length) %>%\n",
    "    select(Length.Diff) %>%\n",
    "    head()"
   ]
  },
  {
   "cell_type": "markdown",
   "metadata": {},
   "source": [
    "<center><h1> `group_by` and `mutate` - create new variables in a grouped fashion</h1></center>\n",
    "\n",
    "<img src=\"img/group_by_mutate.png\", width = 450>"
   ]
  },
  {
   "cell_type": "code",
   "execution_count": 27,
   "metadata": {
    "collapsed": false
   },
   "outputs": [
    {
     "data": {
      "text/html": [
       "<table>\n",
       "<thead><tr><th scope=col>Sepal.Length</th><th scope=col>Sepal.Width</th><th scope=col>Petal.Length</th><th scope=col>Petal.Width</th><th scope=col>Species</th><th scope=col>Sepal.Length.Deviation</th></tr></thead>\n",
       "<tbody>\n",
       "\t<tr><td>5.1   </td><td>3.5   </td><td>1.4   </td><td>0.2   </td><td>setosa</td><td>-0.094</td></tr>\n",
       "\t<tr><td>4.9   </td><td>3.0   </td><td>1.4   </td><td>0.2   </td><td>setosa</td><td> 0.106</td></tr>\n",
       "\t<tr><td>4.7   </td><td>3.2   </td><td>1.3   </td><td>0.2   </td><td>setosa</td><td> 0.306</td></tr>\n",
       "\t<tr><td>4.6   </td><td>3.1   </td><td>1.5   </td><td>0.2   </td><td>setosa</td><td> 0.406</td></tr>\n",
       "\t<tr><td>5.0   </td><td>3.6   </td><td>1.4   </td><td>0.2   </td><td>setosa</td><td> 0.006</td></tr>\n",
       "\t<tr><td>5.4   </td><td>3.9   </td><td>1.7   </td><td>0.4   </td><td>setosa</td><td>-0.394</td></tr>\n",
       "</tbody>\n",
       "</table>\n"
      ],
      "text/latex": [
       "\\begin{tabular}{r|llllll}\n",
       " Sepal.Length & Sepal.Width & Petal.Length & Petal.Width & Species & Sepal.Length.Deviation\\\\\n",
       "\\hline\n",
       "\t 5.1    & 3.5    & 1.4    & 0.2    & setosa & -0.094\\\\\n",
       "\t 4.9    & 3.0    & 1.4    & 0.2    & setosa &  0.106\\\\\n",
       "\t 4.7    & 3.2    & 1.3    & 0.2    & setosa &  0.306\\\\\n",
       "\t 4.6    & 3.1    & 1.5    & 0.2    & setosa &  0.406\\\\\n",
       "\t 5.0    & 3.6    & 1.4    & 0.2    & setosa &  0.006\\\\\n",
       "\t 5.4    & 3.9    & 1.7    & 0.4    & setosa & -0.394\\\\\n",
       "\\end{tabular}\n"
      ],
      "text/markdown": [
       "\n",
       "Sepal.Length | Sepal.Width | Petal.Length | Petal.Width | Species | Sepal.Length.Deviation | \n",
       "|---|---|---|---|---|---|\n",
       "| 5.1    | 3.5    | 1.4    | 0.2    | setosa | -0.094 | \n",
       "| 4.9    | 3.0    | 1.4    | 0.2    | setosa |  0.106 | \n",
       "| 4.7    | 3.2    | 1.3    | 0.2    | setosa |  0.306 | \n",
       "| 4.6    | 3.1    | 1.5    | 0.2    | setosa |  0.406 | \n",
       "| 5.0    | 3.6    | 1.4    | 0.2    | setosa |  0.006 | \n",
       "| 5.4    | 3.9    | 1.7    | 0.4    | setosa | -0.394 | \n",
       "\n",
       "\n"
      ],
      "text/plain": [
       "  Sepal.Length Sepal.Width Petal.Length Petal.Width Species\n",
       "1 5.1          3.5         1.4          0.2         setosa \n",
       "2 4.9          3.0         1.4          0.2         setosa \n",
       "3 4.7          3.2         1.3          0.2         setosa \n",
       "4 4.6          3.1         1.5          0.2         setosa \n",
       "5 5.0          3.6         1.4          0.2         setosa \n",
       "6 5.4          3.9         1.7          0.4         setosa \n",
       "  Sepal.Length.Deviation\n",
       "1 -0.094                \n",
       "2  0.106                \n",
       "3  0.306                \n",
       "4  0.406                \n",
       "5  0.006                \n",
       "6 -0.394                "
      ]
     },
     "metadata": {},
     "output_type": "display_data"
    }
   ],
   "source": [
    "iris %>%\n",
    "    group_by(Species) %>%\n",
    "    mutate(Sepal.Length.Deviation = mean(Sepal.Length) - Sepal.Length) %>%\n",
    "    head()"
   ]
  },
  {
   "cell_type": "code",
   "execution_count": 39,
   "metadata": {
    "collapsed": false
   },
   "outputs": [
    {
     "data": {
      "text/html": [
       "<table>\n",
       "<thead><tr><th scope=col>Sepal.Length</th><th scope=col>Sepal.Width</th><th scope=col>Petal.Length</th><th scope=col>Petal.Width</th><th scope=col>Species</th><th scope=col>Sepal.Area</th><th scope=col>Petal.Area</th><th scope=col>Grouped.Area.Ratio</th></tr></thead>\n",
       "<tbody>\n",
       "\t<tr><td>5.1      </td><td>3.5      </td><td>1.4      </td><td>0.2      </td><td>setosa   </td><td>17.85    </td><td>0.28     </td><td>1.0343149</td></tr>\n",
       "\t<tr><td>4.9      </td><td>3.0      </td><td>1.4      </td><td>0.2      </td><td>setosa   </td><td>14.70    </td><td>0.28     </td><td>0.8517888</td></tr>\n",
       "\t<tr><td>4.7      </td><td>3.2      </td><td>1.3      </td><td>0.2      </td><td>setosa   </td><td>15.04    </td><td>0.26     </td><td>0.8714900</td></tr>\n",
       "\t<tr><td>4.6      </td><td>3.1      </td><td>1.5      </td><td>0.2      </td><td>setosa   </td><td>14.26    </td><td>0.30     </td><td>0.8262930</td></tr>\n",
       "\t<tr><td>5.0      </td><td>3.6      </td><td>1.4      </td><td>0.2      </td><td>setosa   </td><td>18.00    </td><td>0.28     </td><td>1.0430066</td></tr>\n",
       "\t<tr><td>5.4      </td><td>3.9      </td><td>1.7      </td><td>0.4      </td><td>setosa   </td><td>21.06    </td><td>0.68     </td><td>1.2203178</td></tr>\n",
       "</tbody>\n",
       "</table>\n"
      ],
      "text/latex": [
       "\\begin{tabular}{r|llllllll}\n",
       " Sepal.Length & Sepal.Width & Petal.Length & Petal.Width & Species & Sepal.Area & Petal.Area & Grouped.Area.Ratio\\\\\n",
       "\\hline\n",
       "\t 5.1       & 3.5       & 1.4       & 0.2       & setosa    & 17.85     & 0.28      & 1.0343149\\\\\n",
       "\t 4.9       & 3.0       & 1.4       & 0.2       & setosa    & 14.70     & 0.28      & 0.8517888\\\\\n",
       "\t 4.7       & 3.2       & 1.3       & 0.2       & setosa    & 15.04     & 0.26      & 0.8714900\\\\\n",
       "\t 4.6       & 3.1       & 1.5       & 0.2       & setosa    & 14.26     & 0.30      & 0.8262930\\\\\n",
       "\t 5.0       & 3.6       & 1.4       & 0.2       & setosa    & 18.00     & 0.28      & 1.0430066\\\\\n",
       "\t 5.4       & 3.9       & 1.7       & 0.4       & setosa    & 21.06     & 0.68      & 1.2203178\\\\\n",
       "\\end{tabular}\n"
      ],
      "text/markdown": [
       "\n",
       "Sepal.Length | Sepal.Width | Petal.Length | Petal.Width | Species | Sepal.Area | Petal.Area | Grouped.Area.Ratio | \n",
       "|---|---|---|---|---|---|\n",
       "| 5.1       | 3.5       | 1.4       | 0.2       | setosa    | 17.85     | 0.28      | 1.0343149 | \n",
       "| 4.9       | 3.0       | 1.4       | 0.2       | setosa    | 14.70     | 0.28      | 0.8517888 | \n",
       "| 4.7       | 3.2       | 1.3       | 0.2       | setosa    | 15.04     | 0.26      | 0.8714900 | \n",
       "| 4.6       | 3.1       | 1.5       | 0.2       | setosa    | 14.26     | 0.30      | 0.8262930 | \n",
       "| 5.0       | 3.6       | 1.4       | 0.2       | setosa    | 18.00     | 0.28      | 1.0430066 | \n",
       "| 5.4       | 3.9       | 1.7       | 0.4       | setosa    | 21.06     | 0.68      | 1.2203178 | \n",
       "\n",
       "\n"
      ],
      "text/plain": [
       "  Sepal.Length Sepal.Width Petal.Length Petal.Width Species Sepal.Area\n",
       "1 5.1          3.5         1.4          0.2         setosa  17.85     \n",
       "2 4.9          3.0         1.4          0.2         setosa  14.70     \n",
       "3 4.7          3.2         1.3          0.2         setosa  15.04     \n",
       "4 4.6          3.1         1.5          0.2         setosa  14.26     \n",
       "5 5.0          3.6         1.4          0.2         setosa  18.00     \n",
       "6 5.4          3.9         1.7          0.4         setosa  21.06     \n",
       "  Petal.Area Grouped.Area.Ratio\n",
       "1 0.28       1.0343149         \n",
       "2 0.28       0.8517888         \n",
       "3 0.26       0.8714900         \n",
       "4 0.30       0.8262930         \n",
       "5 0.28       1.0430066         \n",
       "6 0.68       1.2203178         "
      ]
     },
     "metadata": {},
     "output_type": "display_data"
    }
   ],
   "source": [
    "iris %>%\n",
    "    mutate(Sepal.Area = Sepal.Width * Sepal.Length,\n",
    "           Petal.Area = Petal.Width * Petal.Length) %>%\n",
    "    group_by(Species) %>%\n",
    "    mutate(Grouped.Area.Ratio = Sepal.Area / mean(Sepal.Area)) %>%\n",
    "    head()"
   ]
  },
  {
   "cell_type": "markdown",
   "metadata": {},
   "source": [
    "<center><h1> `summarise` - summarise your data</h1></center>\n",
    "\n",
    "<img src=\"img/summarise.png\", width = 500>\n",
    "<img src=\"img/summary_function.png\", width = 500>\n",
    "\n",
    "<center><h1> `group_by` and `summarise` - summarise your data in a grouped fashion</h1></center>\n",
    "\n",
    "<img src=\"img/group_by_summarise.png\", width = 450>"
   ]
  },
  {
   "cell_type": "code",
   "execution_count": 28,
   "metadata": {
    "collapsed": false
   },
   "outputs": [
    {
     "data": {
      "text/html": [
       "<table>\n",
       "<thead><tr><th scope=col>Species</th><th scope=col>n</th></tr></thead>\n",
       "<tbody>\n",
       "\t<tr><td>setosa    </td><td>50        </td></tr>\n",
       "\t<tr><td>versicolor</td><td>50        </td></tr>\n",
       "\t<tr><td>virginica </td><td>50        </td></tr>\n",
       "</tbody>\n",
       "</table>\n"
      ],
      "text/latex": [
       "\\begin{tabular}{r|ll}\n",
       " Species & n\\\\\n",
       "\\hline\n",
       "\t setosa     & 50        \\\\\n",
       "\t versicolor & 50        \\\\\n",
       "\t virginica  & 50        \\\\\n",
       "\\end{tabular}\n"
      ],
      "text/markdown": [
       "\n",
       "Species | n | \n",
       "|---|---|---|\n",
       "| setosa     | 50         | \n",
       "| versicolor | 50         | \n",
       "| virginica  | 50         | \n",
       "\n",
       "\n"
      ],
      "text/plain": [
       "  Species    n \n",
       "1 setosa     50\n",
       "2 versicolor 50\n",
       "3 virginica  50"
      ]
     },
     "metadata": {},
     "output_type": "display_data"
    }
   ],
   "source": [
    "iris %>%\n",
    "    group_by(Species) %>%\n",
    "    summarise(n = n())"
   ]
  },
  {
   "cell_type": "code",
   "execution_count": 29,
   "metadata": {
    "collapsed": false
   },
   "outputs": [
    {
     "data": {
      "text/html": [
       "<table>\n",
       "<thead><tr><th scope=col>Species</th><th scope=col>n</th></tr></thead>\n",
       "<tbody>\n",
       "\t<tr><td>setosa    </td><td>50        </td></tr>\n",
       "\t<tr><td>versicolor</td><td>50        </td></tr>\n",
       "\t<tr><td>virginica </td><td>50        </td></tr>\n",
       "</tbody>\n",
       "</table>\n"
      ],
      "text/latex": [
       "\\begin{tabular}{r|ll}\n",
       " Species & n\\\\\n",
       "\\hline\n",
       "\t setosa     & 50        \\\\\n",
       "\t versicolor & 50        \\\\\n",
       "\t virginica  & 50        \\\\\n",
       "\\end{tabular}\n"
      ],
      "text/markdown": [
       "\n",
       "Species | n | \n",
       "|---|---|---|\n",
       "| setosa     | 50         | \n",
       "| versicolor | 50         | \n",
       "| virginica  | 50         | \n",
       "\n",
       "\n"
      ],
      "text/plain": [
       "  Species    n \n",
       "1 setosa     50\n",
       "2 versicolor 50\n",
       "3 virginica  50"
      ]
     },
     "metadata": {},
     "output_type": "display_data"
    }
   ],
   "source": [
    "iris %>%\n",
    "    count(Species)"
   ]
  },
  {
   "cell_type": "code",
   "execution_count": 30,
   "metadata": {
    "collapsed": false
   },
   "outputs": [],
   "source": [
    "library(dplyr)"
   ]
  },
  {
   "cell_type": "code",
   "execution_count": 31,
   "metadata": {
    "collapsed": false
   },
   "outputs": [
    {
     "data": {
      "text/html": [
       "<table>\n",
       "<thead><tr><th scope=col>Sepal.Length</th><th scope=col>Sepal.Width</th><th scope=col>Petal.Length</th><th scope=col>Petal.Width</th><th scope=col>Species</th></tr></thead>\n",
       "<tbody>\n",
       "\t<tr><td>5.1   </td><td>3.5   </td><td>1.4   </td><td>0.2   </td><td>setosa</td></tr>\n",
       "\t<tr><td>4.9   </td><td>3.0   </td><td>1.4   </td><td>0.2   </td><td>setosa</td></tr>\n",
       "\t<tr><td>4.7   </td><td>3.2   </td><td>1.3   </td><td>0.2   </td><td>setosa</td></tr>\n",
       "\t<tr><td>4.6   </td><td>3.1   </td><td>1.5   </td><td>0.2   </td><td>setosa</td></tr>\n",
       "\t<tr><td>5.0   </td><td>3.6   </td><td>1.4   </td><td>0.2   </td><td>setosa</td></tr>\n",
       "\t<tr><td>5.4   </td><td>3.9   </td><td>1.7   </td><td>0.4   </td><td>setosa</td></tr>\n",
       "</tbody>\n",
       "</table>\n"
      ],
      "text/latex": [
       "\\begin{tabular}{r|lllll}\n",
       " Sepal.Length & Sepal.Width & Petal.Length & Petal.Width & Species\\\\\n",
       "\\hline\n",
       "\t 5.1    & 3.5    & 1.4    & 0.2    & setosa\\\\\n",
       "\t 4.9    & 3.0    & 1.4    & 0.2    & setosa\\\\\n",
       "\t 4.7    & 3.2    & 1.3    & 0.2    & setosa\\\\\n",
       "\t 4.6    & 3.1    & 1.5    & 0.2    & setosa\\\\\n",
       "\t 5.0    & 3.6    & 1.4    & 0.2    & setosa\\\\\n",
       "\t 5.4    & 3.9    & 1.7    & 0.4    & setosa\\\\\n",
       "\\end{tabular}\n"
      ],
      "text/markdown": [
       "\n",
       "Sepal.Length | Sepal.Width | Petal.Length | Petal.Width | Species | \n",
       "|---|---|---|---|---|---|\n",
       "| 5.1    | 3.5    | 1.4    | 0.2    | setosa | \n",
       "| 4.9    | 3.0    | 1.4    | 0.2    | setosa | \n",
       "| 4.7    | 3.2    | 1.3    | 0.2    | setosa | \n",
       "| 4.6    | 3.1    | 1.5    | 0.2    | setosa | \n",
       "| 5.0    | 3.6    | 1.4    | 0.2    | setosa | \n",
       "| 5.4    | 3.9    | 1.7    | 0.4    | setosa | \n",
       "\n",
       "\n"
      ],
      "text/plain": [
       "  Sepal.Length Sepal.Width Petal.Length Petal.Width Species\n",
       "1 5.1          3.5         1.4          0.2         setosa \n",
       "2 4.9          3.0         1.4          0.2         setosa \n",
       "3 4.7          3.2         1.3          0.2         setosa \n",
       "4 4.6          3.1         1.5          0.2         setosa \n",
       "5 5.0          3.6         1.4          0.2         setosa \n",
       "6 5.4          3.9         1.7          0.4         setosa "
      ]
     },
     "metadata": {},
     "output_type": "display_data"
    }
   ],
   "source": [
    "iris %>%\n",
    "    group_by(Species) %>%\n",
    "    head()"
   ]
  },
  {
   "cell_type": "code",
   "execution_count": 32,
   "metadata": {
    "collapsed": false
   },
   "outputs": [
    {
     "data": {
      "text/html": [
       "<table>\n",
       "<thead><tr><th scope=col>Species</th><th scope=col>Mean.Sepal.Length</th><th scope=col>Mean.Sepal.Width</th></tr></thead>\n",
       "<tbody>\n",
       "\t<tr><td>setosa    </td><td>5.006     </td><td>3.428     </td></tr>\n",
       "\t<tr><td>versicolor</td><td>5.936     </td><td>2.770     </td></tr>\n",
       "\t<tr><td>virginica </td><td>6.588     </td><td>2.974     </td></tr>\n",
       "</tbody>\n",
       "</table>\n"
      ],
      "text/latex": [
       "\\begin{tabular}{r|lll}\n",
       " Species & Mean.Sepal.Length & Mean.Sepal.Width\\\\\n",
       "\\hline\n",
       "\t setosa     & 5.006      & 3.428     \\\\\n",
       "\t versicolor & 5.936      & 2.770     \\\\\n",
       "\t virginica  & 6.588      & 2.974     \\\\\n",
       "\\end{tabular}\n"
      ],
      "text/markdown": [
       "\n",
       "Species | Mean.Sepal.Length | Mean.Sepal.Width | \n",
       "|---|---|---|\n",
       "| setosa     | 5.006      | 3.428      | \n",
       "| versicolor | 5.936      | 2.770      | \n",
       "| virginica  | 6.588      | 2.974      | \n",
       "\n",
       "\n"
      ],
      "text/plain": [
       "  Species    Mean.Sepal.Length Mean.Sepal.Width\n",
       "1 setosa     5.006             3.428           \n",
       "2 versicolor 5.936             2.770           \n",
       "3 virginica  6.588             2.974           "
      ]
     },
     "metadata": {},
     "output_type": "display_data"
    }
   ],
   "source": [
    "iris %>%\n",
    "    group_by(Species) %>%\n",
    "    summarise(Mean.Sepal.Length = mean(Sepal.Length),\n",
    "             Mean.Sepal.Width = mean(Sepal.Width))"
   ]
  },
  {
   "cell_type": "code",
   "execution_count": 33,
   "metadata": {
    "collapsed": false
   },
   "outputs": [
    {
     "name": "stdout",
     "output_type": "stream",
     "text": [
      "'data.frame':\t150 obs. of  5 variables:\n",
      " $ Sepal.Length: num  5.1 4.9 4.7 4.6 5 5.4 4.6 5 4.4 4.9 ...\n",
      " $ Sepal.Width : num  3.5 3 3.2 3.1 3.6 3.9 3.4 3.4 2.9 3.1 ...\n",
      " $ Petal.Length: num  1.4 1.4 1.3 1.5 1.4 1.7 1.4 1.5 1.4 1.5 ...\n",
      " $ Petal.Width : num  0.2 0.2 0.2 0.2 0.2 0.4 0.3 0.2 0.2 0.1 ...\n",
      " $ Species     : Factor w/ 3 levels \"setosa\",\"versicolor\",..: 1 1 1 1 1 1 1 1 1 1 ...\n"
     ]
    }
   ],
   "source": [
    "# group_by adds grouping info 'under the hood'\n",
    "\n",
    "str(iris)"
   ]
  },
  {
   "cell_type": "code",
   "execution_count": 34,
   "metadata": {
    "collapsed": false
   },
   "outputs": [
    {
     "name": "stdout",
     "output_type": "stream",
     "text": [
      "Classes ‘grouped_df’, ‘tbl_df’, ‘tbl’ and 'data.frame':\t150 obs. of  5 variables:\n",
      " $ Sepal.Length: num  5.1 4.9 4.7 4.6 5 5.4 4.6 5 4.4 4.9 ...\n",
      " $ Sepal.Width : num  3.5 3 3.2 3.1 3.6 3.9 3.4 3.4 2.9 3.1 ...\n",
      " $ Petal.Length: num  1.4 1.4 1.3 1.5 1.4 1.7 1.4 1.5 1.4 1.5 ...\n",
      " $ Petal.Width : num  0.2 0.2 0.2 0.2 0.2 0.4 0.3 0.2 0.2 0.1 ...\n",
      " $ Species     : Factor w/ 3 levels \"setosa\",\"versicolor\",..: 1 1 1 1 1 1 1 1 1 1 ...\n",
      " - attr(*, \"vars\")= chr \"Species\"\n",
      " - attr(*, \"drop\")= logi TRUE\n",
      " - attr(*, \"indices\")=List of 3\n",
      "  ..$ : int  0 1 2 3 4 5 6 7 8 9 ...\n",
      "  ..$ : int  50 51 52 53 54 55 56 57 58 59 ...\n",
      "  ..$ : int  100 101 102 103 104 105 106 107 108 109 ...\n",
      " - attr(*, \"group_sizes\")= int  50 50 50\n",
      " - attr(*, \"biggest_group_size\")= int 50\n",
      " - attr(*, \"labels\")='data.frame':\t3 obs. of  1 variable:\n",
      "  ..$ Species: Factor w/ 3 levels \"setosa\",\"versicolor\",..: 1 2 3\n",
      "  ..- attr(*, \"vars\")= chr \"Species\"\n",
      "  ..- attr(*, \"drop\")= logi TRUE\n"
     ]
    }
   ],
   "source": [
    "iris %>%\n",
    "    group_by(Species) %>%\n",
    "    str()"
   ]
  },
  {
   "cell_type": "code",
   "execution_count": 35,
   "metadata": {
    "collapsed": false
   },
   "outputs": [
    {
     "name": "stdout",
     "output_type": "stream",
     "text": [
      "Classes ‘tbl_df’, ‘tbl’ and 'data.frame':\t150 obs. of  5 variables:\n",
      " $ Sepal.Length: num  5.1 4.9 4.7 4.6 5 5.4 4.6 5 4.4 4.9 ...\n",
      " $ Sepal.Width : num  3.5 3 3.2 3.1 3.6 3.9 3.4 3.4 2.9 3.1 ...\n",
      " $ Petal.Length: num  1.4 1.4 1.3 1.5 1.4 1.7 1.4 1.5 1.4 1.5 ...\n",
      " $ Petal.Width : num  0.2 0.2 0.2 0.2 0.2 0.4 0.3 0.2 0.2 0.1 ...\n",
      " $ Species     : Factor w/ 3 levels \"setosa\",\"versicolor\",..: 1 1 1 1 1 1 1 1 1 1 ...\n"
     ]
    }
   ],
   "source": [
    "# can be removed if necessary\n",
    "iris %>%\n",
    "    group_by(Species) %>%\n",
    "    ungroup() %>%\n",
    "    str()"
   ]
  }
 ],
 "metadata": {
  "anaconda-cloud": {},
  "kernelspec": {
   "display_name": "R",
   "language": "R",
   "name": "ir"
  },
  "language_info": {
   "codemirror_mode": "r",
   "file_extension": ".r",
   "mimetype": "text/x-r-source",
   "name": "R",
   "pygments_lexer": "r",
   "version": "3.3.2"
  }
 },
 "nbformat": 4,
 "nbformat_minor": 2
}
