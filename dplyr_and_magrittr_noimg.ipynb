{
 "cells": [
  {
   "cell_type": "markdown",
   "metadata": {},
   "source": [
    "## `dplyr` and `magrittr`\n",
    "\n",
    "**Author: Ahmed Hasan**\n",
    "\n",
    "Made for UofT Coders - to be delivered 19/07/2017\n",
    "\n",
    "<hr>\n",
    "\n",
    "Using the R packages `dplyr` and pipes a la bash via `magrittr`, we have a very powerful toolset for data wrangling and manipulation.\n",
    "\n",
    "`dplyr` is built around 5 verbs. These verbs make up the majority of the data manipulation you tend to do. You might need to:\n",
    "\n",
    "- `select` certain columns of data.\n",
    "- `filter` your data to select specific rows.\n",
    "- `arrange` the rows of your data into an order.\n",
    "- `mutate` your data frame to contain new columns/variables.\n",
    "- `summarise` chunks of your data in some way.\n",
    "\n",
    "Lesson adapted from [Stat545](http://stat545.com/block009_dplyr-intro.html) and Hadley Wickham's own [`dplyr` workshop](http://datascience.la/hadley-wickhams-dplyr-tutorial-at-user-2014-part-1/)."
   ]
  },
  {
   "cell_type": "code",
   "execution_count": null,
   "metadata": {
    "collapsed": true
   },
   "outputs": [],
   "source": [
    "# install.packages('dplyr')\n",
    "# install.packages('magrittr')"
   ]
  },
  {
   "cell_type": "code",
   "execution_count": null,
   "metadata": {
    "collapsed": false
   },
   "outputs": [],
   "source": [
    "library(dplyr, warn.conflicts = FALSE)"
   ]
  },
  {
   "cell_type": "code",
   "execution_count": null,
   "metadata": {
    "collapsed": false
   },
   "outputs": [],
   "source": [
    "str(iris)"
   ]
  },
  {
   "cell_type": "code",
   "execution_count": null,
   "metadata": {
    "collapsed": false
   },
   "outputs": [],
   "source": [
    "head(iris)"
   ]
  },
  {
   "cell_type": "markdown",
   "metadata": {},
   "source": [
    "<center><h2> `iris` is a _tidy_ dataset </h2></center>\n",
    "\n",
    "<center><h2> `dplyr` is optimized for work with tidy data </h2></center>"
   ]
  },
  {
   "cell_type": "markdown",
   "metadata": {},
   "source": [
    "<center><h1> `filter` - subsetting rows </h1></center>"
   ]
  },
  {
   "cell_type": "code",
   "execution_count": null,
   "metadata": {
    "collapsed": false,
    "scrolled": true
   },
   "outputs": [],
   "source": [
    "filter(iris, Sepal.Length >= 6.5)"
   ]
  },
  {
   "cell_type": "code",
   "execution_count": null,
   "metadata": {
    "collapsed": false
   },
   "outputs": [],
   "source": [
    "filter(iris, Sepal.Length >= 6.5, Species == 'virginica')"
   ]
  },
  {
   "cell_type": "code",
   "execution_count": null,
   "metadata": {
    "collapsed": false
   },
   "outputs": [],
   "source": [
    "filter(iris, Sepal.Length < 5.0, Species %in% c('versicolor', 'setosa'))"
   ]
  },
  {
   "cell_type": "markdown",
   "metadata": {},
   "source": [
    "<center><h1> Before we go any further - meet the pipe </h1></center>\n",
    "<br>\n",
    "<center>\n",
    "```\n",
    "f(x) == x %>% f()\n",
    "\n",
    "f(x, y) == x %>% f(y)\n",
    "\n",
    "f(x, y) == y %>% f(x, .)\n",
    "\n",
    "```\n",
    "</center>    "
   ]
  },
  {
   "cell_type": "code",
   "execution_count": null,
   "metadata": {
    "collapsed": true
   },
   "outputs": [],
   "source": [
    "library(magrittr)"
   ]
  },
  {
   "cell_type": "code",
   "execution_count": null,
   "metadata": {
    "collapsed": false
   },
   "outputs": [],
   "source": [
    "head(iris)"
   ]
  },
  {
   "cell_type": "code",
   "execution_count": null,
   "metadata": {
    "collapsed": false
   },
   "outputs": [],
   "source": [
    "iris %>% head()"
   ]
  },
  {
   "cell_type": "code",
   "execution_count": null,
   "metadata": {
    "collapsed": false
   },
   "outputs": [],
   "source": [
    "head(iris, 3)"
   ]
  },
  {
   "cell_type": "code",
   "execution_count": null,
   "metadata": {
    "collapsed": false
   },
   "outputs": [],
   "source": [
    "iris %>% head(3)"
   ]
  },
  {
   "cell_type": "code",
   "execution_count": null,
   "metadata": {
    "collapsed": false
   },
   "outputs": [],
   "source": [
    "3 %>% head(iris, .)"
   ]
  },
  {
   "cell_type": "markdown",
   "metadata": {},
   "source": [
    "<center><h1> `select` - subsetting columns </h1></center>"
   ]
  },
  {
   "cell_type": "code",
   "execution_count": null,
   "metadata": {
    "collapsed": false
   },
   "outputs": [],
   "source": [
    "select(iris, Sepal.Length)"
   ]
  },
  {
   "cell_type": "code",
   "execution_count": null,
   "metadata": {
    "collapsed": false
   },
   "outputs": [],
   "source": [
    "select(iris, Sepal.Length, Species) %>% head()"
   ]
  },
  {
   "cell_type": "code",
   "execution_count": null,
   "metadata": {
    "collapsed": false
   },
   "outputs": [],
   "source": [
    "select(iris, contains('Sepal'), Species) %>% head()"
   ]
  },
  {
   "cell_type": "code",
   "execution_count": null,
   "metadata": {
    "collapsed": false
   },
   "outputs": [],
   "source": [
    "select(iris, starts_with('Sepal'), ends_with('Length')) %>% head()"
   ]
  },
  {
   "cell_type": "code",
   "execution_count": null,
   "metadata": {
    "collapsed": false
   },
   "outputs": [],
   "source": [
    "# renaming with select\n",
    "\n",
    "select(iris, SL = Sepal.Length, SW = Sepal.Width) %>% head()"
   ]
  },
  {
   "cell_type": "markdown",
   "metadata": {},
   "source": [
    "Combining `select` and `filter` using the pipe:"
   ]
  },
  {
   "cell_type": "code",
   "execution_count": null,
   "metadata": {
    "collapsed": false
   },
   "outputs": [],
   "source": [
    "class(select(iris, Sepal.Length)) # is a data frame"
   ]
  },
  {
   "cell_type": "code",
   "execution_count": null,
   "metadata": {
    "collapsed": false
   },
   "outputs": [],
   "source": [
    "select(iris, Sepal.Length) %>%\n",
    "filter(Sepal.Length > 7.0) # notice lack of first argument here"
   ]
  },
  {
   "cell_type": "code",
   "execution_count": null,
   "metadata": {
    "collapsed": false
   },
   "outputs": [],
   "source": [
    "# could be restructured as -\n",
    "iris %>%\n",
    "    select(Sepal.Length) %>%\n",
    "    filter(Sepal.Length > 7.0)\n",
    "\n",
    "# almost reads like a recipe!"
   ]
  },
  {
   "cell_type": "code",
   "execution_count": null,
   "metadata": {
    "collapsed": false
   },
   "outputs": [],
   "source": [
    "iris %>%\n",
    "    select(Sepal.Length) %>%\n",
    "    filter(Sepal.Length > 7.0) %>%\n",
    "    arrange(Sepal.Length)"
   ]
  },
  {
   "cell_type": "code",
   "execution_count": null,
   "metadata": {
    "collapsed": false
   },
   "outputs": [],
   "source": [
    "iris %>%\n",
    "    select(Sepal.Length) %>%\n",
    "    filter(Sepal.Length > 7.0) %>%\n",
    "    arrange(desc(Sepal.Length))"
   ]
  },
  {
   "cell_type": "code",
   "execution_count": null,
   "metadata": {
    "collapsed": false
   },
   "outputs": [],
   "source": [
    "head(iris)"
   ]
  },
  {
   "cell_type": "code",
   "execution_count": null,
   "metadata": {
    "collapsed": false
   },
   "outputs": [],
   "source": [
    "# arranging by x *then* y\n",
    "\n",
    "iris %>%\n",
    "    select(Petal.Length:Species) %>%\n",
    "    arrange(Petal.Length, Petal.Width)"
   ]
  },
  {
   "cell_type": "markdown",
   "metadata": {},
   "source": [
    "<center><h1> `mutate` - create new columns </h1></center>"
   ]
  },
  {
   "cell_type": "code",
   "execution_count": null,
   "metadata": {
    "collapsed": false
   },
   "outputs": [],
   "source": [
    "iris %>%\n",
    "    mutate(Sepal.Area = Sepal.Width * Sepal.Length,\n",
    "          Petal.Area = Petal.Width * Petal.Length) %>%\n",
    "    head()"
   ]
  },
  {
   "cell_type": "code",
   "execution_count": null,
   "metadata": {
    "collapsed": false
   },
   "outputs": [],
   "source": [
    "iris %>%\n",
    "    filter(Species == 'setosa') %>%\n",
    "    mutate(Length.Diff = Sepal.Length - Petal.Length) %>%\n",
    "    select(Length.Diff) %>%\n",
    "    head()"
   ]
  },
  {
   "cell_type": "markdown",
   "metadata": {},
   "source": [
    "<center><h1> `group_by` and `mutate` - create new variables in a grouped fashion</h1></center>"
   ]
  },
  {
   "cell_type": "code",
   "execution_count": null,
   "metadata": {
    "collapsed": false
   },
   "outputs": [],
   "source": [
    "iris %>%\n",
    "    group_by(Species) %>%\n",
    "    mutate(Sepal.Length.Deviation = mean(Sepal.Length) - Sepal.Length) %>%\n",
    "    head()"
   ]
  },
  {
   "cell_type": "code",
   "execution_count": null,
   "metadata": {
    "collapsed": false
   },
   "outputs": [],
   "source": [
    "iris %>%\n",
    "    mutate(Sepal.Area = Sepal.Width * Sepal.Length,\n",
    "           Petal.Area = Petal.Width * Petal.Length) %>%\n",
    "    group_by(Species) %>%\n",
    "    mutate(Grouped.Area.Ratio = Sepal.Area / mean(Sepal.Area)) %>%\n",
    "    head()"
   ]
  },
  {
   "cell_type": "markdown",
   "metadata": {},
   "source": [
    "<center><h1> `summarise` - summarise your data</h1></center>\n",
    "\n",
    "<center><h1> `group_by` and `summarise` - summarise your data in a grouped fashion</h1></center>"
   ]
  },
  {
   "cell_type": "code",
   "execution_count": null,
   "metadata": {
    "collapsed": false
   },
   "outputs": [],
   "source": [
    "iris %>%\n",
    "    group_by(Species) %>%\n",
    "    summarise(n = n())"
   ]
  },
  {
   "cell_type": "code",
   "execution_count": null,
   "metadata": {
    "collapsed": false
   },
   "outputs": [],
   "source": [
    "iris %>%\n",
    "    count(Species)"
   ]
  },
  {
   "cell_type": "code",
   "execution_count": null,
   "metadata": {
    "collapsed": false
   },
   "outputs": [],
   "source": [
    "iris %>%\n",
    "    group_by(Species) %>%\n",
    "    head()"
   ]
  },
  {
   "cell_type": "code",
   "execution_count": null,
   "metadata": {
    "collapsed": false
   },
   "outputs": [],
   "source": [
    "iris %>%\n",
    "    group_by(Species) %>%\n",
    "    summarise(Mean.Sepal.Length = mean(Sepal.Length),\n",
    "             Mean.Sepal.Width = mean(Sepal.Width))"
   ]
  },
  {
   "cell_type": "code",
   "execution_count": null,
   "metadata": {
    "collapsed": false
   },
   "outputs": [],
   "source": [
    "# group_by adds grouping info 'under the hood'\n",
    "\n",
    "str(iris)"
   ]
  },
  {
   "cell_type": "code",
   "execution_count": null,
   "metadata": {
    "collapsed": false
   },
   "outputs": [],
   "source": [
    "iris %>%\n",
    "    group_by(Species) %>%\n",
    "    str()"
   ]
  },
  {
   "cell_type": "code",
   "execution_count": null,
   "metadata": {
    "collapsed": false
   },
   "outputs": [],
   "source": [
    "# this can be removed if necessary\n",
    "iris %>%\n",
    "    group_by(Species) %>%\n",
    "    ungroup() %>%\n",
    "    str()"
   ]
  },
  {
   "cell_type": "markdown",
   "metadata": {},
   "source": [
    "<center><h1> other `magrittr` tricks</h1></center>"
   ]
  },
  {
   "cell_type": "code",
   "execution_count": null,
   "metadata": {
    "collapsed": false
   },
   "outputs": [],
   "source": [
    "# tee operator\n",
    "# passes LHS to RHS, but prints LHS \n",
    "\n",
    "library(ggplot2)\n",
    "\n",
    "iris.summary <-\n",
    "    iris %>%\n",
    "    group_by(Species) %>%\n",
    "    summarise(Mean.Sepal.Length = mean(Sepal.Length),\n",
    "             Mean.Sepal.Width = mean(Sepal.Width)) %T>% # tee prints LHS\n",
    "    plot()"
   ]
  },
  {
   "cell_type": "code",
   "execution_count": null,
   "metadata": {
    "collapsed": false,
    "scrolled": true
   },
   "outputs": [],
   "source": [
    "# notice how the plot didn't get saved to our df\n",
    "\n",
    "iris.summary"
   ]
  },
  {
   "cell_type": "code",
   "execution_count": null,
   "metadata": {
    "collapsed": false
   },
   "outputs": [],
   "source": [
    "# other trick - compound assignment\n",
    "\n",
    "sepals.only <- select(iris, contains(\"Sepal\"), Species)\n",
    "head(sepals.only)"
   ]
  },
  {
   "cell_type": "code",
   "execution_count": null,
   "metadata": {
    "collapsed": false
   },
   "outputs": [],
   "source": [
    "sepals.only <-\n",
    "    sepals.only %>%\n",
    "    mutate(Sepal.Area = Sepal.Length * Sepal.Width)\n",
    "\n",
    "head(sepals.only)"
   ]
  },
  {
   "cell_type": "code",
   "execution_count": null,
   "metadata": {
    "collapsed": false
   },
   "outputs": [],
   "source": [
    "# or we could use the compound assignment operator\n",
    "\n",
    "sepals.only <- select(iris, contains(\"Sepal\"), Species)\n",
    "\n",
    "sepals.only %<>%\n",
    "    mutate(Sepal.Area = Sepal.Length * Sepal.Width)\n",
    "\n",
    "head(sepals.only)"
   ]
  }
 ],
 "metadata": {
  "anaconda-cloud": {},
  "kernelspec": {
   "display_name": "R",
   "language": "R",
   "name": "ir"
  },
  "language_info": {
   "codemirror_mode": "r",
   "file_extension": ".r",
   "mimetype": "text/x-r-source",
   "name": "R",
   "pygments_lexer": "r",
   "version": "3.3.2"
  }
 },
 "nbformat": 4,
 "nbformat_minor": 2
}
